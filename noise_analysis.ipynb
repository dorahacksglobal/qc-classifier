{
 "cells": [
  {
   "cell_type": "markdown",
   "metadata": {},
   "source": [
    "Performing baseline measurements on measured QRNG dataset"
   ]
  },
  {
   "cell_type": "code",
   "execution_count": 3,
   "metadata": {},
   "outputs": [],
   "source": [
    "import numpy as np\n",
    "import pandas as pd\n",
    "import matplotlib.pyplot as plt"
   ]
  },
  {
   "cell_type": "code",
   "execution_count": 4,
   "metadata": {},
   "outputs": [
    {
     "data": {
      "text/html": [
       "<div>\n",
       "<style scoped>\n",
       "    .dataframe tbody tr th:only-of-type {\n",
       "        vertical-align: middle;\n",
       "    }\n",
       "\n",
       "    .dataframe tbody tr th {\n",
       "        vertical-align: top;\n",
       "    }\n",
       "\n",
       "    .dataframe thead th {\n",
       "        text-align: right;\n",
       "    }\n",
       "</style>\n",
       "<table border=\"1\" class=\"dataframe\">\n",
       "  <thead>\n",
       "    <tr style=\"text-align: right;\">\n",
       "      <th></th>\n",
       "      <th>binary_string</th>\n",
       "      <th>quantum</th>\n",
       "      <th>QPU</th>\n",
       "    </tr>\n",
       "  </thead>\n",
       "  <tbody>\n",
       "    <tr>\n",
       "      <th>0</th>\n",
       "      <td>0001011100100011110100100001101111000011010101...</td>\n",
       "      <td>quantum</td>\n",
       "      <td>ibm_brisbane</td>\n",
       "    </tr>\n",
       "    <tr>\n",
       "      <th>1</th>\n",
       "      <td>0110101010000001110100000100111101101111110111...</td>\n",
       "      <td>quantum</td>\n",
       "      <td>ibm_brisbane</td>\n",
       "    </tr>\n",
       "    <tr>\n",
       "      <th>2</th>\n",
       "      <td>1001001010000000001111010010111000100011110000...</td>\n",
       "      <td>quantum</td>\n",
       "      <td>ibm_brisbane</td>\n",
       "    </tr>\n",
       "    <tr>\n",
       "      <th>3</th>\n",
       "      <td>0101100101110010001001011000011010111011101101...</td>\n",
       "      <td>quantum</td>\n",
       "      <td>ibm_brisbane</td>\n",
       "    </tr>\n",
       "    <tr>\n",
       "      <th>4</th>\n",
       "      <td>1000101001000000111110011000010111010011111110...</td>\n",
       "      <td>quantum</td>\n",
       "      <td>ibm_brisbane</td>\n",
       "    </tr>\n",
       "    <tr>\n",
       "      <th>...</th>\n",
       "      <td>...</td>\n",
       "      <td>...</td>\n",
       "      <td>...</td>\n",
       "    </tr>\n",
       "    <tr>\n",
       "      <th>39995</th>\n",
       "      <td>0010010110101100011000101110101101010110000011...</td>\n",
       "      <td>quantum</td>\n",
       "      <td>ibm_sherbrooke</td>\n",
       "    </tr>\n",
       "    <tr>\n",
       "      <th>39996</th>\n",
       "      <td>1101001111000011101100001011011000010001100011...</td>\n",
       "      <td>quantum</td>\n",
       "      <td>ibm_sherbrooke</td>\n",
       "    </tr>\n",
       "    <tr>\n",
       "      <th>39997</th>\n",
       "      <td>0010000101001010011001111001100100011011100000...</td>\n",
       "      <td>quantum</td>\n",
       "      <td>ibm_sherbrooke</td>\n",
       "    </tr>\n",
       "    <tr>\n",
       "      <th>39998</th>\n",
       "      <td>0010110101100001001111101000111100010111111000...</td>\n",
       "      <td>quantum</td>\n",
       "      <td>ibm_sherbrooke</td>\n",
       "    </tr>\n",
       "    <tr>\n",
       "      <th>39999</th>\n",
       "      <td>0011101110000010101001010011100000111101001010...</td>\n",
       "      <td>quantum</td>\n",
       "      <td>ibm_sherbrooke</td>\n",
       "    </tr>\n",
       "  </tbody>\n",
       "</table>\n",
       "<p>40000 rows × 3 columns</p>\n",
       "</div>"
      ],
      "text/plain": [
       "                                           binary_string  quantum  \\\n",
       "0      0001011100100011110100100001101111000011010101...  quantum   \n",
       "1      0110101010000001110100000100111101101111110111...  quantum   \n",
       "2      1001001010000000001111010010111000100011110000...  quantum   \n",
       "3      0101100101110010001001011000011010111011101101...  quantum   \n",
       "4      1000101001000000111110011000010111010011111110...  quantum   \n",
       "...                                                  ...      ...   \n",
       "39995  0010010110101100011000101110101101010110000011...  quantum   \n",
       "39996  1101001111000011101100001011011000010001100011...  quantum   \n",
       "39997  0010000101001010011001111001100100011011100000...  quantum   \n",
       "39998  0010110101100001001111101000111100010111111000...  quantum   \n",
       "39999  0011101110000010101001010011100000111101001010...  quantum   \n",
       "\n",
       "                  QPU  \n",
       "0        ibm_brisbane  \n",
       "1        ibm_brisbane  \n",
       "2        ibm_brisbane  \n",
       "3        ibm_brisbane  \n",
       "4        ibm_brisbane  \n",
       "...               ...  \n",
       "39995  ibm_sherbrooke  \n",
       "39996  ibm_sherbrooke  \n",
       "39997  ibm_sherbrooke  \n",
       "39998  ibm_sherbrooke  \n",
       "39999  ibm_sherbrooke  \n",
       "\n",
       "[40000 rows x 3 columns]"
      ]
     },
     "execution_count": 4,
     "metadata": {},
     "output_type": "execute_result"
    }
   ],
   "source": [
    "data = pd.read_csv('data/IBM_Superposition_QRNG_100qubit.txt', names=['binary_string', 'quantum', 'QPU'], sep=' ')\n",
    "quantum_data = data[:40000]\n",
    "quantum_data"
   ]
  },
  {
   "cell_type": "code",
   "execution_count": 5,
   "metadata": {},
   "outputs": [
    {
     "data": {
      "text/plain": [
       "[20111,\n",
       " 20277,\n",
       " 20086,\n",
       " 20667,\n",
       " 20016,\n",
       " 19975,\n",
       " 20503,\n",
       " 20171,\n",
       " 19716,\n",
       " 19458,\n",
       " 20025,\n",
       " 19828,\n",
       " 19113,\n",
       " 20037,\n",
       " 19914,\n",
       " 19744,\n",
       " 19235,\n",
       " 20217,\n",
       " 19680,\n",
       " 19585,\n",
       " 19992,\n",
       " 15543,\n",
       " 19605,\n",
       " 18977,\n",
       " 20275,\n",
       " 19862,\n",
       " 19830,\n",
       " 20086,\n",
       " 20053,\n",
       " 18101,\n",
       " 20099,\n",
       " 18076,\n",
       " 20079,\n",
       " 19056,\n",
       " 19835,\n",
       " 19231,\n",
       " 20277,\n",
       " 19469,\n",
       " 21113,\n",
       " 19633,\n",
       " 19469,\n",
       " 19799,\n",
       " 20235,\n",
       " 14755,\n",
       " 19189,\n",
       " 20007,\n",
       " 20813,\n",
       " 20030,\n",
       " 20271,\n",
       " 19867,\n",
       " 19674,\n",
       " 20139,\n",
       " 20171,\n",
       " 19297,\n",
       " 19441,\n",
       " 19807,\n",
       " 20300,\n",
       " 19916,\n",
       " 20155,\n",
       " 19291,\n",
       " 19959,\n",
       " 19810,\n",
       " 19573,\n",
       " 19514,\n",
       " 20348,\n",
       " 20704,\n",
       " 20411,\n",
       " 19905,\n",
       " 20317,\n",
       " 20512,\n",
       " 20051,\n",
       " 20886,\n",
       " 19523,\n",
       " 19972,\n",
       " 19640,\n",
       " 22367,\n",
       " 20237,\n",
       " 18902,\n",
       " 20420,\n",
       " 21821,\n",
       " 19635,\n",
       " 19835,\n",
       " 20245,\n",
       " 20971,\n",
       " 20026,\n",
       " 19514,\n",
       " 19853,\n",
       " 18895,\n",
       " 19775,\n",
       " 20211,\n",
       " 19842,\n",
       " 20580,\n",
       " 19742,\n",
       " 19452,\n",
       " 19983,\n",
       " 20172,\n",
       " 20278,\n",
       " 20098,\n",
       " 20744,\n",
       " 18230]"
      ]
     },
     "execution_count": 5,
     "metadata": {},
     "output_type": "execute_result"
    }
   ],
   "source": [
    "# Step 1: get 1 and 0 counts for each qubit (100 qubit QRNG circuit).\n",
    "# Since it's binary data, getting the counts of all 1s will give us a distribution of 1s and 0s\n",
    "\n",
    "qubit_one_counts = [0] * 100\n",
    "\n",
    "for binary_string in quantum_data['binary_string']:\n",
    "    for i in range(100):\n",
    "        if binary_string[i] == '1':\n",
    "            qubit_one_counts[i] += 1\n",
    "\n",
    "qubit_one_counts"
   ]
  },
  {
   "cell_type": "code",
   "execution_count": 6,
   "metadata": {},
   "outputs": [
    {
     "data": {
      "image/png": "[encoded data removed]",
      "text/plain": [
       "<Figure size 640x480 with 1 Axes>"
      ]
     },
     "metadata": {},
     "output_type": "display_data"
    },
    {
     "data": {
      "text/plain": [
       "<Figure size 3000x1500 with 0 Axes>"
      ]
     },
     "metadata": {},
     "output_type": "display_data"
    }
   ],
   "source": [
    "x = [i for i in range(100)]\n",
    "\n",
    "plt.bar(x, height=qubit_one_counts)\n",
    "\n",
    "plt.xlabel('Qubit #')\n",
    "plt.ylabel('1 count')\n",
    "\n",
    "plt.figure(figsize=(30, 15))\n",
    "\n",
    "plt.show()"
   ]
  },
  {
   "cell_type": "markdown",
   "metadata": {},
   "source": [
    "Clearly there is signficiant variation in measurement error. Now we check for individual QPUs"
   ]
  },
  {
   "cell_type": "code",
   "execution_count": 7,
   "metadata": {},
   "outputs": [],
   "source": [
    "ibm_brisbane = quantum_data[:10000]\n",
    "ibm_kyoto = quantum_data[10000:20000]\n",
    "ibm_osaka = quantum_data[20000:30000]\n",
    "ibm_sherbrooke = quantum_data[30000:40000]\n",
    "devices = [ibm_brisbane, ibm_kyoto, ibm_osaka, ibm_sherbrooke]"
   ]
  },
  {
   "cell_type": "code",
   "execution_count": 28,
   "metadata": {},
   "outputs": [
    {
     "name": "stdout",
     "output_type": "stream",
     "text": [
      "[4928, 4977, 5187, 4577, 5076, 4898, 4867, 4909, 5279, 4991, 4875, 5133, 5133, 4950, 4918, 4986, 5120, 4724, 5255, 5071, 4996, 5169, 4954, 5030, 4914, 4986, 4943, 4970, 4956, 4950, 4992, 5004, 5161, 5131, 5052, 5028, 5174, 5154, 4923, 4865, 5052, 5029, 5060, 4983, 5144, 5080, 4841, 4947, 5131, 5064, 5039, 4993, 5048, 5094, 5219, 5079, 4932, 4934, 5027, 4948, 4899, 5063, 5684, 4935, 4780, 4551, 5005, 4947, 5005, 4848, 4956, 4702, 5030, 4964, 5026, 2572, 5055, 5064, 4968, 3820, 5026, 5020, 4886, 5049, 5153, 5345, 5013, 4922, 4865, 4978, 4987, 5031, 5170, 5075, 4953, 5051, 4784, 5007, 4653, 4876]\n",
      "[5046, 4746, 4717, 4845, 4919, 4974, 4757, 4996, 5025, 5392, 4991, 4991, 5774, 4836, 4973, 4802, 5569, 5044, 4973, 5330, 4909, 5000, 4614, 5646, 4804, 4964, 5094, 4819, 5028, 6483, 4826, 5134, 5033, 6398, 5031, 5008, 4996, 4927, 5098, 4933, 4873, 5103, 4846, 5173, 5060, 4962, 4909, 5053, 4687, 4935, 5063, 4717, 4707, 5015, 4986, 4992, 5077, 4988, 4915, 5018, 5075, 5275, 4817, 4908, 4851, 5041, 4597, 4806, 4674, 4659, 4993, 4743, 4926, 4958, 5116, 4863, 4551, 4912, 4945, 4970, 5266, 5143, 4965, 5042, 4844, 5143, 5045, 5177, 4862, 4854, 5077, 4814, 4977, 5192, 5012, 4599, 4926, 4981, 4782, 4649]\n",
      "[4905, 4852, 5008, 4898, 4950, 5101, 4642, 4925, 5074, 4964, 5075, 4927, 4909, 5088, 5064, 5126, 4941, 4963, 4991, 5163, 5105, 9377, 5694, 5108, 5082, 5073, 5131, 4918, 4943, 5407, 4936, 6696, 5000, 4239, 4976, 4983, 4778, 4984, 3764, 5484, 5451, 4877, 4946, 5102, 5542, 4920, 4329, 5044, 4891, 5064, 5057, 4987, 4988, 5405, 5047, 5186, 4738, 4959, 4910, 5676, 5087, 4742, 4952, 5351, 4976, 4937, 4975, 5064, 4912, 4979, 4882, 4869, 5021, 4963, 5006, 5081, 5028, 6015, 5140, 4600, 4854, 5002, 4908, 4229, 4871, 5056, 4895, 5040, 5356, 4899, 4996, 4387, 4888, 4866, 5028, 5126, 4851, 4931, 4847, 7191]\n",
      "[5010, 5148, 5002, 5013, 5039, 5052, 5231, 4999, 4906, 5195, 5034, 5121, 5071, 5089, 5131, 5342, 5135, 5052, 5101, 4851, 4998, 4911, 5133, 5239, 4925, 5115, 5002, 5207, 5020, 5059, 5147, 5090, 4727, 5176, 5106, 5750, 4775, 5466, 5102, 5085, 5155, 5192, 4913, 9987, 5065, 5031, 5108, 4926, 5020, 5070, 5167, 5164, 5086, 5189, 5307, 4936, 4953, 5203, 4993, 5067, 4980, 5110, 4974, 5292, 5045, 4767, 5012, 5278, 5092, 5002, 5118, 4800, 5500, 5143, 5212, 5117, 5129, 5107, 4527, 4789, 5219, 5000, 4996, 4709, 5106, 4942, 5194, 5966, 5142, 5058, 5098, 5188, 5223, 5415, 5024, 5052, 5161, 4983, 4974, 5054]\n"
     ]
    }
   ],
   "source": [
    "oneCounts = []\n",
    "for i in range(4):\n",
    "    oneCounts.append([0] * 100)\n",
    "for count, device_data in enumerate(devices):\n",
    "    for binary_string in device_data['binary_string']:\n",
    "        for i in range(0, 100):\n",
    "            if binary_string[i] == '0':\n",
    "                oneCounts[count][i] += 1\n",
    "\n",
    "print(oneCounts[0])\n",
    "print(oneCounts[1])\n",
    "print(oneCounts[2])\n",
    "print(oneCounts[3])"
   ]
  },
  {
   "cell_type": "markdown",
   "metadata": {},
   "source": [
    "Now we will try to extract if there is qubit crosstalk - i.e. if the measurement of a qubit effects the next qubit in the chain"
   ]
  },
  {
   "cell_type": "code",
   "execution_count": null,
   "metadata": {},
   "outputs": [],
   "source": []
  }
 ],
 "metadata": {
  "kernelspec": {
   "display_name": ".venv",
   "language": "python",
   "name": "python3"
  },
  "language_info": {
   "codemirror_mode": {
    "name": "ipython",
    "version": 3
   },
   "file_extension": ".py",
   "mimetype": "text/x-python",
   "name": "python",
   "nbconvert_exporter": "python",
   "pygments_lexer": "ipython3",
   "version": "3.12.4"
  }
 },
 "nbformat": 4,
 "nbformat_minor": 2
}
