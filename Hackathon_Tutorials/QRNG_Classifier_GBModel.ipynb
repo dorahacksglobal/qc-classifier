{
 "cells": [
  {
   "cell_type": "code",
   "execution_count": 2,
   "metadata": {},
   "outputs": [],
   "source": [
    "# Importing the required libraries (install in your environment first)\n",
    "import numpy as np\n",
    "import pandas as pd\n",
    "from math import log2, sqrt\n",
    "from sklearn.metrics import accuracy_score\n",
    "from sklearn.model_selection import train_test_split"
   ]
  },
  {
   "cell_type": "code",
   "execution_count": null,
   "metadata": {},
   "outputs": [],
   "source": [
    "# Read in data from your datafile or the provided datafile in this folder to classify QRNG data. \n",
    "# Suggested classification strategies include QRNG vs PRNG, QPU vs Simulator, or by individual QPU\n",
    "\n",
    "#Sample datafile of QRNG (IBM QPUs) vs PRNG data, 12k lines each. Label 1 is QRNG, label 2 is PRNG\n",
    "data_filePath = 'Hackathon_Tutorials/QRNGvsPRNG_TrainingData.txt'\n",
    "\n",
    "# Read data file, make dataframe, process labels, and combine/concatenate individual input lines into\n",
    "# larger input lines to create training and testing datasets to input into gradient boosting model.\n",
    "# Hint: use train_test_split method from sklearn"
   ]
  },
  {
   "cell_type": "code",
   "execution_count": null,
   "metadata": {},
   "outputs": [],
   "source": [
    "# A skeleton for running your training dataframe through a SKLearn gradient boosting model. \n",
    "# You can also use other ML frameworks such as Pytorch, XGBoost, etc\n",
    "\n",
    "from sklearn.ensemble import GradientBoostingClassifier\n",
    "\n",
    "# Create the Gradient Boosting classifier\n",
    "gb_model = GradientBoostingClassifier(random_state=42)\n",
    "\n",
    "# Train the model. Define X_train and y_train from your training dataframe using \n",
    "# sklearns train_test_split method\n",
    "gb_model.fit(X_train, y_train)\n",
    "\n",
    "# Make predictions on the test set\n",
    "y_pred_gb = gb_model.predict(X_test)\n",
    "\n",
    "# Calculate the accuracy of the Gradient Boosting model\n",
    "accuracy_gb = accuracy_score(y_test, y_pred_gb)\n",
    "print(\"Gradient Boosting Accuracy: \", accuracy_gb)"
   ]
  }
 ],
 "metadata": {
  "kernelspec": {
   "display_name": ".venv",
   "language": "python",
   "name": "python3"
  },
  "language_info": {
   "codemirror_mode": {
    "name": "ipython",
    "version": 3
   },
   "file_extension": ".py",
   "mimetype": "text/x-python",
   "name": "python",
   "nbconvert_exporter": "python",
   "pygments_lexer": "ipython3",
   "version": "3.12.4"
  }
 },
 "nbformat": 4,
 "nbformat_minor": 2
}
