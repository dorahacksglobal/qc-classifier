{
 "cells": [
  {
   "cell_type": "code",
   "execution_count": 10,
   "metadata": {},
   "outputs": [],
   "source": [
    "#Install these libraries first in your environment\n",
    "import numpy as np\n",
    "from qiskit import QuantumCircuit, transpile\n",
    "from qiskit.visualization.counts_visualization import plot_histogram"
   ]
  },
  {
   "cell_type": "code",
   "execution_count": 11,
   "metadata": {},
   "outputs": [],
   "source": [
    "#Building a 4 qubit quantum circuit with all qubits in equal superposition using hadamard gate (necessary for QRNG)\n",
    "\n",
    "HGateCircuit = QuantumCircuit(4)\n",
    "HGateCircuit.h(0)\n",
    "HGateCircuit.h(1)\n",
    "HGateCircuit.h(2)\n",
    "HGateCircuit.h(3)\n",
    "HGateCircuit.measure_all()"
   ]
  },
  {
   "cell_type": "code",
   "execution_count": 12,
   "metadata": {},
   "outputs": [
    {
     "data": {
      "text/html": [
       "<pre style=\"word-wrap: normal;white-space: pre;background: #fff0;line-height: 1.1;font-family: &quot;Courier New&quot;,Courier,monospace\">        ┌───┐ ░ ┌─┐         \n",
       "   q_0: ┤ H ├─░─┤M├─────────\n",
       "        ├───┤ ░ └╥┘┌─┐      \n",
       "   q_1: ┤ H ├─░──╫─┤M├──────\n",
       "        ├───┤ ░  ║ └╥┘┌─┐   \n",
       "   q_2: ┤ H ├─░──╫──╫─┤M├───\n",
       "        ├───┤ ░  ║  ║ └╥┘┌─┐\n",
       "   q_3: ┤ H ├─░──╫──╫──╫─┤M├\n",
       "        └───┘ ░  ║  ║  ║ └╥┘\n",
       "meas: 4/═════════╩══╩══╩══╩═\n",
       "                 0  1  2  3 </pre>"
      ],
      "text/plain": [
       "        ┌───┐ ░ ┌─┐         \n",
       "   q_0: ┤ H ├─░─┤M├─────────\n",
       "        ├───┤ ░ └╥┘┌─┐      \n",
       "   q_1: ┤ H ├─░──╫─┤M├──────\n",
       "        ├───┤ ░  ║ └╥┘┌─┐   \n",
       "   q_2: ┤ H ├─░──╫──╫─┤M├───\n",
       "        ├───┤ ░  ║  ║ └╥┘┌─┐\n",
       "   q_3: ┤ H ├─░──╫──╫──╫─┤M├\n",
       "        └───┘ ░  ║  ║  ║ └╥┘\n",
       "meas: 4/═════════╩══╩══╩══╩═\n",
       "                 0  1  2  3 "
      ]
     },
     "execution_count": 12,
     "metadata": {},
     "output_type": "execute_result"
    }
   ],
   "source": [
    "#Visualization of circuit\n",
    "\n",
    "HGateCircuit.draw()"
   ]
  },
  {
   "cell_type": "code",
   "execution_count": 13,
   "metadata": {},
   "outputs": [
    {
     "name": "stdout",
     "output_type": "stream",
     "text": [
      "{'0100': 6, '1001': 11, '0001': 9, '1110': 7, '1011': 8, '0010': 6, '0110': 6, '0111': 6, '1101': 7, '1010': 4, '0101': 4, '1100': 4, '0000': 7, '1000': 4, '0011': 8, '1111': 3}\n"
     ]
    },
    {
     "name": "stderr",
     "output_type": "stream",
     "text": [
      "/Users/shrey/Dev/qc-classifier/.venv/lib/python3.12/site-packages/qiskit/providers/fake_provider/fake_backend.py:153: RuntimeWarning: Aer not found using BasicAer and no noise\n",
      "  warnings.warn(\"Aer not found using BasicAer and no noise\", RuntimeWarning)\n"
     ]
    }
   ],
   "source": [
    "from qiskit.providers.fake_provider.backends_v1 import Fake20QV1\n",
    "#Example of how to connect to a qiskit simulator and run the circuit. This will be a little different for connecting to actual IBM QPUs, for which you will have to use the qiskit runtime environment module\n",
    "\n",
    "simulator = Fake20QV1()\n",
    "\n",
    "#Creating the simulator job. You must transpile any ciruit to whatever (real or fake) quantum backend you are using.\n",
    "job = simulator.run(transpile(HGateCircuit, simulator), shots = 100, memory = True)\n",
    "\n",
    "\n",
    "#Getting the job results in dictionary results form. You can also access the individual output in tuple form using the jobResult.get_memory() function\n",
    "resultCounts = job.result().get_counts()\n",
    "\n",
    "print(resultCounts)"
   ]
  }
 ],
 "metadata": {
  "kernelspec": {
   "display_name": ".venv",
   "language": "python",
   "name": "python3"
  },
  "language_info": {
   "codemirror_mode": {
    "name": "ipython",
    "version": 3
   },
   "file_extension": ".py",
   "mimetype": "text/x-python",
   "name": "python",
   "nbconvert_exporter": "python",
   "pygments_lexer": "ipython3",
   "version": "3.12.4"
  }
 },
 "nbformat": 4,
 "nbformat_minor": 2
}
