{
 "cells": [
  {
   "cell_type": "code",
   "execution_count": 19,
   "id": "210f319f-4d01-4f8e-9215-e54afcb88771",
   "metadata": {
    "tags": []
   },
   "outputs": [],
   "source": [
    "from braket.circuits import Circuit\n",
    "import numpy as np\n",
    "from braket.aws import AwsDevice, AwsQuantumTask\n",
    "from braket.circuits import Circuit\n",
    "from braket.devices import LocalSimulator \n",
    "from braket.tracking import Tracker"
   ]
  },
  {
   "cell_type": "code",
   "execution_count": 20,
   "id": "81ce3eb2-2553-40e7-bcc2-ee8b5d95aafc",
   "metadata": {
    "tags": []
   },
   "outputs": [],
   "source": [
    "class TwoBitCircuit():\n",
    "    def __init__(self, code, control, act):\n",
    "        self.__name__ = code\n",
    "        self.control = control\n",
    "        self.act = act\n",
    "        self.circuit = Circuit()\n",
    "        self._activate_bell_state()\n",
    "        if code == 'a0b0':\n",
    "            self._apply_a0b0()\n",
    "        elif code == 'a0b1':\n",
    "            self._apply_a0b1()\n",
    "        elif code == 'a1b0':\n",
    "            self._apply_a1b0()\n",
    "        elif code == 'a1b1':\n",
    "            self._apply_a1b1()\n",
    "        else:\n",
    "            raise ValueError('Wrong code.')\n",
    "\n",
    "    def _activate_bell_state(self):\n",
    "        self.circuit = Circuit()\n",
    "        self.circuit.h(self.control).cnot(self.control, self.act)\n",
    "        return\n",
    "\n",
    "    def _apply_a0b0(self):\n",
    "        self.circuit.s(self.act).h(self.act).t(self.act).h(self.act)\n",
    "        return\n",
    "\n",
    "    def _apply_a0b1(self):\n",
    "        self.circuit.s(self.act).h(self.act).ti(self.act).h(self.act)\n",
    "        return\n",
    "\n",
    "    def _apply_a1b0(self):\n",
    "        self.circuit.h(self.control)\n",
    "        self.circuit.s(self.act).h(self.act).t(self.act).h(self.act)\n",
    "        return\n",
    "\n",
    "    def _apply_a1b1(self):\n",
    "        self.circuit.h(self.control)\n",
    "        self.circuit.s(self.act).h(self.act).ti(self.act).h(self.act)\n",
    "        return"
   ]
  },
  {
   "cell_type": "code",
   "execution_count": 21,
   "id": "a4a7f16f-5197-48ba-8132-912257f7b813",
   "metadata": {
    "tags": []
   },
   "outputs": [],
   "source": [
    "device = AwsDevice(\"arn:aws:braket:us-east-1::device/qpu/ionq/Aria-1\")\n",
    "\n",
    "shotsnum = 50\n",
    "cq = 0\n",
    "aq = 1\n",
    "\n",
    "a0b0_circuit = TwoBitCircuit('a0b0',cq,aq).circuit\n",
    "a0b1_circuit = TwoBitCircuit('a0b1',cq,aq).circuit\n",
    "a1b0_circuit = TwoBitCircuit('a1b0',cq,aq).circuit\n",
    "a1b1_circuit = TwoBitCircuit('a1b1',cq,aq).circuit\n",
    "\n",
    "with Tracker() as tracker:\n",
    "    a0b0_task = device.run(a0b0_circuit, shots=shotsnum)\n",
    "    a0b1_task = device.run(a0b1_circuit, shots=shotsnum)\n",
    "    a1b0_task = device.run(a1b0_circuit, shots=shotsnum)\n",
    "    a1b1_task = device.run(a1b1_circuit, shots=shotsnum)"
   ]
  },
  {
   "cell_type": "code",
   "execution_count": 22,
   "id": "54f07c3e-e507-4612-9f05-58094e125881",
   "metadata": {
    "tags": []
   },
   "outputs": [
    {
     "name": "stdout",
     "output_type": "stream",
     "text": [
      "{'arn:aws:braket:us-east-1::device/qpu/ionq/Aria-1': {'shots': 200, 'tasks': {'CREATED': 4}}}\n",
      "0\n",
      "7.2000000000\n",
      "arn:aws:braket:us-east-1:443313522425:quantum-task/5cd6a051-76c2-46e3-b8c1-66116a2f61b2\n",
      "arn:aws:braket:us-east-1:443313522425:quantum-task/f09a4ae0-dc14-421e-83d9-b96dcd8cba16\n",
      "arn:aws:braket:us-east-1:443313522425:quantum-task/0a2c6a11-085c-44a5-99c0-4e8a30018573\n",
      "arn:aws:braket:us-east-1:443313522425:quantum-task/e461e8b8-6313-42a2-b806-bd7ddf58a41c\n",
      "AwsQuantumTask('id/taskArn':'arn:aws:braket:us-east-1:443313522425:quantum-task/5cd6a051-76c2-46e3-b8c1-66116a2f61b2')\n"
     ]
    }
   ],
   "source": [
    "print(tracker.quantum_tasks_statistics())\n",
    "print(tracker.simulator_tasks_cost())\n",
    "print(tracker.qpu_tasks_cost())\n",
    "print(a0b0_task.id)\n",
    "print(a0b1_task.id)\n",
    "print(a1b0_task.id)\n",
    "print(a1b1_task.id)\n",
    "print(a0b0_task)"
   ]
  },
  {
   "cell_type": "code",
   "execution_count": 23,
   "id": "2b7d5cf9-5c16-43fc-8b5f-43e7744396a3",
   "metadata": {},
   "outputs": [],
   "source": [
    "a0b0_result = a0b0_task.result()\n",
    "a0b1_result = a0b1_task.result()\n",
    "a1b0_result = a1b0_task.result()\n",
    "a1b1_result = a1b1_task.result()"
   ]
  },
  {
   "cell_type": "code",
   "execution_count": 24,
   "id": "6a5f6f3f-f1fc-4c8c-94dd-e7d12180614a",
   "metadata": {
    "tags": []
   },
   "outputs": [],
   "source": [
    "a0b0_measurements = a0b0_result.measurements\n",
    "a0b1_measurements = a0b1_result.measurements\n",
    "a1b0_measurements = a1b0_result.measurements\n",
    "a1b1_measurements = a1b1_result.measurements"
   ]
  },
  {
   "cell_type": "code",
   "execution_count": 26,
   "id": "04d2d7f9-8ddc-496b-b4ff-c414ac498104",
   "metadata": {
    "tags": []
   },
   "outputs": [],
   "source": [
    "np.savetxt('aria1_a0b0_raw.txt',a0b0_measurements,fmt=\"%i\")\n",
    "np.savetxt('aria1_a0b1_raw.txt',a0b1_measurements,fmt=\"%i\")\n",
    "np.savetxt('aria1_a1b0_raw.txt',a1b0_measurements,fmt=\"%i\")\n",
    "np.savetxt('aria1_a1b1_raw.txt',a1b1_measurements,fmt=\"%i\")"
   ]
  },
  {
   "cell_type": "code",
   "execution_count": 53,
   "id": "7ca26b75-7f24-4e45-8c99-a68727c23113",
   "metadata": {
    "tags": []
   },
   "outputs": [
    {
     "name": "stdout",
     "output_type": "stream",
     "text": [
      "50\n",
      "50\n",
      "50\n",
      "50\n",
      "144\n",
      "0\n"
     ]
    }
   ],
   "source": [
    "# import raw data\n",
    "a0b0_raw = np.loadtxt(\"aria1_a0b0_raw.txt\", dtype = int)\n",
    "a0b1_raw = np.loadtxt(\"aria1_a0b1_raw.txt\", dtype = int)\n",
    "a1b0_raw = np.loadtxt(\"aria1_a1b0_raw.txt\", dtype = int)\n",
    "a1b1_raw = np.loadtxt(\"aria1_a1b1_raw.txt\", dtype = int)\n",
    "\n",
    "print(len(a0b0_raw))\n",
    "print(len(a0b1_raw))\n",
    "print(len(a1b0_raw))\n",
    "print(len(a1b1_raw))\n",
    "\n",
    "# random basis selection in Alice and Bob\n",
    "finalResult = np.array([], dtype = int)\n",
    "trial = 0\n",
    "rng = np.random.default_rng()\n",
    "while len(a0b0_raw)>0 and len(a0b1_raw)>0 and len(a1b0_raw)>0 and len(a1b1_raw)>0:\n",
    "    trial = trial + 1\n",
    "    randomBasis = rng.integers(2, size = 2)\n",
    "    if (randomBasis == [0, 0]).all():\n",
    "        value, a0b0_raw = a0b0_raw[0], a0b0_raw[1:]\n",
    "    elif (randomBasis == [0, 1]).all():\n",
    "        value, a0b1_raw = a0b1_raw[0], a0b1_raw[1:]\n",
    "    elif (randomBasis == [1, 0]).all():\n",
    "        value, a1b0_raw = a1b0_raw[0], a1b0_raw[1:]\n",
    "    elif (randomBasis == [1, 1]).all():\n",
    "        value, a1b1_raw = a1b1_raw[0], a1b1_raw[1:]\n",
    "    else:\n",
    "        pass\n",
    "    finalResult = np.append(finalResult, value)\n",
    "print(trial)\n",
    "print(finalResult[1])"
   ]
  },
  {
   "cell_type": "code",
   "execution_count": 54,
   "id": "37ea4322-ef30-4d1c-86b4-c33cb3c7d262",
   "metadata": {
    "tags": []
   },
   "outputs": [
    {
     "name": "stdout",
     "output_type": "stream",
     "text": [
      "288\n",
      "15\n",
      "19\n",
      "22\n",
      "0\n",
      "400\n"
     ]
    }
   ],
   "source": [
    "print(len(finalResult))\n",
    "print(len(a0b0_raw))\n",
    "print(len(a0b1_raw))\n",
    "print(len(a1b0_raw))\n",
    "print(len(a1b1_raw))\n",
    "finalResult = np.concatenate([finalResult, a0b0_raw.flatten(), a0b1_raw.flatten(), a1b0_raw.flatten(), a1b1_raw.flatten()])\n",
    "print(len(finalResult))"
   ]
  },
  {
   "cell_type": "code",
   "execution_count": 55,
   "id": "333f4f11-47d5-4d67-92ac-372d499878d7",
   "metadata": {
    "tags": []
   },
   "outputs": [
    {
     "name": "stdout",
     "output_type": "stream",
     "text": [
      "0.9364970576938421\n",
      "187\n"
     ]
    }
   ],
   "source": [
    "def calculate_min_entropy(sequence):\n",
    "    sequence = np.asarray(sequence, dtype=float)  # Convert sequence to float\n",
    "    p = np.mean(sequence)  # Proportion of ones\n",
    "    max_prob = max(p, 1 - p)\n",
    "    if max_prob == 0:  # Handle the case where all bits are the same\n",
    "        return 0\n",
    "    min_entropy = -np.log2(max_prob)\n",
    "    return min_entropy\n",
    "\n",
    "\n",
    "minentropy = calculate_min_entropy(finalResult)\n",
    "print(minentropy)\n",
    "extractnum = np.round(200 * minentropy).astype(int)\n",
    "print(extractnum)"
   ]
  },
  {
   "cell_type": "code",
   "execution_count": 56,
   "id": "697cc9fc-1022-4847-a1a2-00ddffe9f424",
   "metadata": {
    "tags": []
   },
   "outputs": [
    {
     "name": "stdout",
     "output_type": "stream",
     "text": [
      "187\n"
     ]
    }
   ],
   "source": [
    "from scipy.linalg import toeplitz, matmul_toeplitz\n",
    "mc = rng.integers(2, size = extractnum)\n",
    "mr = rng.integers(2, size = len(finalResult))\n",
    "result = np.remainder(matmul_toeplitz((mc, mr), finalResult), 2).astype('int8')\n",
    "print(len(result))"
   ]
  },
  {
   "cell_type": "code",
   "execution_count": 57,
   "id": "4a3d7f36-28be-4db4-ae32-7770110740aa",
   "metadata": {
    "tags": []
   },
   "outputs": [],
   "source": [
    "np.savetxt('aria1_DIQRNG.txt', result, fmt=\"%i\")"
   ]
  }
 ],
 "metadata": {
  "kernelspec": {
   "display_name": "conda_braket",
   "language": "python",
   "name": "conda_braket"
  },
  "language_info": {
   "codemirror_mode": {
    "name": "ipython",
    "version": 3
   },
   "file_extension": ".py",
   "mimetype": "text/x-python",
   "name": "python",
   "nbconvert_exporter": "python",
   "pygments_lexer": "ipython3",
   "version": "3.10.14"
  }
 },
 "nbformat": 4,
 "nbformat_minor": 5
}
