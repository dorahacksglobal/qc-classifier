{
 "cells": [
  {
   "cell_type": "code",
   "execution_count": 2,
   "metadata": {},
   "outputs": [],
   "source": [
    "#Library installations\n",
    "import numpy as np\n",
    "\n",
    "from qiskit import QuantumCircuit, transpile\n",
    "from qiskit.visualization.counts_visualization import plot_histogram\n",
    "from qiskit.transpiler.preset_passmanagers import generate_preset_pass_manager\n",
    "\n",
    "from qbraid.runtime.qiskit import QiskitRuntimeProvider\n",
    "from qbraid.runtime.qiskit.job import QiskitJob\n",
    "\n",
    "from qiskit_ibm_runtime import QiskitRuntimeService\n",
    "\n",
    "from dotenv import load_dotenv\n",
    "\n",
    "import os"
   ]
  },
  {
   "cell_type": "code",
   "execution_count": 14,
   "metadata": {},
   "outputs": [
    {
     "data": {
      "text/plain": [
       "[<qbraid.runtime.qiskit.device.QiskitBackend('ibm_brisbane')>,\n",
       " <qbraid.runtime.qiskit.device.QiskitBackend('ibm_kyiv')>,\n",
       " <qbraid.runtime.qiskit.device.QiskitBackend('ibm_kyoto')>,\n",
       " <qbraid.runtime.qiskit.device.QiskitBackend('ibm_sherbrooke')>]"
      ]
     },
     "execution_count": 14,
     "metadata": {},
     "output_type": "execute_result"
    }
   ],
   "source": [
    "API_KEY = os.getenv('IBM_APIKEY')\n",
    "provider = QiskitRuntimeService(channel='ibm_quantum', token=API_KEY)\n",
    "qbraid_provider = QiskitRuntimeProvider(runtime_service=provider)\n",
    "qbraid_provider.get_devices()"
   ]
  },
  {
   "cell_type": "code",
   "execution_count": 15,
   "metadata": {},
   "outputs": [],
   "source": [
    "#Building a 100 qubit quantum circuit with all qubits in equal superposition using hadamard gate\n",
    "circ = QuantumCircuit(100)\n",
    "for i in range(100):\n",
    "    circ.h(i)\n",
    "circ.measure_all()"
   ]
  },
  {
   "cell_type": "code",
   "execution_count": 3,
   "metadata": {},
   "outputs": [],
   "source": [
    "def launch_job(device_name, shot_count, circ):\n",
    "    API_KEY = os.getenv('IBM_APIKEY')\n",
    "    provider = QiskitRuntimeProvider(API_KEY)\n",
    "    device = provider.get_device(device_name)\n",
    "    pm = generate_preset_pass_manager(optimization_level=1, target=device._backend.target)\n",
    "    transpiled_circuit = pm.run(circ)\n",
    "    job = device.run(transpiled_circuit, shots=shot_count, memory=True)\n",
    "    return job._job_id\n",
    "\n",
    "\n",
    "def get_job_results(job_id, length):\n",
    "    API_KEY = os.getenv('IBM_APIKEY')\n",
    "    provider = QiskitRuntimeService('ibm_quantum', API_KEY)\n",
    "    job = provider.job(job_id)\n",
    "    QBraidJob = QiskitJob(job_id, job)\n",
    "    result = QBraidJob.result()\n",
    "\n",
    "    rawData = result.measurements()\n",
    "\n",
    "    unbrokenData = []\n",
    "    for shot in rawData:\n",
    "        for meas in shot:\n",
    "            unbrokenData.append(meas)\n",
    "\n",
    "    data = []\n",
    "    for i in range(0, len(unbrokenData), length):\n",
    "        data.append(''.join(map(str, unbrokenData[i:i+length])))\n",
    "    \n",
    "    return data\n",
    "\n",
    "\n",
    "def write_data_to_file(data, file_path, labels):\n",
    "    with open(file_path, 'a') as file:\n",
    "        labelString = ''\n",
    "        for label in labels:\n",
    "            labelString += (label + ' ')\n",
    "        labelString = labelString[:-1]\n",
    "        for output in data:\n",
    "            file.write(output + ' ' + labelString + '\\n')\n",
    "    file.close()"
   ]
  },
  {
   "cell_type": "code",
   "execution_count": 17,
   "metadata": {},
   "outputs": [
    {
     "name": "stdout",
     "output_type": "stream",
     "text": [
      "cv8h2ktemvv00084z7kg\n"
     ]
    }
   ],
   "source": [
    "brisbane_id = launch_job('ibm_brisbane', 100000, circ)\n",
    "brisbane_id"
   ]
  },
  {
   "cell_type": "code",
   "execution_count": 22,
   "metadata": {},
   "outputs": [
    {
     "data": {
      "text/plain": [
       "'cv8h3x7kfn8g008vp7jg'"
      ]
     },
     "execution_count": 22,
     "metadata": {},
     "output_type": "execute_result"
    }
   ],
   "source": [
    "kyiv_id = launch_job('ibm_kyiv', 100000, circ)\n",
    "kyiv_id"
   ]
  },
  {
   "cell_type": "code",
   "execution_count": 23,
   "metadata": {},
   "outputs": [
    {
     "data": {
      "text/plain": [
       "'cv8h410qrk1g008r0ffg'"
      ]
     },
     "execution_count": 23,
     "metadata": {},
     "output_type": "execute_result"
    }
   ],
   "source": [
    "kyoto_id = launch_job('ibm_kyoto', 100000, circ)\n",
    "kyoto_id"
   ]
  },
  {
   "cell_type": "code",
   "execution_count": 24,
   "metadata": {},
   "outputs": [
    {
     "data": {
      "text/plain": [
       "'cv8h440qrk1g008r0fg0'"
      ]
     },
     "execution_count": 24,
     "metadata": {},
     "output_type": "execute_result"
    }
   ],
   "source": [
    "sherbrooke_id = launch_job('ibm_sherbrooke', 100000, circ)\n",
    "sherbrooke_id"
   ]
  },
  {
   "cell_type": "code",
   "execution_count": 19,
   "metadata": {},
   "outputs": [],
   "source": [
    "write_data_to_file(get_job_results(brisbane_id, 100), 'data/IBM_Superposition_QRNG_100qubit_large.txt', ['quantum', 'ibm_brisbane'])"
   ]
  },
  {
   "cell_type": "code",
   "execution_count": 25,
   "metadata": {},
   "outputs": [],
   "source": [
    "write_data_to_file(get_job_results(kyoto_id, 100), 'data/IBM_Superposition_QRNG_100qubit_large.txt', ['quantum', 'ibm_kyoto'])"
   ]
  },
  {
   "cell_type": "code",
   "execution_count": 4,
   "metadata": {},
   "outputs": [],
   "source": [
    "write_data_to_file(get_job_results('cv8h3x7kfn8g008vp7jg', 100), 'data/IBM_Superposition_QRNG_100qubit_large.txt', ['quantum', 'ibm_kyiv'])"
   ]
  },
  {
   "cell_type": "code",
   "execution_count": 27,
   "metadata": {},
   "outputs": [],
   "source": [
    "write_data_to_file(get_job_results(sherbrooke_id, 100), 'data/IBM_Superposition_QRNG_100qubit_large.txt', ['quantum', 'ibm_sherbrooke'])"
   ]
  },
  {
   "cell_type": "code",
   "execution_count": 28,
   "metadata": {},
   "outputs": [],
   "source": [
    "#Creating euql amount of non-quantum training data using numpy random module\n",
    "with open('data/IBM_Superposition_QRNG_100qubit_large.txt', 'a') as file:\n",
    "    file.write('\\n')\n",
    "    rng = np.random.default_rng()\n",
    "    for i in range(400000):\n",
    "        prng = rng.integers(0, 2, 100)\n",
    "        rngString = ''.join(str(x) for x in prng)\n",
    "        output = rngString + ' non-quantum N/A\\n'\n",
    "        file.write(output)\n",
    "    \n",
    "file.close()"
   ]
  },
  {
   "cell_type": "markdown",
   "metadata": {},
   "source": [
    "Refactoring QRNG generation code for 10 qubit circuit"
   ]
  }
 ],
 "metadata": {
  "kernelspec": {
   "display_name": ".venv",
   "language": "python",
   "name": "python3"
  },
  "language_info": {
   "codemirror_mode": {
    "name": "ipython",
    "version": 3
   },
   "file_extension": ".py",
   "mimetype": "text/x-python",
   "name": "python",
   "nbconvert_exporter": "python",
   "pygments_lexer": "ipython3",
   "version": "3.12.4"
  }
 },
 "nbformat": 4,
 "nbformat_minor": 2
}
