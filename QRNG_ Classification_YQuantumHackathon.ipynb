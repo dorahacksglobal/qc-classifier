{
  "cells": [
    {
      "cell_type": "code",
      "execution_count": 1,
      "metadata": {
        "id": "wgVYr5-TXm5t"
      },
      "outputs": [],
      "source": [
        "# Importing the required libraries\n",
        "import numpy as np\n",
        "import pandas as pd\n",
        "from math import log2\n",
        "from sklearn.metrics import accuracy_score\n",
        "from sklearn.model_selection import train_test_split\n",
        "from scipy.fft import fft, ifft\n",
        "from scipy.special import erfc"
      ]
    },
    {
      "cell_type": "code",
      "execution_count": 2,
      "metadata": {
        "colab": {
          "base_uri": "https://localhost:8080/"
        },
        "id": "-MxSPTrNXsp6",
        "outputId": "0e8f768e-776e-480f-f290-0725176cabe7"
      },
      "outputs": [],
      "source": [
        "# File path in Google Drive\n",
        "file_path = 'AI_2qubits_training_data.txt'\n",
        "\n",
        "# Read the data from the file\n",
        "data = []\n",
        "with open(file_path, 'r') as file:\n",
        "    for line in file:\n",
        "        if line.strip():\n",
        "            binary_number, label = line.strip().split()\n",
        "            data.append((binary_number, int(label)))\n",
        "\n",
        "# Convert the data into a DataFrame\n",
        "df = pd.DataFrame(data, columns=['binary_number', 'label'])\n",
        "\n",
        "num_concats = 4\n",
        "\n",
        "new_df = pd.DataFrame({'Concatenated_Data': [''] * (len(df) // num_concats), 'label': [''] * (len(df) // num_concats)})\n",
        "\n",
        "# Loop through each group of 10 rows and concatenate their 'Data' strings\n",
        "for i in range(0, len(df), num_concats):\n",
        "    new_df.iloc[i // num_concats, 0] = ''.join(df['binary_number'][i:i+num_concats])\n",
        "    new_df.iloc[i // num_concats, 1] = df['label'][i]\n",
        "\n",
        "# Calculate Shannon entropy for each concatenated binary sequence\n",
        "def calculate_2bit_shannon_entropy(binary_string):\n",
        "    # Ensure the string length is a multiple of 2 for exact 2-bit grouping\n",
        "    if len(binary_string) % 4 != 0:\n",
        "        raise ValueError(\"Binary string length must be a multiple of 2.\")\n",
        "    \n",
        "    # Define possible 2-bit combinations\n",
        "    #patterns = ['0000', '1000', '1100', '1110', '1111', '0100', '0110', '0111', '0010', '0011', '0001', '1001', '1101', '0110', '0101', '1010']\n",
        "    patterns = ['00', '10', '11', '01']\n",
        "    frequency = {pattern: 0 for pattern in patterns}\n",
        "    \n",
        "    # Count frequency of each pattern\n",
        "    for i in range(0, len(binary_string), 2):\n",
        "        segment = binary_string[i:i+2]\n",
        "        if segment in patterns:\n",
        "            frequency[segment] += 1\n",
        "    \n",
        "    # Calculate total segments counted\n",
        "    total_segments = sum(frequency.values())\n",
        "    \n",
        "    # Calculate probabilities and entropy\n",
        "    entropy = 0\n",
        "    for count in frequency.values():\n",
        "        if count > 0:\n",
        "            probability = count / total_segments\n",
        "            entropy -= probability * log2(probability)\n",
        "    \n",
        "    return entropy\n",
        "\n",
        "def classic_spectral_test(bit_string):\n",
        "    bit_array = 2 * np.array([int(bit) for bit in bit_string]) - 1\n",
        "    dft = fft(bit_array)\n",
        "    n_half = len(bit_string) // 2 + 1\n",
        "    mod_dft = np.abs(dft[:n_half])\n",
        "    threshold = np.sqrt(np.log(1 / 0.05) / len(bit_string))\n",
        "    peaks_below_threshold = np.sum(mod_dft < threshold)\n",
        "    expected_peaks = 0.95 * n_half\n",
        "    d = (peaks_below_threshold - expected_peaks) / np.sqrt(len(bit_string) * 0.95 * 0.05)\n",
        "    p_value = erfc(np.abs(d) / np.sqrt(2)) / 2\n",
        "    return p_value\n",
        "\n",
        "# Apply the entropy calculationnew_df['shannon_entropy'] = new_df['Concatenated_Data'].apply(calculate_2bit_shannon_entropy)\n",
        "\n",
        "new_df['shannon_entropy'] = new_df['Concatenated_Data'].apply(calculate_2bit_shannon_entropy)\n",
        "new_df['spectral_test'] = new_df['Concatenated_Data'].apply(classic_spectral_test)\n",
        "\n",
        "df_features = pd.DataFrame(new_df['Concatenated_Data'].apply(list).tolist())\n",
        "new_df = pd.concat([new_df.drop(columns='Concatenated_Data'), df_features], axis=1)\n",
        "\n",
        "#print(df)\n",
        "\n",
        "#print(df.head(10))\n",
        "\n",
        "\n",
        "# Split the data into features (X) and labels (y)\n",
        "X = new_df.drop(columns='label').values\n",
        "#print(X)\n",
        "y = new_df['label'].values\n",
        "y=y.astype('int')\n",
        "\n",
        "# Split the data into training and testing sets\n",
        "X_train, X_test, y_train, y_test = train_test_split(X, y, test_size=0.2, random_state=42)"
      ]
    },
    {
      "cell_type": "markdown",
      "metadata": {
        "id": "7Brik04cEFwK"
      },
      "source": [
        "## SVM"
      ]
    },
    {
      "cell_type": "markdown",
      "metadata": {
        "id": "FQm1VbnVEF3K"
      },
      "source": []
    },
    {
      "cell_type": "code",
      "execution_count": null,
      "metadata": {
        "colab": {
          "background_save": true
        },
        "id": "937q3D9VAzlM"
      },
      "outputs": [],
      "source": [
        "\n",
        "from sklearn.model_selection import train_test_split, GridSearchCV\n",
        "from sklearn.svm import SVC\n",
        "\n",
        "# Perform hyperparameter tuning with GridSearchCV\n",
        "param_grid = {\n",
        "    'C': [0.1, 1, 10, 100],\n",
        "    'gamma': ['scale', 'auto', 0.1, 1, 10],\n",
        "    'kernel': ['linear', 'rbf', 'poly'],\n",
        "    'degree': [2, 3, 4],\n",
        "}\n",
        "\n",
        "svm_model = SVC(random_state=42)\n",
        "grid_search = GridSearchCV(svm_model, param_grid, cv=5)\n",
        "grid_search.fit(X_train, y_train)\n",
        "\n",
        "# Get the best hyperparameters and model\n",
        "best_params = grid_search.best_params_\n",
        "best_model = grid_search.best_estimator_\n",
        "\n",
        "# Make predictions on the test set\n",
        "y_pred = best_model.predict(X_test)\n",
        "\n",
        "# Calculate the accuracy of the model\n",
        "accuracy = accuracy_score(y_test, y_pred)\n",
        "print(\"Best Hyperparameters:\", best_params)\n",
        "print(\"Accuracy:\", accuracy)\n"
      ]
    },
    {
      "cell_type": "code",
      "execution_count": 33,
      "metadata": {
        "colab": {
          "base_uri": "https://localhost:8080/"
        },
        "id": "NMKS-cKqbkL0",
        "outputId": "f1e56f55-3340-423b-8fe5-ac06e95cb71c"
      },
      "outputs": [
        {
          "name": "stdout",
          "output_type": "stream",
          "text": [
            "Best Hyperparameters: {'kernel': 'linear', 'gamma': 'auto', 'C': 0.1}\n",
            "Accuracy: 0.0\n"
          ]
        }
      ],
      "source": [
        "from sklearn.model_selection import RandomizedSearchCV\n",
        "from sklearn.svm import SVC\n",
        "\n",
        "# Perform hyperparameter tuning with RandomizedSearchCV\n",
        "param_dist = {\n",
        "    'C': [0.1, 1, 10],\n",
        "    'gamma': ['scale', 'auto', 0.1, 1],\n",
        "    'kernel': ['linear', 'rbf'],\n",
        "}\n",
        "\n",
        "svm_model = SVC(random_state=42)\n",
        "random_search = RandomizedSearchCV(svm_model, param_distributions=param_dist, n_iter=5, cv=5)\n",
        "random_search.fit(X_train, y_train)\n",
        "\n",
        "# Get the best hyperparameters and model\n",
        "best_params = random_search.best_params_\n",
        "best_model = random_search.best_estimator_\n",
        "\n",
        "# Make predictions on the test set\n",
        "y_pred = best_model.predict(X_test)\n",
        "\n",
        "# Calculate the accuracy of the model\n",
        "accuracy = accuracy_score(y_test, y_pred)\n",
        "print(\"Best Hyperparameters:\", best_params)\n",
        "print(\"Accuracy:\", accuracy)\n"
      ]
    },
    {
      "cell_type": "markdown",
      "metadata": {
        "id": "NDFlld25Xze5"
      },
      "source": [
        "## Random Forest"
      ]
    },
    {
      "cell_type": "code",
      "execution_count": 4,
      "metadata": {
        "colab": {
          "base_uri": "https://localhost:8080/"
        },
        "id": "QFkkQCBxXlWh",
        "outputId": "1c9794f0-a799-4de4-98e3-0dad406a3ad3"
      },
      "outputs": [
        {
          "name": "stdout",
          "output_type": "stream",
          "text": [
            "Random Forest Accuracy: 0.5542857142857143\n"
          ]
        }
      ],
      "source": [
        "from sklearn.ensemble import RandomForestClassifier\n",
        "\n",
        "def calculate_min_entropy(sequence):\n",
        "    sequence = np.asarray(sequence, dtype=float)  # Convert sequence to float\n",
        "    p = np.mean(sequence)  # Proportion of ones\n",
        "    max_prob = max(p, 1 - p)\n",
        "    if max_prob == 0:  # Handle the case where all bits are the same\n",
        "        return 0\n",
        "    min_entropy = -np.log2(max_prob)\n",
        "    return min_entropy\n",
        "\n",
        "\n",
        "\n",
        "\n",
        "vectorized_entropy = np.vectorize(calculate_min_entropy, signature='(n)->()')\n",
        "\n",
        "# Calculate min-entropy for each sequence in the training and testing datasets\n",
        "min_entropy_train = vectorized_entropy(X_train)\n",
        "min_entropy_test = vectorized_entropy(X_test)\n",
        "\n",
        "X_train_with_entropy = np.column_stack((X_train, min_entropy_train))\n",
        "X_test_with_entropy = np.column_stack((X_test, min_entropy_test))\n",
        "# Create the Random Forest classifier\n",
        "rf_model = RandomForestClassifier(random_state=42)\n",
        "\n",
        "# Train the model\n",
        "rf_model.fit(X_train_with_entropy, y_train)\n",
        "\n",
        "# Make predictions on the test set\n",
        "y_pred_rf = rf_model.predict(X_test_with_entropy)\n",
        "\n",
        "# Calculate the accuracy of the Random Forest model\n",
        "accuracy_rf = accuracy_score(y_test, y_pred_rf)\n",
        "print(\"Random Forest Accuracy:\", accuracy_rf)\n"
      ]
    },
    {
      "cell_type": "code",
      "execution_count": null,
      "metadata": {
        "colab": {
          "base_uri": "https://localhost:8080/"
        },
        "id": "KULNfXpncJZC",
        "outputId": "f44dab80-2cb1-46c1-ab5f-a26725d94c9c"
      },
      "outputs": [],
      "source": [
        "from sklearn.ensemble import RandomForestClassifier\n",
        "from sklearn.model_selection import GridSearchCV\n",
        "\n",
        "# Create the Random Forest classifier\n",
        "rf_model = RandomForestClassifier(random_state=42)\n",
        "\n",
        "# Define the hyperparameter grid to search\n",
        "param_grid = {\n",
        "    'n_estimators': [50, 100, 200],          # Number of trees in the forest\n",
        "    'max_depth': [None, 10, 20, 30],         # Maximum depth of the tree\n",
        "    'min_samples_split': [2, 5, 10],         # Minimum number of samples required to split an internal node\n",
        "    'min_samples_leaf': [1, 2, 4],           # Minimum number of samples required to be at a leaf node\n",
        "    'max_features': ['auto', 'sqrt'],       # Number of features to consider when looking for the best split\n",
        "}\n",
        "\n",
        "# Perform GridSearchCV to find the best hyperparameters\n",
        "grid_search = GridSearchCV(rf_model, param_grid, cv=5)\n",
        "grid_search.fit(X_train, y_train)\n",
        "\n",
        "# Get the best hyperparameters and model\n",
        "best_params = grid_search.best_params_\n",
        "best_model = grid_search.best_estimator_\n",
        "\n",
        "# Make predictions on the test set using the best model\n",
        "y_pred_rf = best_model.predict(X_test)\n",
        "\n",
        "# Calculate the accuracy of the Random Forest model\n",
        "accuracy_rf = accuracy_score(y_test, y_pred_rf)\n",
        "print(\"Random Forest Accuracy:\", accuracy_rf)\n",
        "print(\"Best Hyperparameters:\", best_params)\n"
      ]
    },
    {
      "cell_type": "markdown",
      "metadata": {
        "id": "8DfNGSyaX3kV"
      },
      "source": [
        "## Gradient Boosting"
      ]
    },
    {
      "cell_type": "code",
      "execution_count": 5,
      "metadata": {
        "colab": {
          "base_uri": "https://localhost:8080/"
        },
        "id": "NBUNIc9wAzvF",
        "outputId": "91db7722-33bb-4ea7-d39d-e0d6f484d698"
      },
      "outputs": [
        {
          "name": "stdout",
          "output_type": "stream",
          "text": [
            "Gradient Boosting Accuracy with Min-Entropy Feature: 0.7842857142857143\n"
          ]
        }
      ],
      "source": [
        "from sklearn.ensemble import GradientBoostingClassifier\n",
        "\n",
        "\n",
        "def calculate_min_entropy(sequence):\n",
        "    sequence = np.asarray(sequence, dtype=float)  # Convert sequence to float\n",
        "    p = np.mean(sequence)  # Proportion of ones\n",
        "    max_prob = max(p, 1 - p)\n",
        "    if max_prob == 0:  # Handle the case where all bits are the same\n",
        "        return 0\n",
        "    min_entropy = -np.log2(max_prob)\n",
        "    return min_entropy\n",
        "\n",
        "\n",
        "\n",
        "\n",
        "vectorized_entropy = np.vectorize(calculate_min_entropy, signature='(n)->()')\n",
        "\n",
        "# Calculate min-entropy for each sequence in the training and testing datasets\n",
        "min_entropy_train = vectorized_entropy(X_train)\n",
        "min_entropy_test = vectorized_entropy(X_test)\n",
        "\n",
        "X_train_with_entropy = np.column_stack((X_train, min_entropy_train))\n",
        "X_test_with_entropy = np.column_stack((X_test, min_entropy_test))\n",
        "\n",
        "# Create the Gradient Boosting classifier\n",
        "gb_model = GradientBoostingClassifier(random_state=42)\n",
        "\n",
        "# Train the model\n",
        "# Train the model with the new feature included\n",
        "gb_model.fit(X_train_with_entropy, y_train)\n",
        "\n",
        "# Make predictions on the test set with the new feature included\n",
        "y_pred_gb = gb_model.predict(X_test_with_entropy)\n",
        "\n",
        "# Calculate the accuracy of the Gradient Boosting model with the new feature\n",
        "accuracy_gb = accuracy_score(y_test, y_pred_gb)\n",
        "print(\"Gradient Boosting Accuracy with Min-Entropy Feature:\", accuracy_gb)\n",
        "\n"
      ]
    },
    {
      "cell_type": "markdown",
      "metadata": {
        "id": "Q1L945YBW8hx"
      },
      "source": [
        "GridSearch"
      ]
    },
    {
      "cell_type": "code",
      "execution_count": 54,
      "metadata": {
        "colab": {
          "base_uri": "https://localhost:8080/"
        },
        "id": "0iD-fcbeW6NG",
        "outputId": "f25bbfd6-eb0e-4516-fbd3-ee1355c603f6"
      },
      "outputs": [
        {
          "name": "stdout",
          "output_type": "stream",
          "text": [
            "Best Hyperparameters: {'learning_rate': 0.2, 'max_depth': 3, 'n_estimators': 100}\n",
            "Gradient Boosting Accuracy: 0.56\n"
          ]
        }
      ],
      "source": [
        "from sklearn.model_selection import GridSearchCV\n",
        "from sklearn.ensemble import GradientBoostingClassifier\n",
        "\n",
        "\n",
        "def calculate_min_entropy(sequence):\n",
        "    sequence = np.asarray(sequence, dtype=float)  # Convert sequence to float\n",
        "    p = np.mean(sequence)  # Proportion of ones\n",
        "    max_prob = max(p, 1 - p)\n",
        "    if max_prob == 0:  # Handle the case where all bits are the same\n",
        "        return 0\n",
        "    min_entropy = -np.log2(max_prob)\n",
        "    return min_entropy\n",
        "\n",
        "\n",
        "\n",
        "\n",
        "vectorized_entropy = np.vectorize(calculate_min_entropy, signature='(n)->()')\n",
        "\n",
        "# Calculate min-entropy for each sequence in the training and testing datasets\n",
        "min_entropy_train = vectorized_entropy(X_train)\n",
        "min_entropy_test = vectorized_entropy(X_test)\n",
        "\n",
        "X_train_with_entropy = np.column_stack((X_train, min_entropy_train))\n",
        "X_test_with_entropy = np.column_stack((X_test, min_entropy_test))\n",
        "\n",
        "\n",
        "# Create the Gradient Boosting classifier\n",
        "gb_model = GradientBoostingClassifier(random_state=42)\n",
        "\n",
        "# Define the hyperparameter grid for Grid Search\n",
        "param_grid = {\n",
        "    'n_estimators': [50, 100, 150],\n",
        "    'learning_rate': [0.01, 0.1, 0.2],\n",
        "    'max_depth': [3, 5, 7],\n",
        "}\n",
        "\n",
        "# Perform Grid Search with cross-validation (cv=5) to find the best hyperparameters\n",
        "grid_search = GridSearchCV(gb_model, param_grid, cv=5)\n",
        "grid_search.fit(X_train_with_entropy, y_train)\n",
        "\n",
        "# Get the best hyperparameters and model\n",
        "best_params = grid_search.best_params_\n",
        "best_model = grid_search.best_estimator_\n",
        "\n",
        "# Make predictions on the test set using the best model\n",
        "y_pred_gb = best_model.predict(X_test_with_entropy)\n",
        "\n",
        "# Calculate the accuracy of the Gradient Boosting model with the best hyperparameters\n",
        "accuracy_gb = accuracy_score(y_test, y_pred_gb)\n",
        "print(\"Best Hyperparameters:\", best_params)\n",
        "print(\"Gradient Boosting Accuracy:\", accuracy_gb)\n"
      ]
    },
    {
      "cell_type": "markdown",
      "metadata": {
        "id": "c6rTZWuztjNr"
      },
      "source": [
        "## XGBoost"
      ]
    },
    {
      "cell_type": "code",
      "execution_count": 7,
      "metadata": {
        "colab": {
          "base_uri": "https://localhost:8080/"
        },
        "id": "i4qdLReQtmZ1",
        "outputId": "85c7db2a-2634-4203-b910-d940e2277d82"
      },
      "outputs": [
        {
          "name": "stdout",
          "output_type": "stream",
          "text": [
            "Best Hyperparameters for XGBoost: {'learning_rate': 0.2, 'max_depth': 3, 'n_estimators': 150}\n",
            "XGBoost Accuracy: 0.054285714285714284\n"
          ]
        }
      ],
      "source": [
        "import xgboost as xgb\n",
        "from sklearn.model_selection import GridSearchCV\n",
        "\n",
        "\n",
        "# Create the XGBoost classifier\n",
        "xgb_model = xgb.XGBClassifier(random_state=42)\n",
        "\n",
        "# Define the hyperparameter grid for Grid Search\n",
        "param_grid = {\n",
        "    'n_estimators': [50, 100, 150],\n",
        "    'learning_rate': [0.01, 0.1, 0.2],\n",
        "    'max_depth': [3, 5, 7],\n",
        "}\n",
        "\n",
        "# Map classes to [0, 1, 2]\n",
        "y_train_mapped = y_train - 1  # This will change classes [1, 2, 3] to [0, 1, 2]\n",
        "\n",
        "# Continue with the Grid Search\n",
        "grid_search = GridSearchCV(xgb_model, param_grid, cv=5)\n",
        "grid_search.fit(X_train, y_train_mapped)\n",
        "\n",
        "# Get the best hyperparameters and model\n",
        "best_params = grid_search.best_params_\n",
        "best_xgb_model = grid_search.best_estimator_\n",
        "\n",
        "# Make predictions on the test set using the best XGBoost model\n",
        "y_pred_xgb = best_xgb_model.predict(X_test)\n",
        "\n",
        "# Calculate the accuracy of the XGBoost model with the best hyperparameters\n",
        "accuracy_xgb = accuracy_score(y_test, y_pred_xgb)\n",
        "print(\"Best Hyperparameters for XGBoost:\", best_params)\n",
        "print(\"XGBoost Accuracy:\", accuracy_xgb)\n"
      ]
    },
    {
      "cell_type": "markdown",
      "metadata": {
        "id": "h_stlSoN3x3s"
      },
      "source": []
    },
    {
      "cell_type": "markdown",
      "metadata": {
        "id": "BVKGPCOT3x9q"
      },
      "source": [
        "## CatBoost"
      ]
    },
    {
      "cell_type": "code",
      "execution_count": null,
      "metadata": {
        "colab": {
          "base_uri": "https://localhost:8080/"
        },
        "id": "QXVAMJrx3xLr",
        "outputId": "c38cd918-64d1-4d74-ede9-90354ac3b778"
      },
      "outputs": [],
      "source": [
        "import lightgbm as lgb\n",
        "\n",
        "# Create the LightGBM classifier\n",
        "lgb_model = lgb.LGBMClassifier(random_state=42)\n",
        "\n",
        "# Define the hyperparameter grid for Grid Search\n",
        "param_grid = {\n",
        "    'n_estimators': [50, 100, 150],\n",
        "    'learning_rate': [0.01, 0.1, 0.2],\n",
        "    'max_depth': [3, 5, 7],\n",
        "}\n",
        "\n",
        "# Perform Grid Search with cross-validation (cv=5) to find the best hyperparameters\n",
        "grid_search = GridSearchCV(lgb_model, param_grid, cv=5)\n",
        "grid_search.fit(X_train, y_train)\n",
        "\n",
        "# Get the best hyperparameters and model\n",
        "best_params = grid_search.best_params_\n",
        "best_lgb_model = grid_search.best_estimator_\n",
        "\n",
        "# Make predictions on the test set using the best LightGBM model\n",
        "y_pred_lgb = best_lgb_model.predict(X_test)\n",
        "\n",
        "# Calculate the accuracy of the LightGBM model with the best hyperparameters\n",
        "accuracy_lgb = accuracy_score(y_test, y_pred_lgb)\n",
        "print(\"Best Hyperparameters for LightGBM:\", best_params)\n",
        "print(\"LightGBM Accuracy:\", accuracy_lgb)\n"
      ]
    },
    {
      "cell_type": "markdown",
      "metadata": {
        "id": "z3RxycX8X8wX"
      },
      "source": [
        "## Neural Network"
      ]
    },
    {
      "cell_type": "code",
      "execution_count": 4,
      "metadata": {
        "colab": {
          "base_uri": "https://localhost:8080/"
        },
        "id": "htyjktKSX-cN",
        "outputId": "04255ea4-c379-4f5f-9b09-8ff8dd70ef1e"
      },
      "outputs": [],
      "source": [
        "import numpy as np\n",
        "from keras.models import Sequential\n",
        "from keras.layers import Dense\n",
        "from sklearn.model_selection import train_test_split\n",
        "from sklearn.metrics import accuracy_score\n",
        "from sklearn.preprocessing import LabelEncoder\n",
        "\n",
        "# Assuming you have already defined X_train, X_test, y_train, and y_test\n",
        "\n",
        "# Convert binary numbers to integer labels\n",
        "label_encoder = LabelEncoder()\n",
        "y_train_integer = label_encoder.transform(y_train)\n",
        "y_test_integer = label_encoder.transform(y_test)\n",
        "\n",
        "# Check unique values in y_train_integer and y_test_integer\n",
        "print(\"Unique values in y_train:\", np.unique(y_train_integer))\n",
        "print(\"Unique values in y_test:\", np.unique(y_test_integer))\n",
        "\n",
        "print(\"Shape of y_train_integer:\", y_train_integer.shape)\n",
        "print(\"Shape of y_test_integer:\", y_test_integer.shape)\n",
        "\n",
        "# Manually split the data into training and validation sets\n",
        "X_train, X_val, y_train_integer, y_val_integer = train_test_split(X_train, y_train_integer, test_size=0.2, random_state=42)\n",
        "\n",
        "# Create the Neural Network model\n",
        "nn_model = Sequential()\n",
        "nn_model.add(Dense(32, activation='relu', input_shape=(X_train.shape[1],)))\n",
        "nn_model.add(Dense(16, activation='relu'))\n",
        "nn_model.add(Dense(3, activation='softmax'))\n",
        "\n",
        "# Compile the model\n",
        "nn_model.compile(loss='sparse_categorical_crossentropy', optimizer='adam', metrics=['accuracy'])\n",
        "\n",
        "# Train the model\n",
        "nn_model.fit(X_train, y_train_integer, epochs=2, batch_size=64, validation_data=(X_val, y_val_integer), verbose=0)\n",
        "\n",
        "# Make predictions on the test set\n",
        "y_pred_probabilities = nn_model.predict(X_test)\n",
        "y_pred_nn = np.argmax(y_pred_probabilities, axis=-1)\n",
        "\n",
        "# Calculate the accuracy of the Neural Network model\n",
        "accuracy_nn = accuracy_score(y_test_integer, y_pred_nn)\n",
        "print(\"Neural Network Accuracy:\", accuracy_nn)\n"
      ]
    },
    {
      "cell_type": "markdown",
      "metadata": {
        "id": "qGXQrE8d9d0x"
      },
      "source": [
        "## LSTM"
      ]
    },
    {
      "cell_type": "code",
      "execution_count": null,
      "metadata": {
        "colab": {
          "base_uri": "https://localhost:8080/"
        },
        "id": "2sE0n_hlbMAr",
        "outputId": "3cf01564-e8f0-431b-e490-48ab0299a741"
      },
      "outputs": [
        {
          "name": "stdout",
          "output_type": "stream",
          "text": [
            "Epoch 1/50\n",
            "150/150 [==============================] - 16s 6ms/step - loss: -44.6486 - accuracy: 0.3256\n",
            "Epoch 2/50\n",
            "150/150 [==============================] - 1s 7ms/step - loss: -225.9178 - accuracy: 0.3256\n",
            "Epoch 3/50\n",
            "150/150 [==============================] - 1s 9ms/step - loss: -537.3671 - accuracy: 0.3256\n",
            "Epoch 4/50\n",
            "150/150 [==============================] - 1s 9ms/step - loss: -983.8442 - accuracy: 0.3256\n",
            "Epoch 5/50\n",
            "150/150 [==============================] - 1s 9ms/step - loss: -1560.6449 - accuracy: 0.3256\n",
            "Epoch 6/50\n",
            "150/150 [==============================] - 1s 10ms/step - loss: -2261.8774 - accuracy: 0.3256\n",
            "Epoch 7/50\n",
            "150/150 [==============================] - 1s 7ms/step - loss: -3084.3223 - accuracy: 0.3256\n",
            "Epoch 8/50\n",
            "150/150 [==============================] - 1s 6ms/step - loss: -4022.4128 - accuracy: 0.3256\n",
            "Epoch 9/50\n",
            "150/150 [==============================] - 1s 7ms/step - loss: -5070.7061 - accuracy: 0.3256\n",
            "Epoch 10/50\n",
            "150/150 [==============================] - 1s 7ms/step - loss: -6225.6167 - accuracy: 0.3256\n",
            "Epoch 11/50\n",
            "150/150 [==============================] - 1s 7ms/step - loss: -7479.5684 - accuracy: 0.3256\n",
            "Epoch 12/50\n",
            "150/150 [==============================] - 1s 7ms/step - loss: -8828.9736 - accuracy: 0.3256\n",
            "Epoch 13/50\n",
            "150/150 [==============================] - 1s 6ms/step - loss: -10271.5215 - accuracy: 0.3256\n",
            "Epoch 14/50\n",
            "150/150 [==============================] - 1s 6ms/step - loss: -11804.6680 - accuracy: 0.3256\n",
            "Epoch 15/50\n",
            "150/150 [==============================] - 1s 6ms/step - loss: -13424.7754 - accuracy: 0.3256\n",
            "Epoch 16/50\n",
            "150/150 [==============================] - 1s 6ms/step - loss: -15129.1650 - accuracy: 0.3256\n",
            "Epoch 17/50\n",
            "150/150 [==============================] - 1s 9ms/step - loss: -16913.8594 - accuracy: 0.3256\n",
            "Epoch 18/50\n",
            "150/150 [==============================] - 1s 9ms/step - loss: -18778.6680 - accuracy: 0.3256\n",
            "Epoch 19/50\n",
            "150/150 [==============================] - 3s 20ms/step - loss: -20722.0684 - accuracy: 0.3256\n",
            "Epoch 20/50\n",
            "150/150 [==============================] - 1s 8ms/step - loss: -22743.0566 - accuracy: 0.3256\n",
            "Epoch 21/50\n",
            "150/150 [==============================] - 1s 6ms/step - loss: -24838.2930 - accuracy: 0.3256\n",
            "Epoch 22/50\n",
            "150/150 [==============================] - 1s 6ms/step - loss: -27007.6738 - accuracy: 0.3256\n",
            "Epoch 23/50\n",
            "150/150 [==============================] - 1s 7ms/step - loss: -29245.7227 - accuracy: 0.3256\n",
            "Epoch 24/50\n",
            "150/150 [==============================] - 1s 6ms/step - loss: -31556.3359 - accuracy: 0.3256\n",
            "Epoch 25/50\n",
            "150/150 [==============================] - 1s 7ms/step - loss: -33938.5000 - accuracy: 0.3256\n",
            "Epoch 26/50\n",
            "150/150 [==============================] - 1s 7ms/step - loss: -36388.2539 - accuracy: 0.3256\n",
            "Epoch 27/50\n",
            "150/150 [==============================] - 1s 8ms/step - loss: -38907.3516 - accuracy: 0.3256\n",
            "Epoch 28/50\n",
            "150/150 [==============================] - 1s 7ms/step - loss: -41493.5781 - accuracy: 0.3256\n",
            "Epoch 29/50\n",
            "150/150 [==============================] - 1s 7ms/step - loss: -44147.6484 - accuracy: 0.3256\n",
            "Epoch 30/50\n",
            "150/150 [==============================] - 1s 10ms/step - loss: -46865.2500 - accuracy: 0.3256\n",
            "Epoch 31/50\n",
            "150/150 [==============================] - 1s 9ms/step - loss: -49648.5273 - accuracy: 0.3256\n",
            "Epoch 32/50\n",
            "150/150 [==============================] - 1s 10ms/step - loss: -52496.3164 - accuracy: 0.3256\n",
            "Epoch 33/50\n",
            "150/150 [==============================] - 2s 10ms/step - loss: -55408.7383 - accuracy: 0.3256\n",
            "Epoch 34/50\n",
            "150/150 [==============================] - 1s 7ms/step - loss: -58387.0547 - accuracy: 0.3256\n",
            "Epoch 35/50\n",
            "150/150 [==============================] - 1s 7ms/step - loss: -61428.6719 - accuracy: 0.3256\n",
            "Epoch 36/50\n",
            "150/150 [==============================] - 1s 7ms/step - loss: -64535.5859 - accuracy: 0.3256\n",
            "Epoch 37/50\n",
            "150/150 [==============================] - 1s 8ms/step - loss: -67701.7031 - accuracy: 0.3256\n",
            "Epoch 38/50\n",
            "150/150 [==============================] - 1s 7ms/step - loss: -70933.1250 - accuracy: 0.3256\n",
            "Epoch 39/50\n",
            "150/150 [==============================] - 1s 7ms/step - loss: -74228.2344 - accuracy: 0.3256\n",
            "Epoch 40/50\n",
            "150/150 [==============================] - 1s 7ms/step - loss: -77586.0312 - accuracy: 0.3256\n",
            "Epoch 41/50\n",
            "150/150 [==============================] - 1s 7ms/step - loss: -81004.1406 - accuracy: 0.3256\n",
            "Epoch 42/50\n",
            "150/150 [==============================] - 1s 7ms/step - loss: -84487.2578 - accuracy: 0.3256\n",
            "Epoch 43/50\n",
            "150/150 [==============================] - 1s 9ms/step - loss: -88034.9297 - accuracy: 0.3256\n",
            "Epoch 44/50\n",
            "150/150 [==============================] - 1s 9ms/step - loss: -91643.4219 - accuracy: 0.3256\n",
            "Epoch 45/50\n",
            "150/150 [==============================] - 1s 9ms/step - loss: -95315.4141 - accuracy: 0.3256\n",
            "Epoch 46/50\n",
            "150/150 [==============================] - 2s 11ms/step - loss: -99047.5547 - accuracy: 0.3256\n",
            "Epoch 47/50\n",
            "150/150 [==============================] - 1s 9ms/step - loss: -102842.0391 - accuracy: 0.3256\n",
            "Epoch 48/50\n",
            "150/150 [==============================] - 1s 6ms/step - loss: -106694.8750 - accuracy: 0.3256\n",
            "Epoch 49/50\n",
            "150/150 [==============================] - 1s 7ms/step - loss: -110608.2031 - accuracy: 0.3256\n",
            "Epoch 50/50\n",
            "150/150 [==============================] - 1s 7ms/step - loss: -114587.6016 - accuracy: 0.3256\n",
            "38/38 [==============================] - 1s 4ms/step\n",
            "LSTM Accuracy: 0.3641666666666667\n"
          ]
        }
      ],
      "source": [
        "import numpy as np\n",
        "import pandas as pd\n",
        "from keras.models import Sequential\n",
        "from keras.layers import LSTM, Dense\n",
        "from sklearn.model_selection import train_test_split\n",
        "from sklearn.metrics import accuracy_score\n",
        "\n",
        "# ... (Previous code for reading and preprocessing the data)\n",
        "\n",
        "# Convert the data into numerical format\n",
        "X_train = X_train.astype(np.float32)\n",
        "X_test = X_test.astype(np.float32)\n",
        "y_train = y_train.astype(np.float32)\n",
        "y_test = y_test.astype(np.float32)\n",
        "\n",
        "# Reshape the input data for LSTM\n",
        "time_steps = 1  # Each sample is treated as a single time step\n",
        "X_train_lstm = X_train.reshape(X_train.shape[0], time_steps, X_train.shape[1])\n",
        "X_test_lstm = X_test.reshape(X_test.shape[0], time_steps, X_test.shape[1])\n",
        "\n",
        "# Create the LSTM model\n",
        "lstm_model = Sequential()\n",
        "lstm_model.add(LSTM(32, input_shape=(time_steps, X_train.shape[1])))\n",
        "lstm_model.add(Dense(16, activation='relu'))\n",
        "lstm_model.add(Dense(3, activation='sigmoid'))  # Assuming binary classification\n",
        "\n",
        "# Compile the model\n",
        "lstm_model.compile(loss='binary_crossentropy', optimizer='adam', metrics=['accuracy'])\n",
        "\n",
        "# Train the model\n",
        "lstm_model.fit(X_train_lstm, y_train, epochs=50, batch_size=32, verbose=1)\n",
        "\n",
        "# Make predictions on the test set\n",
        "y_pred_lstm = lstm_model.predict(X_test_lstm)\n",
        "y_pred_lstm = np.round(y_pred_lstm).astype(int).flatten()  # Convert probabilities to binary predictions\n",
        "\n",
        "# Calculate the accuracy of the LSTM model\n",
        "accuracy_lstm = accuracy_score(y_test, y_pred_lstm)\n",
        "print(\"LSTM Accuracy:\", accuracy_lstm)\n"
      ]
    }
  ],
  "metadata": {
    "colab": {
      "provenance": [],
      "toc_visible": true
    },
    "kernelspec": {
      "display_name": "Python 3",
      "name": "python3"
    },
    "language_info": {
      "codemirror_mode": {
        "name": "ipython",
        "version": 3
      },
      "file_extension": ".py",
      "mimetype": "text/x-python",
      "name": "python",
      "nbconvert_exporter": "python",
      "pygments_lexer": "ipython3",
      "version": "3.9.13"
    }
  },
  "nbformat": 4,
  "nbformat_minor": 0
}
