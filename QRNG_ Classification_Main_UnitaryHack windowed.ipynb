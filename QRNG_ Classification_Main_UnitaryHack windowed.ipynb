{
 "cells": [
  {
   "cell_type": "code",
   "execution_count": 1,
   "metadata": {},
   "outputs": [],
   "source": [
    "%config Completer.use_jedi = False\n",
    "# fixes firefox tab completion"
   ]
  },
  {
   "cell_type": "code",
   "execution_count": 2,
   "metadata": {
    "id": "wgVYr5-TXm5t"
   },
   "outputs": [],
   "source": [
    "# Importing the required libraries\n",
    "import numpy as np\n",
    "import pandas as pd\n",
    "from itertools import combinations\n",
    "from math import log2, sqrt, factorial\n",
    "from sklearn.metrics import accuracy_score\n",
    "from sklearn.model_selection import train_test_split\n",
    "from scipy.fft import fft, ifft\n",
    "from scipy.special import erfc\n",
    "import itertools"
   ]
  },
  {
   "cell_type": "code",
   "execution_count": 3,
   "metadata": {},
   "outputs": [],
   "source": [
    "# parallelism\n",
    "from concurrent.futures import ProcessPoolExecutor, ThreadPoolExecutor\n",
    "from multiprocessing import get_context"
   ]
  },
  {
   "cell_type": "code",
   "execution_count": 4,
   "metadata": {},
   "outputs": [],
   "source": [
    "pd.options.mode.copy_on_write = \"warn\""
   ]
  },
  {
   "cell_type": "code",
   "execution_count": 5,
   "metadata": {},
   "outputs": [],
   "source": [
    "# todo: some of these take a longggg time "
   ]
  },
  {
   "cell_type": "code",
   "execution_count": 6,
   "metadata": {
    "colab": {
     "base_uri": "https://localhost:8080/"
    },
    "id": "-MxSPTrNXsp6",
    "outputId": "0e8f768e-776e-480f-f290-0725176cabe7",
    "scrolled": true
   },
   "outputs": [],
   "source": [
    "# Concatenate data\n",
    "def concatenateData(df, num_concats):\n",
    "    if num_concats == 0: # do nothing\n",
    "        return df.rename(columns={'binary_number': 'bitstring'})\n",
    "    new_df = pd.DataFrame({\n",
    "        'bitstring': [''] * (len(df) // num_concats), \n",
    "        'label': [0] * (len(df) // num_concats)\n",
    "    })\n",
    "\n",
    "    # Loop through each group of num_concats rows and concatenate their 'binary_number' strings\n",
    "    for i in range(0, len(df), num_concats):\n",
    "        new_df.iloc[i // num_concats, 0] = ''.join(df['binary_number'][i:i + num_concats])\n",
    "        new_df.iloc[i // num_concats, 1] = df['label'][i]\n",
    "\n",
    "    return new_df\n",
    "\n",
    "# Calculate Shannon entropy for each concatenated binary sequence\n",
    "def shannon_entropy(binary_string):\n",
    "    if len(binary_string) % 2 != 0:\n",
    "        raise ValueError(\"Binary string length must be a multiple of 2.\")\n",
    "    \n",
    "    patterns = ['00', '10', '11', '01']\n",
    "    frequency = {pattern: 0 for pattern in patterns}\n",
    "    \n",
    "    for i in range(0, len(binary_string), 2):\n",
    "        segment = binary_string[i:i+2]\n",
    "        if segment in patterns:\n",
    "            frequency[segment] += 1\n",
    "    \n",
    "    total_segments = sum(frequency.values())\n",
    "    \n",
    "    entropy = 0\n",
    "    for count in frequency.values():\n",
    "        if count > 0:\n",
    "            probability = count / total_segments\n",
    "            entropy -= probability * log2(probability)\n",
    "    \n",
    "    return entropy\n",
    "\n",
    "\n",
    "def classic_spectral_test(bit_string):\n",
    "    bit_array = 2 * np.array([int(bit) for bit in bit_string]) - 1\n",
    "    dft = fft(bit_array)\n",
    "    n_half = len(bit_string) // 2 + 1\n",
    "    mod_dft = np.abs(dft[:n_half])\n",
    "    threshold = np.sqrt(np.log(1 / 0.05) / len(bit_string))\n",
    "    peaks_below_threshold = np.sum(mod_dft < threshold)\n",
    "    expected_peaks = 0.95 * n_half\n",
    "    d = (peaks_below_threshold - expected_peaks) / np.sqrt(len(bit_string) * 0.95 * 0.05)\n",
    "    p_value = erfc(np.abs(d) / np.sqrt(2)) / 2\n",
    "    return d\n",
    "\n",
    "def frequency_test(bit_string):\n",
    "    n = len(bit_string)\n",
    "    count_ones = bit_string.count('1')\n",
    "    count_zeros = bit_string.count('0')\n",
    "    \n",
    "    # The test statistic\n",
    "    s = (count_ones - count_zeros) / sqrt(n)\n",
    "    \n",
    "    # The p-value\n",
    "    p_value = erfc(abs(s) / sqrt(2))\n",
    "    \n",
    "    return p_value\n",
    "\n",
    "def runs_test(bit_string):\n",
    "    n = len(bit_string)\n",
    "    runs = 1  # Start with the first run\n",
    "    for i in range(1, n):\n",
    "        if bit_string[i] != bit_string[i - 1]:\n",
    "            runs += 1\n",
    "    \n",
    "    n0 = bit_string.count('0')\n",
    "    n1 = bit_string.count('1')\n",
    "    \n",
    "    # Expected number of runs\n",
    "    expected_runs = (2 * n0 * n1 / n) + 1\n",
    "    variance_runs = (2 * n0 * n1 * (2 * n0 * n1 - n)) / (n ** 2 * (n - 1))\n",
    "    \n",
    "    # The test statistic\n",
    "    z = (runs - expected_runs) / sqrt(variance_runs)\n",
    "    \n",
    "    # The p-value\n",
    "    p_value = erfc(abs(z) / sqrt(2))\n",
    "    \n",
    "    return p_value\n",
    "\n",
    "def linear_complexity(bit_string, M=500):\n",
    "    # Perform linear complexity test with block size M\n",
    "    n = len(bit_string)\n",
    "    bit_array = np.array([int(bit) for bit in bit_string])\n",
    "    lc = 0  # Initialize linear complexity\n",
    "    \n",
    "    # Process blocks of size M\n",
    "    for i in range(0, n, M):\n",
    "        block = bit_array[i:i+M]\n",
    "        if len(block) < M:\n",
    "            continue\n",
    "        \n",
    "        lc_block = 0\n",
    "        for j in range(M):\n",
    "            if block[j] == 1:\n",
    "                lc_block = j + 1\n",
    "        \n",
    "        lc += lc_block\n",
    "    \n",
    "    lc = lc / (n / M)\n",
    "    return lc\n",
    "\n",
    "def autocorrelation_test(bit_string, lag=1):\n",
    "    n = len(bit_string)\n",
    "    bit_array = np.array([int(bit) for bit in bit_string])\n",
    "    autocorrelation = np.correlate(bit_array, np.roll(bit_array, lag), mode='valid')[0]\n",
    "    return autocorrelation / n\n",
    "\n",
    "def maurer_universal_test(bit_string):\n",
    "    k = 6\n",
    "    l = 5\n",
    "    q = 20\n",
    "    bit_array = np.array([int(bit) for bit in bit_string])\n",
    "    max_val = 2**k\n",
    "    init_subseq = bit_array[:q]\n",
    "    rest_subseq = bit_array[q:]\n",
    "    d = {}\n",
    "    for i in range(len(init_subseq) - k + 1):\n",
    "        d[tuple(init_subseq[i:i+k])] = i\n",
    "    t = []\n",
    "    for i in range(len(rest_subseq) - k + 1):\n",
    "        subseq = tuple(rest_subseq[i:i+k])\n",
    "        if subseq in d:\n",
    "            t.append(i - d[subseq])\n",
    "            d[subseq] = i\n",
    "    if not t:\n",
    "        return 0\n",
    "    t = np.array(t)\n",
    "    log_avg = np.mean(np.log2(t))\n",
    "    return log_avg - np.log2(q)\n",
    "\n",
    "def binary_matrix_rank_test(bit_string, M=32, Q=32):\n",
    "    bit_array = np.array([int(bit) for bit in bit_string])\n",
    "    num_matrices = len(bit_array) // (M * Q)\n",
    "    ranks = []\n",
    "    for i in range(num_matrices):\n",
    "        matrix = bit_array[i*M*Q:(i+1)*M*Q].reshape((M, Q))\n",
    "        rank = np.linalg.matrix_rank(matrix)\n",
    "        ranks.append(rank)\n",
    "    return np.mean(ranks)\n",
    "\n",
    "def cumulative_sums_test(bit_string):\n",
    "    bit_array = np.array([int(bit) for bit in bit_string])\n",
    "    adjusted = 2 * bit_array - 1\n",
    "    cumulative_sum = np.cumsum(adjusted)\n",
    "    max_excursion = np.max(np.abs(cumulative_sum))\n",
    "    return max_excursion\n",
    "\n",
    "def longest_run_ones_test(bit_string, block_size=100):\n",
    "    bit_array = np.array([int(bit) for bit in bit_string])\n",
    "    num_blocks = len(bit_array) // block_size\n",
    "    max_runs = []\n",
    "    for i in range(num_blocks):\n",
    "        block = bit_array[i*block_size:(i+1)*block_size]\n",
    "        max_run = max([len(list(g)) for k, g in itertools.groupby(block) if k == 1])\n",
    "        max_runs.append(max_run)\n",
    "    return np.mean(max_runs)\n",
    "\n",
    "def random_excursions_test(bit_string):\n",
    "    bit_array = np.array([int(bit) for bit in bit_string])\n",
    "    bit_array = 2 * bit_array - 1  # Convert to ±1\n",
    "\n",
    "    cumulative_sum = np.cumsum(bit_array)\n",
    "    states = np.unique(cumulative_sum)\n",
    "\n",
    "    if 0 not in states:\n",
    "        states = np.append(states, 0)\n",
    "    state_counts = {state: 0 for state in states}\n",
    "    for state in cumulative_sum:\n",
    "        state_counts[state] += 1\n",
    "\n",
    "    state_counts[0] -= 1  # Adjust for zero state\n",
    "    pi = [0.5 * (1 - (1 / (2 * state + 1)**2)) for state in states]\n",
    "    x = np.sum([(state_counts[state] - len(bit_string) * pi[i])**2 / (len(bit_string) * pi[i]) for i, state in enumerate(states)])\n",
    "\n",
    "    return x\n",
    "\n",
    "\n",
    "def unique_subsequences(bit_string, length=4):\n",
    "    bit_array = np.array([int(bit) for bit in bit_string])\n",
    "    n = len(bit_array)\n",
    "    subsequences = set()\n",
    "    \n",
    "    for i in range(n - length + 1):\n",
    "        subseq = tuple(bit_array[i:i+length])\n",
    "        subsequences.add(subseq)\n",
    "    \n",
    "    return len(subsequences)\n",
    "\n",
    "def sample_entropy(bit_string, m=2, r=0.2):\n",
    "    bit_array = np.array([int(bit) for bit in bit_string])\n",
    "    N = len(bit_array)\n",
    "    \n",
    "    def _phi(m):\n",
    "        x = np.array([bit_array[i:i+m] for i in range(N - m + 1)])\n",
    "        C = np.sum(np.all(np.abs(x[:, None] - x) <= r, axis=2), axis=0) / (N - m + 1.0)\n",
    "        return np.sum(C) / (N - m + 1.0)\n",
    "    \n",
    "    return -np.log(_phi(m + 1) / _phi(m))\n",
    "\n",
    "def permutation_entropy(bit_string, order=3):\n",
    "    bit_array = np.array([int(bit) for bit in bit_string])\n",
    "    n = len(bit_array)\n",
    "\n",
    "    n_permutations = int(factorial(order))\n",
    "    c = np.zeros(n_permutations)\n",
    "    \n",
    "    for i in range(n - order + 1):\n",
    "        sorted_index_array = tuple(np.argsort(bit_array[i:i+order]))\n",
    "        for j, p in enumerate(itertools.permutations(range(order))):\n",
    "            if np.array_equal(p, sorted_index_array):\n",
    "                c[j] += 1\n",
    "    \n",
    "    c = c / (n - order + 1)\n",
    "    pe = -np.sum(c * np.log2(c + np.finfo(float).eps))\n",
    "    return pe\n",
    "\n",
    "def lyapunov_exponent(bit_string, m=2, t=1):\n",
    "    bit_array = np.array([int(bit) for bit in bit_string])\n",
    "    N = len(bit_array)\n",
    "    \n",
    "    def _phi(m):\n",
    "        x = np.array([bit_array[i:i+m] for i in range(N - m + 1)])\n",
    "        C = np.sum(np.all(np.abs(x[:, None] - x) <= t, axis=2), axis=0) / (N - m + 1.0)\n",
    "        return np.sum(np.log(C + np.finfo(float).eps)) / (N - m + 1.0)\n",
    "    \n",
    "    return abs(_phi(m) - _phi(m + 1))\n",
    "\n",
    "def entropy_rate(bit_string, k=2):\n",
    "    bit_array = np.array([int(bit) for bit in bit_string])\n",
    "    n = len(bit_array)\n",
    "    prob = {}\n",
    "    \n",
    "    for i in range(n - k + 1):\n",
    "        subseq = tuple(bit_array[i:i + k])\n",
    "        if subseq in prob:\n",
    "            prob[subseq] += 1\n",
    "        else:\n",
    "            prob[subseq] = 1\n",
    "    \n",
    "    for key in prob:\n",
    "        prob[key] /= (n - k + 1)\n",
    "    \n",
    "    entropy_rate = -sum(p * log2(p) for p in prob.values())\n",
    "    return entropy_rate\n",
    "\n",
    "\n",
    "# Calculate min-entropy\n",
    "def calculate_min_entropy(sequence):\n",
    "    sequence = np.asarray(sequence, dtype=float)  # Convert sequence to float\n",
    "    p = np.mean(sequence)  # Proportion of ones\n",
    "    max_prob = max(p, 1 - p)\n",
    "    if max_prob == 0:  # Handle the case where all bits are the same\n",
    "        return 0\n",
    "    min_entropy = -np.log2(max_prob)\n",
    "    return min_entropy\n",
    "\n",
    "\n",
    "# Apply randomness tests\n",
    "def apply_randomness_tests(df, tests):\n",
    "    if not tests:\n",
    "        raise ValueError(\"No randomness tests specified.\")\n",
    "\n",
    "    test_functions = {\n",
    "        'autocorrelation': autocorrelation_test,\n",
    "        'cumulative_sums': cumulative_sums_test,\n",
    "        'spectral_test': classic_spectral_test,\n",
    "        'frequency_test': frequency_test,\n",
    "        'runs_test': runs_test,\n",
    "        'shannon_entropy': shannon_entropy,\n",
    "        'min_entropy': calculate_min_entropy,\n",
    "        'entropy_rate': entropy_rate,\n",
    "        'lyapunov_exponent': lyapunov_exponent,\n",
    "        'permutation_entropy': permutation_entropy,\n",
    "        'sample_entropy': sample_entropy,\n",
    "        'unique_subsequences': unique_subsequences,\n",
    "        'random_excursions_test': random_excursions_test,\n",
    "        'longest_run_ones_test': longest_run_ones_test,\n",
    "        'cumulative_sums_test': cumulative_sums_test,\n",
    "        'binary_matrix_rank_test': binary_matrix_rank_test,\n",
    "        'maurer_universal_test': maurer_universal_test,\n",
    "        'linear_complexity': linear_complexity,\n",
    "    }\n",
    "\n",
    "    for i, test in enumerate(tests):\n",
    "        if test not in test_functions:\n",
    "            raise ValueError(f\"Invalid randomness test: {test}\")\n",
    "        print(f'Running test {i+1}/{len(tests)}: {test}')\n",
    "        df[test] = df['bitstring'].apply(test_functions[test])\n",
    "\n",
    "    return df\n",
    "\n",
    "# Preprocess data\n",
    "def preprocess_data(df, num_concats, tests):\n",
    "    df = concatenateData(df, num_concats)\n",
    "    processed_df = apply_randomness_tests(df, tests)\n",
    "    \n",
    "    # Convert concatenated binary strings into separate columns\n",
    "    df_features = pd.DataFrame(processed_df['bitstring'].apply(list).tolist()).astype(int).astype(bool)\n",
    "    processed_df = pd.concat([processed_df.drop(columns='bitstring'), df_features], axis=1)\n",
    "\n",
    "    return processed_df\n",
    "\n"
   ]
  },
  {
   "cell_type": "markdown",
   "metadata": {},
   "source": [
    "# Main\n",
    "file_path = 'AI_2qubits_training_data.txt'\n",
    "\n",
    "# Read the data from the file\n",
    "data = []\n",
    "with open(file_path, 'r') as file:\n",
    "    for line in file:\n",
    "        if line.strip():\n",
    "            binary_number, label = line.strip().split()\n",
    "            data.append((binary_number, int(label)))\n",
    "\n",
    "# Convert the data into a DataFrame\n",
    "df = pd.DataFrame(data, columns=['binary_number', 'label'])\n"
   ]
  },
  {
   "cell_type": "code",
   "execution_count": 7,
   "metadata": {},
   "outputs": [],
   "source": [
    "data_df = pd.read_csv('AI_2qubits_training_data.txt', delimiter=' ', names=['bitstring', 'label'])"
   ]
  },
  {
   "cell_type": "code",
   "execution_count": 8,
   "metadata": {},
   "outputs": [],
   "source": [
    "data_labels = data_df.label.unique()"
   ]
  },
  {
   "cell_type": "code",
   "execution_count": 9,
   "metadata": {
    "scrolled": true
   },
   "outputs": [
    {
     "data": {
      "text/html": [
       "<div>\n",
       "<style scoped>\n",
       "    .dataframe tbody tr th:only-of-type {\n",
       "        vertical-align: middle;\n",
       "    }\n",
       "\n",
       "    .dataframe tbody tr th {\n",
       "        vertical-align: top;\n",
       "    }\n",
       "\n",
       "    .dataframe thead th {\n",
       "        text-align: right;\n",
       "    }\n",
       "</style>\n",
       "<table border=\"1\" class=\"dataframe\">\n",
       "  <thead>\n",
       "    <tr style=\"text-align: right;\">\n",
       "      <th></th>\n",
       "      <th>bitstring</th>\n",
       "      <th>label</th>\n",
       "    </tr>\n",
       "  </thead>\n",
       "  <tbody>\n",
       "    <tr>\n",
       "      <th>0</th>\n",
       "      <td>0110011100111011110010111100100101000101101111...</td>\n",
       "      <td>2</td>\n",
       "    </tr>\n",
       "    <tr>\n",
       "      <th>1</th>\n",
       "      <td>1100011110101110011100110011001110011111001010...</td>\n",
       "      <td>2</td>\n",
       "    </tr>\n",
       "    <tr>\n",
       "      <th>2</th>\n",
       "      <td>1011010111100010111011011111011110110110111111...</td>\n",
       "      <td>2</td>\n",
       "    </tr>\n",
       "    <tr>\n",
       "      <th>3</th>\n",
       "      <td>1111000111110000111011111100010001001011111111...</td>\n",
       "      <td>2</td>\n",
       "    </tr>\n",
       "    <tr>\n",
       "      <th>4</th>\n",
       "      <td>0100000010110000000000011000000000010101011111...</td>\n",
       "      <td>2</td>\n",
       "    </tr>\n",
       "    <tr>\n",
       "      <th>...</th>\n",
       "      <td>...</td>\n",
       "      <td>...</td>\n",
       "    </tr>\n",
       "    <tr>\n",
       "      <th>11995</th>\n",
       "      <td>1111010111001101111011010000011011100100111100...</td>\n",
       "      <td>4</td>\n",
       "    </tr>\n",
       "    <tr>\n",
       "      <th>11996</th>\n",
       "      <td>0101100011000001111011001010001101110100000101...</td>\n",
       "      <td>4</td>\n",
       "    </tr>\n",
       "    <tr>\n",
       "      <th>11997</th>\n",
       "      <td>1100111100111101111000001100010010001111111011...</td>\n",
       "      <td>4</td>\n",
       "    </tr>\n",
       "    <tr>\n",
       "      <th>11998</th>\n",
       "      <td>1101110000111110011101001100111100001011000010...</td>\n",
       "      <td>4</td>\n",
       "    </tr>\n",
       "    <tr>\n",
       "      <th>11999</th>\n",
       "      <td>0011110100001000001111000000001100111011000001...</td>\n",
       "      <td>4</td>\n",
       "    </tr>\n",
       "  </tbody>\n",
       "</table>\n",
       "<p>12000 rows × 2 columns</p>\n",
       "</div>"
      ],
      "text/plain": [
       "                                               bitstring  label\n",
       "0      0110011100111011110010111100100101000101101111...      2\n",
       "1      1100011110101110011100110011001110011111001010...      2\n",
       "2      1011010111100010111011011111011110110110111111...      2\n",
       "3      1111000111110000111011111100010001001011111111...      2\n",
       "4      0100000010110000000000011000000000010101011111...      2\n",
       "...                                                  ...    ...\n",
       "11995  1111010111001101111011010000011011100100111100...      4\n",
       "11996  0101100011000001111011001010001101110100000101...      4\n",
       "11997  1100111100111101111000001100010010001111111011...      4\n",
       "11998  1101110000111110011101001100111100001011000010...      4\n",
       "11999  0011110100001000001111000000001100111011000001...      4\n",
       "\n",
       "[12000 rows x 2 columns]"
      ]
     },
     "execution_count": 9,
     "metadata": {},
     "output_type": "execute_result"
    }
   ],
   "source": [
    "data_df"
   ]
  },
  {
   "cell_type": "code",
   "execution_count": 10,
   "metadata": {},
   "outputs": [
    {
     "data": {
      "text/html": [
       "<div>\n",
       "<style scoped>\n",
       "    .dataframe tbody tr th:only-of-type {\n",
       "        vertical-align: middle;\n",
       "    }\n",
       "\n",
       "    .dataframe tbody tr th {\n",
       "        vertical-align: top;\n",
       "    }\n",
       "\n",
       "    .dataframe thead th {\n",
       "        text-align: right;\n",
       "    }\n",
       "</style>\n",
       "<table border=\"1\" class=\"dataframe\">\n",
       "  <thead>\n",
       "    <tr style=\"text-align: right;\">\n",
       "      <th></th>\n",
       "      <th>bitstring</th>\n",
       "    </tr>\n",
       "    <tr>\n",
       "      <th>label</th>\n",
       "      <th></th>\n",
       "    </tr>\n",
       "  </thead>\n",
       "  <tbody>\n",
       "    <tr>\n",
       "      <th>2</th>\n",
       "      <td>0110011100111011110010111100100101000101101111...</td>\n",
       "    </tr>\n",
       "    <tr>\n",
       "      <th>3</th>\n",
       "      <td>1001000011110111101011010100111001000001001100...</td>\n",
       "    </tr>\n",
       "    <tr>\n",
       "      <th>4</th>\n",
       "      <td>0011011101000100100001010011110010000001000111...</td>\n",
       "    </tr>\n",
       "  </tbody>\n",
       "</table>\n",
       "</div>"
      ],
      "text/plain": [
       "                                               bitstring\n",
       "label                                                   \n",
       "2      0110011100111011110010111100100101000101101111...\n",
       "3      1001000011110111101011010100111001000001001100...\n",
       "4      0011011101000100100001010011110010000001000111..."
      ]
     },
     "execution_count": 10,
     "metadata": {},
     "output_type": "execute_result"
    }
   ],
   "source": [
    "def binary_series_to_string(x):\n",
    "    return ''.join(x['bitstring'].to_list())\n",
    "\n",
    "# work around deprecation warning\n",
    "single_string_df = data_df.groupby('label')[['label','bitstring']].apply(binary_series_to_string)\n",
    "single_string_df = pd.DataFrame(single_string_df, columns=['bitstring'])\n",
    "single_string_df"
   ]
  },
  {
   "cell_type": "code",
   "execution_count": 11,
   "metadata": {},
   "outputs": [],
   "source": [
    "def window(word, size=1, gap=1):\n",
    "    for i in range(0, len(word)-size + 1, gap):\n",
    "        yield word[i:i+size]\n",
    "\n",
    "def gen_substrings(string):\n",
    "    return window(string, size=100, gap=2)"
   ]
  },
  {
   "cell_type": "markdown",
   "metadata": {},
   "source": [
    "sliding window for more training data"
   ]
  },
  {
   "cell_type": "code",
   "execution_count": 12,
   "metadata": {},
   "outputs": [
    {
     "name": "stderr",
     "output_type": "stream",
     "text": [
      "/tmp/ipykernel_29117/1899360156.py:1: DeprecationWarning: DataFrameGroupBy.apply operated on the grouping columns. This behavior is deprecated, and in a future version of pandas the grouping columns will be excluded from the operation. Either pass `include_groups=False` to exclude the groupings or explicitly select the grouping columns after groupby to silence this warning.\n",
      "  windowed_bitstring_df = data_df.groupby('label').apply(lambda x: ''.join(x['bitstring'].to_list()))\n"
     ]
    }
   ],
   "source": [
    "windowed_bitstring_df = data_df.groupby('label').apply(lambda x: ''.join(x['bitstring'].to_list()))\n",
    "\n",
    "#def window(word, size=1, gap=1): return [word[i:i+size] for i in range(0, len(word)-size + 1, gap)]\n",
    "\n",
    "for i in range(len(windowed_bitstring_df)):\n",
    "    windowed_bitstring_df.iloc[i] = list(window(windowed_bitstring_df.iloc[i], 100, 2))  # sample 2 qubits at a time\n",
    "\n",
    "# TODO: assume bits are processed in a single stream - k-fold cross validation should split into k chunks ahead of time to preserve time dependency information?\n",
    "windowed_bitstring_df = pd.DataFrame(windowed_bitstring_df.explode(), columns=['bitstring']).reset_index()"
   ]
  },
  {
   "cell_type": "code",
   "execution_count": 13,
   "metadata": {
    "scrolled": true
   },
   "outputs": [
    {
     "data": {
      "text/html": [
       "<div>\n",
       "<style scoped>\n",
       "    .dataframe tbody tr th:only-of-type {\n",
       "        vertical-align: middle;\n",
       "    }\n",
       "\n",
       "    .dataframe tbody tr th {\n",
       "        vertical-align: top;\n",
       "    }\n",
       "\n",
       "    .dataframe thead th {\n",
       "        text-align: right;\n",
       "    }\n",
       "</style>\n",
       "<table border=\"1\" class=\"dataframe\">\n",
       "  <thead>\n",
       "    <tr style=\"text-align: right;\">\n",
       "      <th></th>\n",
       "      <th>label</th>\n",
       "      <th>bitstring</th>\n",
       "    </tr>\n",
       "  </thead>\n",
       "  <tbody>\n",
       "    <tr>\n",
       "      <th>0</th>\n",
       "      <td>2</td>\n",
       "      <td>0110011100111011110010111100100101000101101111...</td>\n",
       "    </tr>\n",
       "    <tr>\n",
       "      <th>1</th>\n",
       "      <td>2</td>\n",
       "      <td>1001110011101111001011110010010100010110111110...</td>\n",
       "    </tr>\n",
       "    <tr>\n",
       "      <th>2</th>\n",
       "      <td>2</td>\n",
       "      <td>0111001110111100101111001001010001011011111000...</td>\n",
       "    </tr>\n",
       "    <tr>\n",
       "      <th>3</th>\n",
       "      <td>2</td>\n",
       "      <td>1100111011110010111100100101000101101111100011...</td>\n",
       "    </tr>\n",
       "    <tr>\n",
       "      <th>4</th>\n",
       "      <td>2</td>\n",
       "      <td>0011101111001011110010010100010110111110001111...</td>\n",
       "    </tr>\n",
       "    <tr>\n",
       "      <th>...</th>\n",
       "      <td>...</td>\n",
       "      <td>...</td>\n",
       "    </tr>\n",
       "    <tr>\n",
       "      <th>599848</th>\n",
       "      <td>4</td>\n",
       "      <td>0011010000111101000010000011110000000011001110...</td>\n",
       "    </tr>\n",
       "    <tr>\n",
       "      <th>599849</th>\n",
       "      <td>4</td>\n",
       "      <td>1101000011110100001000001111000000001100111011...</td>\n",
       "    </tr>\n",
       "    <tr>\n",
       "      <th>599850</th>\n",
       "      <td>4</td>\n",
       "      <td>0100001111010000100000111100000000110011101100...</td>\n",
       "    </tr>\n",
       "    <tr>\n",
       "      <th>599851</th>\n",
       "      <td>4</td>\n",
       "      <td>0000111101000010000011110000000011001110110000...</td>\n",
       "    </tr>\n",
       "    <tr>\n",
       "      <th>599852</th>\n",
       "      <td>4</td>\n",
       "      <td>0011110100001000001111000000001100111011000001...</td>\n",
       "    </tr>\n",
       "  </tbody>\n",
       "</table>\n",
       "<p>599853 rows × 2 columns</p>\n",
       "</div>"
      ],
      "text/plain": [
       "        label                                          bitstring\n",
       "0           2  0110011100111011110010111100100101000101101111...\n",
       "1           2  1001110011101111001011110010010100010110111110...\n",
       "2           2  0111001110111100101111001001010001011011111000...\n",
       "3           2  1100111011110010111100100101000101101111100011...\n",
       "4           2  0011101111001011110010010100010110111110001111...\n",
       "...       ...                                                ...\n",
       "599848      4  0011010000111101000010000011110000000011001110...\n",
       "599849      4  1101000011110100001000001111000000001100111011...\n",
       "599850      4  0100001111010000100000111100000000110011101100...\n",
       "599851      4  0000111101000010000011110000000011001110110000...\n",
       "599852      4  0011110100001000001111000000001100111011000001...\n",
       "\n",
       "[599853 rows x 2 columns]"
      ]
     },
     "execution_count": 13,
     "metadata": {},
     "output_type": "execute_result"
    }
   ],
   "source": [
    "windowed_bitstring_df"
   ]
  },
  {
   "cell_type": "markdown",
   "metadata": {},
   "source": [
    "do any of the bitstrings overlap with each other?\n"
   ]
  },
  {
   "cell_type": "code",
   "execution_count": 14,
   "metadata": {},
   "outputs": [
    {
     "name": "stdout",
     "output_type": "stream",
     "text": [
      "Overlapping bitstrings between QC 2,3\n",
      "0\n",
      "Overlapping bitstrings between QC 2,4\n",
      "0\n",
      "Overlapping bitstrings between QC 3,4\n",
      "0\n"
     ]
    }
   ],
   "source": [
    "unique_bitstrings_series = single_string_df.groupby('label').apply(lambda x: set(x['bitstring']))\n",
    "for (i, j) in combinations(data_labels, 2):\n",
    "    if i == j: continue\n",
    "    print(f\"Overlapping bitstrings between QC {i},{j}\")\n",
    "    print(len(unique_bitstrings_series[i] & unique_bitstrings_series[j]))"
   ]
  },
  {
   "cell_type": "code",
   "execution_count": 15,
   "metadata": {},
   "outputs": [
    {
     "name": "stdout",
     "output_type": "stream",
     "text": [
      "Overlapping bitstrings between QC 2,3\n",
      "0\n",
      "Overlapping bitstrings between QC 2,4\n",
      "0\n",
      "Overlapping bitstrings between QC 3,4\n",
      "0\n"
     ]
    },
    {
     "name": "stderr",
     "output_type": "stream",
     "text": [
      "/tmp/ipykernel_29117/1590671875.py:1: DeprecationWarning: DataFrameGroupBy.apply operated on the grouping columns. This behavior is deprecated, and in a future version of pandas the grouping columns will be excluded from the operation. Either pass `include_groups=False` to exclude the groupings or explicitly select the grouping columns after groupby to silence this warning.\n",
      "  unique_bitstrings_series = windowed_bitstring_df.groupby('label').apply(lambda x: set(x['bitstring']))\n"
     ]
    }
   ],
   "source": [
    "unique_bitstrings_series = windowed_bitstring_df.groupby('label').apply(lambda x: set(x['bitstring']))\n",
    "for (i, j) in combinations(data_labels, 2):\n",
    "    if i == j: continue\n",
    "    print(f\"Overlapping bitstrings between QC {i},{j}\")\n",
    "    print(len(unique_bitstrings_series[i] & unique_bitstrings_series[j]))"
   ]
  },
  {
   "cell_type": "markdown",
   "metadata": {},
   "source": [
    "No overlapping bitstrings in both solutions. Should be possible to get a good solution."
   ]
  },
  {
   "cell_type": "markdown",
   "metadata": {},
   "source": [
    "How many data points do we have for each label?"
   ]
  },
  {
   "cell_type": "code",
   "execution_count": 16,
   "metadata": {},
   "outputs": [
    {
     "data": {
      "text/plain": [
       "label\n",
       "4    8000\n",
       "2    2000\n",
       "3    2000\n",
       "Name: count, dtype: int64"
      ]
     },
     "execution_count": 16,
     "metadata": {},
     "output_type": "execute_result"
    }
   ],
   "source": [
    "data_df_counts = data_df['label'].value_counts()\n",
    "data_df_counts"
   ]
  },
  {
   "cell_type": "code",
   "execution_count": 17,
   "metadata": {},
   "outputs": [
    {
     "data": {
      "text/plain": [
       "label\n",
       "4    399951\n",
       "2     99951\n",
       "3     99951\n",
       "Name: count, dtype: int64"
      ]
     },
     "execution_count": 17,
     "metadata": {},
     "output_type": "execute_result"
    }
   ],
   "source": [
    "windowed_bitstring_counts = windowed_bitstring_df['label'].value_counts()\n",
    "windowed_bitstring_counts"
   ]
  },
  {
   "cell_type": "code",
   "execution_count": 18,
   "metadata": {},
   "outputs": [
    {
     "name": "stdout",
     "output_type": "stream",
     "text": [
      "Object `accuracy` not found.\n"
     ]
    }
   ],
   "source": [
    "Unbalanced data problem. If the model always predicts the majority class, what is the accuracy?"
   ]
  },
  {
   "cell_type": "code",
   "execution_count": 19,
   "metadata": {},
   "outputs": [
    {
     "data": {
      "text/plain": [
       "0.6666666666666666"
      ]
     },
     "execution_count": 19,
     "metadata": {},
     "output_type": "execute_result"
    }
   ],
   "source": [
    "max(data_df_counts) / sum(data_df_counts)"
   ]
  },
  {
   "cell_type": "code",
   "execution_count": 20,
   "metadata": {
    "scrolled": true
   },
   "outputs": [
    {
     "data": {
      "text/plain": [
       "0.6667483533465699"
      ]
     },
     "execution_count": 20,
     "metadata": {},
     "output_type": "execute_result"
    }
   ],
   "source": [
    "max(windowed_bitstring_counts) / sum(windowed_bitstring_counts)"
   ]
  },
  {
   "cell_type": "markdown",
   "metadata": {},
   "source": [
    "Imbalanced classes. class_weight='balanced' arg seems to hurt performance."
   ]
  },
  {
   "cell_type": "markdown",
   "metadata": {},
   "source": [
    "Resuming code: let's compute features."
   ]
  },
  {
   "cell_type": "code",
   "execution_count": 21,
   "metadata": {},
   "outputs": [],
   "source": [
    "ALL_TESTS = [\n",
    "            'autocorrelation',\n",
    "             'cumulative_sums',\n",
    "             'spectral_test',\n",
    "             'frequency_test',\n",
    "             'runs_test',\n",
    "             'shannon_entropy',\n",
    "             'min_entropy',\n",
    "             'entropy_rate',\n",
    "             'lyapunov_exponent',\n",
    "             'permutation_entropy',\n",
    "             'sample_entropy',\n",
    "             'unique_subsequences',\n",
    "             'random_excursions_test',\n",
    "             'longest_run_ones_test',\n",
    "             'cumulative_sums_test',\n",
    "             'binary_matrix_rank_test',\n",
    "             'maurer_universal_test',\n",
    "             'linear_complexity',\n",
    "            ]\n",
    "def get_features(data_df):\n",
    "    tests_to_apply = ALL_TESTS # ['spectral_test', 'shannon_entropy', 'frequency_test', 'runs_test', 'autocorrelation']\n",
    "\n",
    "    # Preprocess data and apply randomness tests\n",
    "    preprocessed_df = preprocess_data(data_df, num_concats=0, tests=tests_to_apply)\n",
    "    preprocessed_df[preprocessed_df.select_dtypes(np.float64).columns] = preprocessed_df.select_dtypes(np.float64).astype(np.float32)\n",
    "    return preprocessed_df"
   ]
  },
  {
   "cell_type": "code",
   "execution_count": 22,
   "metadata": {},
   "outputs": [
    {
     "name": "stdout",
     "output_type": "stream",
     "text": [
      "Running test 1/18: autocorrelation\n",
      "Running test 2/18: cumulative_sums\n",
      "Running test 3/18: spectral_test\n",
      "Running test 4/18: frequency_test\n",
      "Running test 5/18: runs_test\n",
      "Running test 6/18: shannon_entropy\n",
      "Running test 7/18: min_entropy\n",
      "Running test 8/18: entropy_rate\n",
      "Running test 9/18: lyapunov_exponent\n",
      "Running test 10/18: permutation_entropy\n",
      "Running test 11/18: sample_entropy\n",
      "Running test 12/18: unique_subsequences\n",
      "Running test 13/18: random_excursions_test\n"
     ]
    },
    {
     "name": "stderr",
     "output_type": "stream",
     "text": [
      "/tmp/ipykernel_29117/3088719930.py:181: RuntimeWarning: divide by zero encountered in scalar divide\n",
      "  x = np.sum([(state_counts[state] - len(bit_string) * pi[i])**2 / (len(bit_string) * pi[i]) for i, state in enumerate(states)])\n",
      "/tmp/ipykernel_29117/3088719930.py:181: RuntimeWarning: invalid value encountered in scalar divide\n",
      "  x = np.sum([(state_counts[state] - len(bit_string) * pi[i])**2 / (len(bit_string) * pi[i]) for i, state in enumerate(states)])\n"
     ]
    },
    {
     "name": "stdout",
     "output_type": "stream",
     "text": [
      "Running test 14/18: longest_run_ones_test\n",
      "Running test 15/18: cumulative_sums_test\n",
      "Running test 16/18: binary_matrix_rank_test\n"
     ]
    },
    {
     "name": "stderr",
     "output_type": "stream",
     "text": [
      "/home/q/.jupyter/jupyter/lib/python3.11/site-packages/numpy/core/fromnumeric.py:3504: RuntimeWarning: Mean of empty slice.\n",
      "  return _methods._mean(a, axis=axis, dtype=dtype,\n",
      "/home/q/.jupyter/jupyter/lib/python3.11/site-packages/numpy/core/_methods.py:129: RuntimeWarning: invalid value encountered in scalar divide\n",
      "  ret = ret.dtype.type(ret / rcount)\n"
     ]
    },
    {
     "name": "stdout",
     "output_type": "stream",
     "text": [
      "Running test 17/18: maurer_universal_test\n"
     ]
    },
    {
     "name": "stderr",
     "output_type": "stream",
     "text": [
      "/tmp/ipykernel_29117/3088719930.py:136: RuntimeWarning: invalid value encountered in log2\n",
      "  log_avg = np.mean(np.log2(t))\n",
      "/tmp/ipykernel_29117/3088719930.py:136: RuntimeWarning: divide by zero encountered in log2\n",
      "  log_avg = np.mean(np.log2(t))\n"
     ]
    },
    {
     "name": "stdout",
     "output_type": "stream",
     "text": [
      "Running test 18/18: linear_complexity\n"
     ]
    },
    {
     "data": {
      "text/html": [
       "<div>\n",
       "<style scoped>\n",
       "    .dataframe tbody tr th:only-of-type {\n",
       "        vertical-align: middle;\n",
       "    }\n",
       "\n",
       "    .dataframe tbody tr th {\n",
       "        vertical-align: top;\n",
       "    }\n",
       "\n",
       "    .dataframe thead th {\n",
       "        text-align: right;\n",
       "    }\n",
       "</style>\n",
       "<table border=\"1\" class=\"dataframe\">\n",
       "  <thead>\n",
       "    <tr style=\"text-align: right;\">\n",
       "      <th></th>\n",
       "      <th>label</th>\n",
       "      <th>autocorrelation</th>\n",
       "      <th>cumulative_sums</th>\n",
       "      <th>spectral_test</th>\n",
       "      <th>frequency_test</th>\n",
       "      <th>runs_test</th>\n",
       "      <th>shannon_entropy</th>\n",
       "      <th>min_entropy</th>\n",
       "      <th>entropy_rate</th>\n",
       "      <th>lyapunov_exponent</th>\n",
       "      <th>...</th>\n",
       "      <th>90</th>\n",
       "      <th>91</th>\n",
       "      <th>92</th>\n",
       "      <th>93</th>\n",
       "      <th>94</th>\n",
       "      <th>95</th>\n",
       "      <th>96</th>\n",
       "      <th>97</th>\n",
       "      <th>98</th>\n",
       "      <th>99</th>\n",
       "    </tr>\n",
       "  </thead>\n",
       "  <tbody>\n",
       "    <tr>\n",
       "      <th>0</th>\n",
       "      <td>2</td>\n",
       "      <td>0.45</td>\n",
       "      <td>30</td>\n",
       "      <td>-22.230385</td>\n",
       "      <td>0.002700</td>\n",
       "      <td>0.150635</td>\n",
       "      <td>1.857699</td>\n",
       "      <td>-325.686615</td>\n",
       "      <td>1.852731</td>\n",
       "      <td>0.0</td>\n",
       "      <td>...</td>\n",
       "      <td>True</td>\n",
       "      <td>True</td>\n",
       "      <td>False</td>\n",
       "      <td>False</td>\n",
       "      <td>True</td>\n",
       "      <td>True</td>\n",
       "      <td>False</td>\n",
       "      <td>True</td>\n",
       "      <td>True</td>\n",
       "      <td>True</td>\n",
       "    </tr>\n",
       "    <tr>\n",
       "      <th>1</th>\n",
       "      <td>2</td>\n",
       "      <td>0.47</td>\n",
       "      <td>32</td>\n",
       "      <td>-22.230385</td>\n",
       "      <td>0.001374</td>\n",
       "      <td>0.122934</td>\n",
       "      <td>1.838327</td>\n",
       "      <td>-328.872467</td>\n",
       "      <td>1.840382</td>\n",
       "      <td>0.0</td>\n",
       "      <td>...</td>\n",
       "      <td>False</td>\n",
       "      <td>False</td>\n",
       "      <td>True</td>\n",
       "      <td>True</td>\n",
       "      <td>False</td>\n",
       "      <td>True</td>\n",
       "      <td>True</td>\n",
       "      <td>True</td>\n",
       "      <td>True</td>\n",
       "      <td>True</td>\n",
       "    </tr>\n",
       "    <tr>\n",
       "      <th>2</th>\n",
       "      <td>2</td>\n",
       "      <td>0.46</td>\n",
       "      <td>32</td>\n",
       "      <td>-22.230385</td>\n",
       "      <td>0.002700</td>\n",
       "      <td>0.097234</td>\n",
       "      <td>1.841943</td>\n",
       "      <td>-325.699524</td>\n",
       "      <td>1.840382</td>\n",
       "      <td>0.0</td>\n",
       "      <td>...</td>\n",
       "      <td>True</td>\n",
       "      <td>True</td>\n",
       "      <td>False</td>\n",
       "      <td>True</td>\n",
       "      <td>True</td>\n",
       "      <td>True</td>\n",
       "      <td>True</td>\n",
       "      <td>True</td>\n",
       "      <td>False</td>\n",
       "      <td>False</td>\n",
       "    </tr>\n",
       "    <tr>\n",
       "      <th>3</th>\n",
       "      <td>2</td>\n",
       "      <td>0.46</td>\n",
       "      <td>32</td>\n",
       "      <td>-22.230385</td>\n",
       "      <td>0.002700</td>\n",
       "      <td>0.097234</td>\n",
       "      <td>1.841943</td>\n",
       "      <td>-329.008545</td>\n",
       "      <td>1.856077</td>\n",
       "      <td>0.0</td>\n",
       "      <td>...</td>\n",
       "      <td>False</td>\n",
       "      <td>True</td>\n",
       "      <td>True</td>\n",
       "      <td>True</td>\n",
       "      <td>True</td>\n",
       "      <td>True</td>\n",
       "      <td>False</td>\n",
       "      <td>False</td>\n",
       "      <td>False</td>\n",
       "      <td>True</td>\n",
       "    </tr>\n",
       "    <tr>\n",
       "      <th>4</th>\n",
       "      <td>2</td>\n",
       "      <td>0.46</td>\n",
       "      <td>30</td>\n",
       "      <td>-22.230385</td>\n",
       "      <td>0.002700</td>\n",
       "      <td>0.060171</td>\n",
       "      <td>1.841943</td>\n",
       "      <td>-322.377716</td>\n",
       "      <td>1.842961</td>\n",
       "      <td>0.0</td>\n",
       "      <td>...</td>\n",
       "      <td>True</td>\n",
       "      <td>True</td>\n",
       "      <td>True</td>\n",
       "      <td>True</td>\n",
       "      <td>False</td>\n",
       "      <td>False</td>\n",
       "      <td>False</td>\n",
       "      <td>True</td>\n",
       "      <td>True</td>\n",
       "      <td>True</td>\n",
       "    </tr>\n",
       "    <tr>\n",
       "      <th>...</th>\n",
       "      <td>...</td>\n",
       "      <td>...</td>\n",
       "      <td>...</td>\n",
       "      <td>...</td>\n",
       "      <td>...</td>\n",
       "      <td>...</td>\n",
       "      <td>...</td>\n",
       "      <td>...</td>\n",
       "      <td>...</td>\n",
       "      <td>...</td>\n",
       "      <td>...</td>\n",
       "      <td>...</td>\n",
       "      <td>...</td>\n",
       "      <td>...</td>\n",
       "      <td>...</td>\n",
       "      <td>...</td>\n",
       "      <td>...</td>\n",
       "      <td>...</td>\n",
       "      <td>...</td>\n",
       "      <td>...</td>\n",
       "      <td>...</td>\n",
       "    </tr>\n",
       "    <tr>\n",
       "      <th>599848</th>\n",
       "      <td>4</td>\n",
       "      <td>0.19</td>\n",
       "      <td>26</td>\n",
       "      <td>-22.230385</td>\n",
       "      <td>0.027807</td>\n",
       "      <td>0.109146</td>\n",
       "      <td>1.702839</td>\n",
       "      <td>-322.365845</td>\n",
       "      <td>1.917590</td>\n",
       "      <td>0.0</td>\n",
       "      <td>...</td>\n",
       "      <td>True</td>\n",
       "      <td>False</td>\n",
       "      <td>True</td>\n",
       "      <td>True</td>\n",
       "      <td>True</td>\n",
       "      <td>True</td>\n",
       "      <td>True</td>\n",
       "      <td>True</td>\n",
       "      <td>False</td>\n",
       "      <td>False</td>\n",
       "    </tr>\n",
       "    <tr>\n",
       "      <th>599849</th>\n",
       "      <td>4</td>\n",
       "      <td>0.19</td>\n",
       "      <td>24</td>\n",
       "      <td>-22.230385</td>\n",
       "      <td>0.027807</td>\n",
       "      <td>0.069771</td>\n",
       "      <td>1.702839</td>\n",
       "      <td>-329.009705</td>\n",
       "      <td>1.906938</td>\n",
       "      <td>0.0</td>\n",
       "      <td>...</td>\n",
       "      <td>True</td>\n",
       "      <td>True</td>\n",
       "      <td>True</td>\n",
       "      <td>True</td>\n",
       "      <td>True</td>\n",
       "      <td>True</td>\n",
       "      <td>False</td>\n",
       "      <td>False</td>\n",
       "      <td>False</td>\n",
       "      <td>False</td>\n",
       "    </tr>\n",
       "    <tr>\n",
       "      <th>599850</th>\n",
       "      <td>4</td>\n",
       "      <td>0.19</td>\n",
       "      <td>26</td>\n",
       "      <td>-22.230385</td>\n",
       "      <td>0.027807</td>\n",
       "      <td>0.069771</td>\n",
       "      <td>1.702839</td>\n",
       "      <td>-325.548981</td>\n",
       "      <td>1.906938</td>\n",
       "      <td>0.0</td>\n",
       "      <td>...</td>\n",
       "      <td>True</td>\n",
       "      <td>True</td>\n",
       "      <td>True</td>\n",
       "      <td>True</td>\n",
       "      <td>False</td>\n",
       "      <td>False</td>\n",
       "      <td>False</td>\n",
       "      <td>False</td>\n",
       "      <td>True</td>\n",
       "      <td>True</td>\n",
       "    </tr>\n",
       "    <tr>\n",
       "      <th>599851</th>\n",
       "      <td>4</td>\n",
       "      <td>0.19</td>\n",
       "      <td>26</td>\n",
       "      <td>-22.230385</td>\n",
       "      <td>0.027807</td>\n",
       "      <td>0.069771</td>\n",
       "      <td>1.702839</td>\n",
       "      <td>-315.735046</td>\n",
       "      <td>1.906938</td>\n",
       "      <td>0.0</td>\n",
       "      <td>...</td>\n",
       "      <td>True</td>\n",
       "      <td>True</td>\n",
       "      <td>False</td>\n",
       "      <td>False</td>\n",
       "      <td>False</td>\n",
       "      <td>False</td>\n",
       "      <td>True</td>\n",
       "      <td>True</td>\n",
       "      <td>False</td>\n",
       "      <td>True</td>\n",
       "    </tr>\n",
       "    <tr>\n",
       "      <th>599852</th>\n",
       "      <td>4</td>\n",
       "      <td>0.21</td>\n",
       "      <td>24</td>\n",
       "      <td>-22.230385</td>\n",
       "      <td>0.071861</td>\n",
       "      <td>0.051254</td>\n",
       "      <td>1.717977</td>\n",
       "      <td>-322.378906</td>\n",
       "      <td>1.927149</td>\n",
       "      <td>0.0</td>\n",
       "      <td>...</td>\n",
       "      <td>False</td>\n",
       "      <td>False</td>\n",
       "      <td>False</td>\n",
       "      <td>False</td>\n",
       "      <td>True</td>\n",
       "      <td>True</td>\n",
       "      <td>False</td>\n",
       "      <td>True</td>\n",
       "      <td>True</td>\n",
       "      <td>True</td>\n",
       "    </tr>\n",
       "  </tbody>\n",
       "</table>\n",
       "<p>599853 rows × 119 columns</p>\n",
       "</div>"
      ],
      "text/plain": [
       "        label  autocorrelation  cumulative_sums  spectral_test  \\\n",
       "0           2             0.45               30     -22.230385   \n",
       "1           2             0.47               32     -22.230385   \n",
       "2           2             0.46               32     -22.230385   \n",
       "3           2             0.46               32     -22.230385   \n",
       "4           2             0.46               30     -22.230385   \n",
       "...       ...              ...              ...            ...   \n",
       "599848      4             0.19               26     -22.230385   \n",
       "599849      4             0.19               24     -22.230385   \n",
       "599850      4             0.19               26     -22.230385   \n",
       "599851      4             0.19               26     -22.230385   \n",
       "599852      4             0.21               24     -22.230385   \n",
       "\n",
       "        frequency_test  runs_test  shannon_entropy  min_entropy  entropy_rate  \\\n",
       "0             0.002700   0.150635         1.857699  -325.686615      1.852731   \n",
       "1             0.001374   0.122934         1.838327  -328.872467      1.840382   \n",
       "2             0.002700   0.097234         1.841943  -325.699524      1.840382   \n",
       "3             0.002700   0.097234         1.841943  -329.008545      1.856077   \n",
       "4             0.002700   0.060171         1.841943  -322.377716      1.842961   \n",
       "...                ...        ...              ...          ...           ...   \n",
       "599848        0.027807   0.109146         1.702839  -322.365845      1.917590   \n",
       "599849        0.027807   0.069771         1.702839  -329.009705      1.906938   \n",
       "599850        0.027807   0.069771         1.702839  -325.548981      1.906938   \n",
       "599851        0.027807   0.069771         1.702839  -315.735046      1.906938   \n",
       "599852        0.071861   0.051254         1.717977  -322.378906      1.927149   \n",
       "\n",
       "        lyapunov_exponent  ...     90     91     92     93     94     95  \\\n",
       "0                     0.0  ...   True   True  False  False   True   True   \n",
       "1                     0.0  ...  False  False   True   True  False   True   \n",
       "2                     0.0  ...   True   True  False   True   True   True   \n",
       "3                     0.0  ...  False   True   True   True   True   True   \n",
       "4                     0.0  ...   True   True   True   True  False  False   \n",
       "...                   ...  ...    ...    ...    ...    ...    ...    ...   \n",
       "599848                0.0  ...   True  False   True   True   True   True   \n",
       "599849                0.0  ...   True   True   True   True   True   True   \n",
       "599850                0.0  ...   True   True   True   True  False  False   \n",
       "599851                0.0  ...   True   True  False  False  False  False   \n",
       "599852                0.0  ...  False  False  False  False   True   True   \n",
       "\n",
       "           96     97     98     99  \n",
       "0       False   True   True   True  \n",
       "1        True   True   True   True  \n",
       "2        True   True  False  False  \n",
       "3       False  False  False   True  \n",
       "4       False   True   True   True  \n",
       "...       ...    ...    ...    ...  \n",
       "599848   True   True  False  False  \n",
       "599849  False  False  False  False  \n",
       "599850  False  False   True   True  \n",
       "599851   True   True  False   True  \n",
       "599852  False   True   True   True  \n",
       "\n",
       "[599853 rows x 119 columns]"
      ]
     },
     "execution_count": 22,
     "metadata": {},
     "output_type": "execute_result"
    }
   ],
   "source": [
    "preprocessed_df = get_features(windowed_bitstring_df)\n",
    "preprocessed_df"
   ]
  },
  {
   "cell_type": "markdown",
   "metadata": {},
   "source": [
    "Math errors may cause NAs"
   ]
  },
  {
   "cell_type": "code",
   "execution_count": 23,
   "metadata": {},
   "outputs": [
    {
     "data": {
      "text/plain": [
       "True"
      ]
     },
     "execution_count": 23,
     "metadata": {},
     "output_type": "execute_result"
    }
   ],
   "source": [
    "any(preprocessed_df.isna())"
   ]
  },
  {
   "cell_type": "code",
   "execution_count": 24,
   "metadata": {},
   "outputs": [
    {
     "data": {
      "text/plain": [
       "random_excursions_test      56904\n",
       "binary_matrix_rank_test    599853\n",
       "maurer_universal_test      383873\n",
       "dtype: int64"
      ]
     },
     "execution_count": 24,
     "metadata": {},
     "output_type": "execute_result"
    }
   ],
   "source": [
    "sums = preprocessed_df.isna().sum()\n",
    "sums[sums>1]\n"
   ]
  },
  {
   "cell_type": "code",
   "execution_count": 25,
   "metadata": {},
   "outputs": [
    {
     "data": {
      "text/html": [
       "<div>\n",
       "<style scoped>\n",
       "    .dataframe tbody tr th:only-of-type {\n",
       "        vertical-align: middle;\n",
       "    }\n",
       "\n",
       "    .dataframe tbody tr th {\n",
       "        vertical-align: top;\n",
       "    }\n",
       "\n",
       "    .dataframe thead th {\n",
       "        text-align: right;\n",
       "    }\n",
       "</style>\n",
       "<table border=\"1\" class=\"dataframe\">\n",
       "  <thead>\n",
       "    <tr style=\"text-align: right;\">\n",
       "      <th></th>\n",
       "      <th>label</th>\n",
       "      <th>autocorrelation</th>\n",
       "      <th>cumulative_sums</th>\n",
       "      <th>spectral_test</th>\n",
       "      <th>frequency_test</th>\n",
       "      <th>runs_test</th>\n",
       "      <th>shannon_entropy</th>\n",
       "      <th>min_entropy</th>\n",
       "      <th>entropy_rate</th>\n",
       "      <th>lyapunov_exponent</th>\n",
       "      <th>...</th>\n",
       "      <th>90</th>\n",
       "      <th>91</th>\n",
       "      <th>92</th>\n",
       "      <th>93</th>\n",
       "      <th>94</th>\n",
       "      <th>95</th>\n",
       "      <th>96</th>\n",
       "      <th>97</th>\n",
       "      <th>98</th>\n",
       "      <th>99</th>\n",
       "    </tr>\n",
       "  </thead>\n",
       "  <tbody>\n",
       "    <tr>\n",
       "      <th>0</th>\n",
       "      <td>2</td>\n",
       "      <td>0.45</td>\n",
       "      <td>30</td>\n",
       "      <td>-22.230385</td>\n",
       "      <td>0.002700</td>\n",
       "      <td>0.150635</td>\n",
       "      <td>1.857699</td>\n",
       "      <td>-325.686615</td>\n",
       "      <td>1.852731</td>\n",
       "      <td>0.0</td>\n",
       "      <td>...</td>\n",
       "      <td>True</td>\n",
       "      <td>True</td>\n",
       "      <td>False</td>\n",
       "      <td>False</td>\n",
       "      <td>True</td>\n",
       "      <td>True</td>\n",
       "      <td>False</td>\n",
       "      <td>True</td>\n",
       "      <td>True</td>\n",
       "      <td>True</td>\n",
       "    </tr>\n",
       "    <tr>\n",
       "      <th>1</th>\n",
       "      <td>2</td>\n",
       "      <td>0.47</td>\n",
       "      <td>32</td>\n",
       "      <td>-22.230385</td>\n",
       "      <td>0.001374</td>\n",
       "      <td>0.122934</td>\n",
       "      <td>1.838327</td>\n",
       "      <td>-328.872467</td>\n",
       "      <td>1.840382</td>\n",
       "      <td>0.0</td>\n",
       "      <td>...</td>\n",
       "      <td>False</td>\n",
       "      <td>False</td>\n",
       "      <td>True</td>\n",
       "      <td>True</td>\n",
       "      <td>False</td>\n",
       "      <td>True</td>\n",
       "      <td>True</td>\n",
       "      <td>True</td>\n",
       "      <td>True</td>\n",
       "      <td>True</td>\n",
       "    </tr>\n",
       "    <tr>\n",
       "      <th>2</th>\n",
       "      <td>2</td>\n",
       "      <td>0.46</td>\n",
       "      <td>32</td>\n",
       "      <td>-22.230385</td>\n",
       "      <td>0.002700</td>\n",
       "      <td>0.097234</td>\n",
       "      <td>1.841943</td>\n",
       "      <td>-325.699524</td>\n",
       "      <td>1.840382</td>\n",
       "      <td>0.0</td>\n",
       "      <td>...</td>\n",
       "      <td>True</td>\n",
       "      <td>True</td>\n",
       "      <td>False</td>\n",
       "      <td>True</td>\n",
       "      <td>True</td>\n",
       "      <td>True</td>\n",
       "      <td>True</td>\n",
       "      <td>True</td>\n",
       "      <td>False</td>\n",
       "      <td>False</td>\n",
       "    </tr>\n",
       "    <tr>\n",
       "      <th>3</th>\n",
       "      <td>2</td>\n",
       "      <td>0.46</td>\n",
       "      <td>32</td>\n",
       "      <td>-22.230385</td>\n",
       "      <td>0.002700</td>\n",
       "      <td>0.097234</td>\n",
       "      <td>1.841943</td>\n",
       "      <td>-329.008545</td>\n",
       "      <td>1.856077</td>\n",
       "      <td>0.0</td>\n",
       "      <td>...</td>\n",
       "      <td>False</td>\n",
       "      <td>True</td>\n",
       "      <td>True</td>\n",
       "      <td>True</td>\n",
       "      <td>True</td>\n",
       "      <td>True</td>\n",
       "      <td>False</td>\n",
       "      <td>False</td>\n",
       "      <td>False</td>\n",
       "      <td>True</td>\n",
       "    </tr>\n",
       "    <tr>\n",
       "      <th>4</th>\n",
       "      <td>2</td>\n",
       "      <td>0.46</td>\n",
       "      <td>30</td>\n",
       "      <td>-22.230385</td>\n",
       "      <td>0.002700</td>\n",
       "      <td>0.060171</td>\n",
       "      <td>1.841943</td>\n",
       "      <td>-322.377716</td>\n",
       "      <td>1.842961</td>\n",
       "      <td>0.0</td>\n",
       "      <td>...</td>\n",
       "      <td>True</td>\n",
       "      <td>True</td>\n",
       "      <td>True</td>\n",
       "      <td>True</td>\n",
       "      <td>False</td>\n",
       "      <td>False</td>\n",
       "      <td>False</td>\n",
       "      <td>True</td>\n",
       "      <td>True</td>\n",
       "      <td>True</td>\n",
       "    </tr>\n",
       "    <tr>\n",
       "      <th>...</th>\n",
       "      <td>...</td>\n",
       "      <td>...</td>\n",
       "      <td>...</td>\n",
       "      <td>...</td>\n",
       "      <td>...</td>\n",
       "      <td>...</td>\n",
       "      <td>...</td>\n",
       "      <td>...</td>\n",
       "      <td>...</td>\n",
       "      <td>...</td>\n",
       "      <td>...</td>\n",
       "      <td>...</td>\n",
       "      <td>...</td>\n",
       "      <td>...</td>\n",
       "      <td>...</td>\n",
       "      <td>...</td>\n",
       "      <td>...</td>\n",
       "      <td>...</td>\n",
       "      <td>...</td>\n",
       "      <td>...</td>\n",
       "      <td>...</td>\n",
       "    </tr>\n",
       "    <tr>\n",
       "      <th>599848</th>\n",
       "      <td>4</td>\n",
       "      <td>0.19</td>\n",
       "      <td>26</td>\n",
       "      <td>-22.230385</td>\n",
       "      <td>0.027807</td>\n",
       "      <td>0.109146</td>\n",
       "      <td>1.702839</td>\n",
       "      <td>-322.365845</td>\n",
       "      <td>1.917590</td>\n",
       "      <td>0.0</td>\n",
       "      <td>...</td>\n",
       "      <td>True</td>\n",
       "      <td>False</td>\n",
       "      <td>True</td>\n",
       "      <td>True</td>\n",
       "      <td>True</td>\n",
       "      <td>True</td>\n",
       "      <td>True</td>\n",
       "      <td>True</td>\n",
       "      <td>False</td>\n",
       "      <td>False</td>\n",
       "    </tr>\n",
       "    <tr>\n",
       "      <th>599849</th>\n",
       "      <td>4</td>\n",
       "      <td>0.19</td>\n",
       "      <td>24</td>\n",
       "      <td>-22.230385</td>\n",
       "      <td>0.027807</td>\n",
       "      <td>0.069771</td>\n",
       "      <td>1.702839</td>\n",
       "      <td>-329.009705</td>\n",
       "      <td>1.906938</td>\n",
       "      <td>0.0</td>\n",
       "      <td>...</td>\n",
       "      <td>True</td>\n",
       "      <td>True</td>\n",
       "      <td>True</td>\n",
       "      <td>True</td>\n",
       "      <td>True</td>\n",
       "      <td>True</td>\n",
       "      <td>False</td>\n",
       "      <td>False</td>\n",
       "      <td>False</td>\n",
       "      <td>False</td>\n",
       "    </tr>\n",
       "    <tr>\n",
       "      <th>599850</th>\n",
       "      <td>4</td>\n",
       "      <td>0.19</td>\n",
       "      <td>26</td>\n",
       "      <td>-22.230385</td>\n",
       "      <td>0.027807</td>\n",
       "      <td>0.069771</td>\n",
       "      <td>1.702839</td>\n",
       "      <td>-325.548981</td>\n",
       "      <td>1.906938</td>\n",
       "      <td>0.0</td>\n",
       "      <td>...</td>\n",
       "      <td>True</td>\n",
       "      <td>True</td>\n",
       "      <td>True</td>\n",
       "      <td>True</td>\n",
       "      <td>False</td>\n",
       "      <td>False</td>\n",
       "      <td>False</td>\n",
       "      <td>False</td>\n",
       "      <td>True</td>\n",
       "      <td>True</td>\n",
       "    </tr>\n",
       "    <tr>\n",
       "      <th>599851</th>\n",
       "      <td>4</td>\n",
       "      <td>0.19</td>\n",
       "      <td>26</td>\n",
       "      <td>-22.230385</td>\n",
       "      <td>0.027807</td>\n",
       "      <td>0.069771</td>\n",
       "      <td>1.702839</td>\n",
       "      <td>-315.735046</td>\n",
       "      <td>1.906938</td>\n",
       "      <td>0.0</td>\n",
       "      <td>...</td>\n",
       "      <td>True</td>\n",
       "      <td>True</td>\n",
       "      <td>False</td>\n",
       "      <td>False</td>\n",
       "      <td>False</td>\n",
       "      <td>False</td>\n",
       "      <td>True</td>\n",
       "      <td>True</td>\n",
       "      <td>False</td>\n",
       "      <td>True</td>\n",
       "    </tr>\n",
       "    <tr>\n",
       "      <th>599852</th>\n",
       "      <td>4</td>\n",
       "      <td>0.21</td>\n",
       "      <td>24</td>\n",
       "      <td>-22.230385</td>\n",
       "      <td>0.071861</td>\n",
       "      <td>0.051254</td>\n",
       "      <td>1.717977</td>\n",
       "      <td>-322.378906</td>\n",
       "      <td>1.927149</td>\n",
       "      <td>0.0</td>\n",
       "      <td>...</td>\n",
       "      <td>False</td>\n",
       "      <td>False</td>\n",
       "      <td>False</td>\n",
       "      <td>False</td>\n",
       "      <td>True</td>\n",
       "      <td>True</td>\n",
       "      <td>False</td>\n",
       "      <td>True</td>\n",
       "      <td>True</td>\n",
       "      <td>True</td>\n",
       "    </tr>\n",
       "  </tbody>\n",
       "</table>\n",
       "<p>599853 rows × 116 columns</p>\n",
       "</div>"
      ],
      "text/plain": [
       "        label  autocorrelation  cumulative_sums  spectral_test  \\\n",
       "0           2             0.45               30     -22.230385   \n",
       "1           2             0.47               32     -22.230385   \n",
       "2           2             0.46               32     -22.230385   \n",
       "3           2             0.46               32     -22.230385   \n",
       "4           2             0.46               30     -22.230385   \n",
       "...       ...              ...              ...            ...   \n",
       "599848      4             0.19               26     -22.230385   \n",
       "599849      4             0.19               24     -22.230385   \n",
       "599850      4             0.19               26     -22.230385   \n",
       "599851      4             0.19               26     -22.230385   \n",
       "599852      4             0.21               24     -22.230385   \n",
       "\n",
       "        frequency_test  runs_test  shannon_entropy  min_entropy  entropy_rate  \\\n",
       "0             0.002700   0.150635         1.857699  -325.686615      1.852731   \n",
       "1             0.001374   0.122934         1.838327  -328.872467      1.840382   \n",
       "2             0.002700   0.097234         1.841943  -325.699524      1.840382   \n",
       "3             0.002700   0.097234         1.841943  -329.008545      1.856077   \n",
       "4             0.002700   0.060171         1.841943  -322.377716      1.842961   \n",
       "...                ...        ...              ...          ...           ...   \n",
       "599848        0.027807   0.109146         1.702839  -322.365845      1.917590   \n",
       "599849        0.027807   0.069771         1.702839  -329.009705      1.906938   \n",
       "599850        0.027807   0.069771         1.702839  -325.548981      1.906938   \n",
       "599851        0.027807   0.069771         1.702839  -315.735046      1.906938   \n",
       "599852        0.071861   0.051254         1.717977  -322.378906      1.927149   \n",
       "\n",
       "        lyapunov_exponent  ...     90     91     92     93     94     95  \\\n",
       "0                     0.0  ...   True   True  False  False   True   True   \n",
       "1                     0.0  ...  False  False   True   True  False   True   \n",
       "2                     0.0  ...   True   True  False   True   True   True   \n",
       "3                     0.0  ...  False   True   True   True   True   True   \n",
       "4                     0.0  ...   True   True   True   True  False  False   \n",
       "...                   ...  ...    ...    ...    ...    ...    ...    ...   \n",
       "599848                0.0  ...   True  False   True   True   True   True   \n",
       "599849                0.0  ...   True   True   True   True   True   True   \n",
       "599850                0.0  ...   True   True   True   True  False  False   \n",
       "599851                0.0  ...   True   True  False  False  False  False   \n",
       "599852                0.0  ...  False  False  False  False   True   True   \n",
       "\n",
       "           96     97     98     99  \n",
       "0       False   True   True   True  \n",
       "1        True   True   True   True  \n",
       "2        True   True  False  False  \n",
       "3       False  False  False   True  \n",
       "4       False   True   True   True  \n",
       "...       ...    ...    ...    ...  \n",
       "599848   True   True  False  False  \n",
       "599849  False  False  False  False  \n",
       "599850  False  False   True   True  \n",
       "599851   True   True  False   True  \n",
       "599852  False   True   True   True  \n",
       "\n",
       "[599853 rows x 116 columns]"
      ]
     },
     "execution_count": 25,
     "metadata": {},
     "output_type": "execute_result"
    }
   ],
   "source": [
    "preprocessed_df = preprocessed_df.dropna(axis=1)\n",
    "preprocessed_df"
   ]
  },
  {
   "cell_type": "code",
   "execution_count": 26,
   "metadata": {},
   "outputs": [],
   "source": [
    "uniques_df = preprocessed_df.apply(lambda x: len(set(x)))\n",
    "preprocessed_df = preprocessed_df.drop(columns=uniques_df[uniques_df==1].index)"
   ]
  },
  {
   "cell_type": "code",
   "execution_count": 27,
   "metadata": {},
   "outputs": [],
   "source": [
    "preprocessed_df = preprocessed_df.rename(columns={i: str(i) for i in range(100)})"
   ]
  },
  {
   "cell_type": "code",
   "execution_count": 28,
   "metadata": {},
   "outputs": [
    {
     "name": "stdout",
     "output_type": "stream",
     "text": [
      "*** Zstandard CLI (64-bit) v1.5.4, by Yann Collet ***\n",
      "Note: 2 physical core(s) detected \n",
      "data/QRNG_ Classification_Main_UnitaryHack windowed_preprocessed_df_1718331145.csv :  4.07%   (   377 MiB =>   15.3 MiB, data/QRNG_ Classification_Main_UnitaryHack windowed_preprocessed_df_1718331145.csv.zst) \n"
     ]
    }
   ],
   "source": [
    "# save as csv\n",
    "from datetime import datetime\n",
    "time_right_now = datetime.now().strftime(\"%s\")\n",
    "preprocessed_df.to_csv(f\"data/QRNG_ Classification_Main_UnitaryHack windowed_preprocessed_df_{time_right_now}.csv\", sep='\\t')\n",
    "\n",
    "# then compress it (it was huge)\n",
    "!zstd -v -T0 --force --rm --progress -17 'data/QRNG_ Classification_Main_UnitaryHack windowed_preprocessed_df_'*.csv"
   ]
  },
  {
   "cell_type": "markdown",
   "metadata": {},
   "source": [
    "Train/test splits should not be shuffled since the order that the bits were sampled matters. However, we need to take splits from each of the quantum computers, so the splits really should be interleaved. \n",
    "\n",
    "Later we'll use k-fold CV to get a better result."
   ]
  },
  {
   "cell_type": "markdown",
   "metadata": {},
   "source": [
    "1. Do you need the bitstrings as features?\n",
    "2. Imbalanced classes?\n",
    "3. More features? (More statistical tests)"
   ]
  },
  {
   "cell_type": "code",
   "execution_count": 29,
   "metadata": {
    "scrolled": true
   },
   "outputs": [],
   "source": [
    "def make_data_splits(preprocessed_df, include_bits=True):\n",
    "    drop = ['label']\n",
    "    if not include_bits:\n",
    "        drop += list(str(i) for i in range(100))\n",
    "    # Split the data into features (X) and labels (y)\n",
    "    X = preprocessed_df.drop(columns=drop)#.values\n",
    "    y = preprocessed_df['label']#.values.astype(int)\n",
    "\n",
    "    # Split the data into training and testing sets\n",
    "    X_train, X_test, y_train, y_test = train_test_split(X, y, test_size=0.2, random_state=42)\n",
    "\n",
    "    # Calculate min-entropy for each sequence in the training and testing datasets\n",
    "    # min-entropy also takes into account the bitstring! is this ok?\n",
    "    #min_entropy_train = np.apply_along_axis(calculate_min_entropy, 1, X_train)\n",
    "    #min_entropy_test = np.apply_along_axis(calculate_min_entropy, 1, X_test)\n",
    "\n",
    "    # Add min-entropy as a feature\n",
    "    #X_train = np.column_stack((X_train, min_entropy_train))\n",
    "    #X_test = np.column_stack((X_test, min_entropy_test))\n",
    "\n",
    "    return X_train, X_test, y_train, y_test"
   ]
  },
  {
   "cell_type": "code",
   "execution_count": 30,
   "metadata": {},
   "outputs": [
    {
     "data": {
      "text/plain": [
       "(        autocorrelation  cumulative_sums  spectral_test  frequency_test  \\\n",
       " 447650             0.32               11     -22.230385        0.423711   \n",
       " 205759             0.27                9     -22.230385        0.689157   \n",
       " 393719             0.27                9     -22.230385        0.841481   \n",
       " 214693             0.34                8     -22.230385        0.423711   \n",
       " 400325             0.32               10     -21.771553        0.689157   \n",
       " ...                 ...              ...            ...             ...   \n",
       " 110268             0.33                9     -22.230385        0.423711   \n",
       " 259178             0.17               16     -21.771553        0.109599   \n",
       " 365838             0.35               15     -22.230385        0.161513   \n",
       " 131932             0.19               10     -22.230385        0.317311   \n",
       " 121958             0.23                7     -22.230385        0.841481   \n",
       " \n",
       "         runs_test  shannon_entropy  min_entropy  entropy_rate  \\\n",
       " 447650   0.250469         1.864309  -319.055786      1.980297   \n",
       " 205759   0.072497         1.773912  -309.091187      1.976435   \n",
       " 393719   0.160417         1.938368  -318.919464      1.986836   \n",
       " 214693   0.030708         1.882317  -325.548981      1.959313   \n",
       " 400325   0.027902         1.853847  -328.870880      1.965163   \n",
       " ...           ...              ...          ...           ...   \n",
       " 110268   0.120217         1.922519  -329.008392      1.977097   \n",
       " 259178   0.791677         1.939798  -318.906708      1.965926   \n",
       " 365838   0.303248         1.934281  -329.022858      1.968474   \n",
       " 131932   0.760668         1.956817  -328.886658      1.983903   \n",
       " 121958   0.837478         1.980269  -325.700928      1.998587   \n",
       " \n",
       "         permutation_entropy  sample_entropy  ...     90     91     92     93  \\\n",
       " 447650             1.851173        0.662189  ...   True  False   True  False   \n",
       " 205759             1.754171        0.649027  ...  False   True   True   True   \n",
       " 393719             1.836040        0.678873  ...  False  False   True   True   \n",
       " 214693             1.715907        0.611878  ...  False   True   True   True   \n",
       " 400325             1.744562        0.641045  ...   True  False   True  False   \n",
       " ...                     ...             ...  ...    ...    ...    ...    ...   \n",
       " 110268             1.797419        0.639811  ...   True   True   True  False   \n",
       " 259178             2.010041        0.677144  ...   True   True  False  False   \n",
       " 365838             1.883712        0.650101  ...  False  False   True   True   \n",
       " 131932             2.030926        0.682074  ...  False  False  False  False   \n",
       " 121958             2.002830        0.640381  ...  False  False   True   True   \n",
       " \n",
       "            94     95     96     97     98     99  \n",
       " 447650  False  False   True   True   True  False  \n",
       " 205759   True   True   True  False  False   True  \n",
       " 393719   True  False   True   True   True   True  \n",
       " 214693   True   True  False   True  False   True  \n",
       " 400325  False   True   True   True  False  False  \n",
       " ...       ...    ...    ...    ...    ...    ...  \n",
       " 110268   True   True   True  False   True   True  \n",
       " 259178   True  False   True  False  False  False  \n",
       " 365838   True   True   True   True   True   True  \n",
       " 131932  False   True  False  False  False  False  \n",
       " 121958   True  False  False   True  False   True  \n",
       " \n",
       " [479882 rows x 113 columns],\n",
       "         autocorrelation  cumulative_sums  spectral_test  frequency_test  \\\n",
       " 145645             0.20                8     -22.230385        0.689157   \n",
       " 255371             0.39               21     -21.771553        0.045500   \n",
       " 376960             0.32               14     -22.230385        0.161513   \n",
       " 476779             0.41               22     -22.230385        0.027807   \n",
       " 350684             0.19                6     -22.230385        0.689157   \n",
       " ...                 ...              ...            ...             ...   \n",
       " 587769             0.37               18     -22.230385        0.071861   \n",
       " 591664             0.30               11     -21.771553        0.548506   \n",
       " 29684              0.24                7     -22.230385        0.689157   \n",
       " 172511             0.19               19     -22.230385        0.071861   \n",
       " 566117             0.29                8     -22.230385        0.841481   \n",
       " \n",
       "         runs_test  shannon_entropy  min_entropy  entropy_rate  \\\n",
       " 145645   0.306391         1.984898  -325.687897      1.988290   \n",
       " 255371   0.208791         1.921928  -329.009827      1.936334   \n",
       " 376960   0.840717         1.939494  -329.009705      1.974493   \n",
       " 476779   0.069771         1.836445  -325.550537      1.906938   \n",
       " 350684   0.154010         1.963615  -325.686584      1.980468   \n",
       " ...           ...              ...          ...           ...   \n",
       " 587769   0.263537         1.912935  -325.564880      1.944442   \n",
       " 591664   0.330831         1.913201  -329.021576      1.989001   \n",
       " 29684    0.699068         1.911465  -312.411804      1.998051   \n",
       " 172511   0.362690         1.904382  -315.720673      1.952155   \n",
       " 566117   0.027240         1.825245  -322.377716      1.966622   \n",
       " \n",
       "         permutation_entropy  sample_entropy  ...     90     91     92     93  \\\n",
       " 145645             2.087389        0.644716  ...   True   True  False  False   \n",
       " 255371             1.833173        0.646037  ...   True   True  False  False   \n",
       " 376960             1.998075        0.664593  ...  False   True   True  False   \n",
       " 476779             1.719246        0.563139  ...  False   True  False   True   \n",
       " 350684             2.122812        0.624336  ...   True   True  False   True   \n",
       " ...                     ...             ...  ...    ...    ...    ...    ...   \n",
       " 587769             1.797419        0.639870  ...   True   True   True   True   \n",
       " 591664             1.925116        0.679696  ...   True   True  False   True   \n",
       " 29684              1.957505        0.688016  ...  False   True  False  False   \n",
       " 172511             1.856349        0.644672  ...   True  False  False  False   \n",
       " 566117             1.705785        0.625223  ...  False  False  False  False   \n",
       " \n",
       "            94     95     96     97     98     99  \n",
       " 145645   True   True   True   True  False   True  \n",
       " 255371   True   True   True   True   True   True  \n",
       " 376960   True   True  False   True   True   True  \n",
       " 476779   True   True   True   True  False   True  \n",
       " 350684  False  False   True  False   True   True  \n",
       " ...       ...    ...    ...    ...    ...    ...  \n",
       " 587769   True  False  False   True   True   True  \n",
       " 591664   True  False  False  False  False  False  \n",
       " 29684   False  False  False  False   True  False  \n",
       " 172511  False  False  False   True   True  False  \n",
       " 566117   True  False   True   True  False   True  \n",
       " \n",
       " [119971 rows x 113 columns],\n",
       " 447650    4\n",
       " 205759    4\n",
       " 393719    4\n",
       " 214693    4\n",
       " 400325    4\n",
       "          ..\n",
       " 110268    3\n",
       " 259178    4\n",
       " 365838    4\n",
       " 131932    3\n",
       " 121958    3\n",
       " Name: label, Length: 479882, dtype: int64,\n",
       " 145645    3\n",
       " 255371    4\n",
       " 376960    4\n",
       " 476779    4\n",
       " 350684    4\n",
       "          ..\n",
       " 587769    4\n",
       " 591664    4\n",
       " 29684     2\n",
       " 172511    3\n",
       " 566117    4\n",
       " Name: label, Length: 119971, dtype: int64)"
      ]
     },
     "execution_count": 30,
     "metadata": {},
     "output_type": "execute_result"
    }
   ],
   "source": [
    "X_train, X_test, y_train, y_test = make_data_splits(preprocessed_df)#, include_bits=False)\n",
    "X_train, X_test, y_train, y_test"
   ]
  },
  {
   "cell_type": "markdown",
   "metadata": {},
   "source": [
    "Mean normalization on test data. A bit sloppy due to binary columns, but it's ok bc they're binary."
   ]
  },
  {
   "cell_type": "code",
   "execution_count": 31,
   "metadata": {},
   "outputs": [],
   "source": [
    "X_means = X_train.apply(lambda x: x.mean())\n",
    "X_stds = X_train.apply(lambda x: x.std())"
   ]
  },
  {
   "cell_type": "code",
   "execution_count": 32,
   "metadata": {},
   "outputs": [],
   "source": [
    "X_train = X_train.apply(lambda x: (x - X_means[x.name]) / X_stds[x.name])\n",
    "X_test = X_test.apply(lambda x: (x - X_means[x.name]) / X_stds[x.name])"
   ]
  },
  {
   "cell_type": "code",
   "execution_count": 33,
   "metadata": {},
   "outputs": [
    {
     "data": {
      "text/plain": [
       "(        autocorrelation  cumulative_sums  spectral_test  frequency_test  \\\n",
       " 447650         0.419541        -0.483658      -0.407570       -0.047960   \n",
       " 205759        -0.337949        -0.802172      -0.407570        0.820278   \n",
       " 393719        -0.337949        -0.802172      -0.407570        1.318509   \n",
       " 214693         0.722537        -0.961428      -0.407570       -0.047960   \n",
       " 400325         0.419541        -0.642915       1.962328        0.820278   \n",
       " ...                 ...              ...            ...             ...   \n",
       " 110268         0.571039        -0.802172      -0.407570       -0.047960   \n",
       " 259178        -1.852928         0.312625       1.962328       -1.075380   \n",
       " 365838         0.874034         0.153369      -0.407570       -0.905574   \n",
       " 131932        -1.549932        -0.642915      -0.407570       -0.395982   \n",
       " 121958        -0.943941        -1.120685      -0.407570        1.318509   \n",
       " \n",
       "         runs_test  shannon_entropy  min_entropy  entropy_rate  \\\n",
       " 447650  -0.214524        -0.463700     1.117934      0.538431   \n",
       " 205759  -0.810185        -1.725826     2.948785      0.433696   \n",
       " 393719  -0.515924         0.570322     1.142981      0.715749   \n",
       " 214693  -0.950053        -0.212273    -0.075097     -0.030607   \n",
       " 400325  -0.959445        -0.609769    -0.685448      0.128052   \n",
       " ...           ...              ...          ...           ...   \n",
       " 110268  -0.650470         0.349036    -0.710714      0.451650   \n",
       " 259178   1.596870         0.590277     1.145325      0.148718   \n",
       " 365838  -0.037876         0.513250    -0.713371      0.217823   \n",
       " 131932   1.493084         0.827902    -0.688347      0.636222   \n",
       " 121958   1.750162         1.155343    -0.103015      1.034421   \n",
       " \n",
       "         permutation_entropy  sample_entropy  ...        90        91  \\\n",
       " 447650             0.092886        0.684771  ...  1.012894 -1.064753   \n",
       " 205759            -0.594454        0.327854  ... -0.987269  0.939183   \n",
       " 393719            -0.014341        1.137167  ... -0.987269 -1.064753   \n",
       " 214693            -0.865582       -0.679523  ... -0.987269  0.939183   \n",
       " 400325            -0.662540        0.111406  ...  1.012894 -1.064753   \n",
       " ...                     ...             ...  ...       ...       ...   \n",
       " 110268            -0.288006        0.077928  ...  1.012894  0.939183   \n",
       " 259178             1.218597        1.090280  ...  1.012894  0.939183   \n",
       " 365838             0.323452        0.356975  ... -0.987269 -1.064753   \n",
       " 131932             1.366583        1.223976  ... -0.987269 -1.064753   \n",
       " 121958             1.167500        0.093402  ... -0.987269 -1.064753   \n",
       " \n",
       "               92        93        94        95        96        97        98  \\\n",
       " 447650  1.012590 -1.064383 -0.987219 -1.064757  1.012948  0.938578  1.012075   \n",
       " 205759  1.012590  0.939510  1.012944  0.939179  1.012948 -1.065439 -0.988067   \n",
       " 393719  1.012590  0.939510  1.012944 -1.064757  1.012948  0.938578  1.012075   \n",
       " 214693  1.012590  0.939510  1.012944  0.939179 -0.987215  0.938578 -0.988067   \n",
       " 400325  1.012590 -1.064383 -0.987219  0.939179  1.012948  0.938578 -0.988067   \n",
       " ...          ...       ...       ...       ...       ...       ...       ...   \n",
       " 110268  1.012590 -1.064383  1.012944  0.939179  1.012948 -1.065439  1.012075   \n",
       " 259178 -0.987565 -1.064383  1.012944 -1.064757  1.012948 -1.065439 -0.988067   \n",
       " 365838  1.012590  0.939510  1.012944  0.939179  1.012948  0.938578  1.012075   \n",
       " 131932 -0.987565 -1.064383 -0.987219  0.939179 -0.987215 -1.065439 -0.988067   \n",
       " 121958  1.012590  0.939510  1.012944 -1.064757 -0.987215  0.938578 -0.988067   \n",
       " \n",
       "               99  \n",
       " 447650 -1.065056  \n",
       " 205759  0.938916  \n",
       " 393719  0.938916  \n",
       " 214693  0.938916  \n",
       " 400325 -1.065056  \n",
       " ...          ...  \n",
       " 110268  0.938916  \n",
       " 259178 -1.065056  \n",
       " 365838  0.938916  \n",
       " 131932 -1.065056  \n",
       " 121958  0.938916  \n",
       " \n",
       " [479882 rows x 113 columns],\n",
       "         autocorrelation  cumulative_sums  spectral_test  frequency_test  \\\n",
       " 145645        -1.398434        -0.961428      -0.407570        0.820278   \n",
       " 255371         1.480026         1.108909       1.962328       -1.285037   \n",
       " 376960         0.419541        -0.005888      -0.407570       -0.905574   \n",
       " 476779         1.783022         1.268166      -0.407570       -1.342910   \n",
       " 350684        -1.549932        -1.279942      -0.407570        0.820278   \n",
       " ...                 ...              ...            ...             ...   \n",
       " 587769         1.177030         0.631139      -0.407570       -1.198816   \n",
       " 591664         0.116545        -0.483658       1.962328        0.360229   \n",
       " 29684         -0.792443        -1.120685      -0.407570        0.820278   \n",
       " 172511        -1.549932         0.790396      -0.407570       -1.198816   \n",
       " 566117        -0.034953        -0.961428      -0.407570        1.318509   \n",
       " \n",
       "         runs_test  shannon_entropy  min_entropy  entropy_rate  \\\n",
       " 145645  -0.027355         1.219973    -0.100621      0.755194   \n",
       " 255371  -0.354016         0.340782    -0.710977     -0.653720   \n",
       " 376960   1.761003         0.586037    -0.710955      0.381033   \n",
       " 476779  -0.819311        -0.852735    -0.075383     -1.450874   \n",
       " 350684  -0.537367         0.922822    -0.100379      0.543083   \n",
       " ...           ...              ...          ...           ...   \n",
       " 587769  -0.170787         0.215221    -0.078018     -0.433864   \n",
       " 591664   0.054442         0.218931    -0.713136      0.774457   \n",
       " 29684    1.286913         0.194699     2.338669      1.019877   \n",
       " 172511   0.161074         0.095797     1.730713     -0.224692   \n",
       " 566117  -0.961660        -1.009104     0.507577      0.167607   \n",
       " \n",
       "         permutation_entropy  sample_entropy  ...        90        91  \\\n",
       " 145645             1.766673        0.210955  ...  1.012894  0.939183   \n",
       " 255371            -0.034658        0.246773  ...  1.012894  0.939183   \n",
       " 376960             1.133812        0.749938  ... -0.987269  0.939183   \n",
       " 476779            -0.841926       -2.001162  ... -0.987269  0.939183   \n",
       " 350684             2.017674       -0.341683  ...  1.012894  0.939183   \n",
       " ...                     ...             ...  ...       ...       ...   \n",
       " 587769            -0.288006        0.079552  ...  1.012894  0.939183   \n",
       " 591664             0.616837        1.159493  ...  1.012894  0.939183   \n",
       " 29684              0.846336        1.385108  ... -0.987269  0.939183   \n",
       " 172511             0.129566        0.209744  ...  1.012894 -1.064753   \n",
       " 566117            -0.937307       -0.317627  ... -0.987269 -1.064753   \n",
       " \n",
       "               92        93        94        95        96        97        98  \\\n",
       " 145645 -0.987565 -1.064383  1.012944  0.939179  1.012948  0.938578 -0.988067   \n",
       " 255371 -0.987565 -1.064383  1.012944  0.939179  1.012948  0.938578  1.012075   \n",
       " 376960  1.012590 -1.064383  1.012944  0.939179 -0.987215  0.938578  1.012075   \n",
       " 476779 -0.987565  0.939510  1.012944  0.939179  1.012948  0.938578 -0.988067   \n",
       " 350684 -0.987565  0.939510 -0.987219 -1.064757  1.012948 -1.065439  1.012075   \n",
       " ...          ...       ...       ...       ...       ...       ...       ...   \n",
       " 587769  1.012590  0.939510  1.012944 -1.064757 -0.987215  0.938578  1.012075   \n",
       " 591664 -0.987565  0.939510  1.012944 -1.064757 -0.987215 -1.065439 -0.988067   \n",
       " 29684  -0.987565 -1.064383 -0.987219 -1.064757 -0.987215 -1.065439  1.012075   \n",
       " 172511 -0.987565 -1.064383 -0.987219 -1.064757 -0.987215  0.938578  1.012075   \n",
       " 566117 -0.987565 -1.064383  1.012944 -1.064757  1.012948  0.938578 -0.988067   \n",
       " \n",
       "               99  \n",
       " 145645  0.938916  \n",
       " 255371  0.938916  \n",
       " 376960  0.938916  \n",
       " 476779  0.938916  \n",
       " 350684  0.938916  \n",
       " ...          ...  \n",
       " 587769  0.938916  \n",
       " 591664 -1.065056  \n",
       " 29684  -1.065056  \n",
       " 172511 -1.065056  \n",
       " 566117  0.938916  \n",
       " \n",
       " [119971 rows x 113 columns])"
      ]
     },
     "execution_count": 33,
     "metadata": {},
     "output_type": "execute_result"
    }
   ],
   "source": [
    "X_train, X_test"
   ]
  },
  {
   "cell_type": "markdown",
   "metadata": {},
   "source": [
    "from sklearn.feature_selection import SelectKBest, SelectPercentile\n",
    "selector = SelectPercentile(k='all').fit(X_train,y_train)\n",
    "print(selector.get_feature_names_out())\n",
    "X_train = selector.transform(X_train)\n",
    "X_test = selector.transform(X_test)\n",
    "X_train, X_test"
   ]
  },
  {
   "cell_type": "markdown",
   "metadata": {},
   "source": [
    "Scale all input data for fairness. Fit it on the training data only to prevent leakage. Only scale the nonbinary columns. (Later)"
   ]
  },
  {
   "cell_type": "markdown",
   "metadata": {},
   "source": [
    "With this much data, we need multithreading. Get number of cores now."
   ]
  },
  {
   "cell_type": "code",
   "execution_count": 34,
   "metadata": {
    "scrolled": true
   },
   "outputs": [
    {
     "name": "stdout",
     "output_type": "stream",
     "text": [
      "Number of physical cores: 2\n",
      "Using 1 jobs\n"
     ]
    }
   ],
   "source": [
    "import joblib\n",
    "\n",
    "N_CORES = joblib.cpu_count(only_physical_cores=True)\n",
    "print(f\"Number of physical cores: {N_CORES}\")\n",
    "\n",
    "jobs = N_CORES // 2\n",
    "print(f\"Using {jobs} jobs\")"
   ]
  },
  {
   "cell_type": "markdown",
   "metadata": {},
   "source": [
    "# model testing\n",
    "\n",
    "For now, do a single run of a parallelized model. The goal is to beat 63%, and achieve >95%."
   ]
  },
  {
   "cell_type": "code",
   "execution_count": 35,
   "metadata": {},
   "outputs": [],
   "source": [
    "from sklearn.metrics import multilabel_confusion_matrix, ConfusionMatrixDisplay, roc_auc_score\n",
    "import matplotlib.pyplot as plt\n",
    "def train_and_test_model(model, X_train, X_test, y_train, y_test):\n",
    "    model.fit(X_train, y_train)\n",
    "    y_pred = model.predict(X_test)\n",
    "    #y_prob = model.predict_proba(X_test)\n",
    "    accuracy = accuracy_score(y_test, y_pred)\n",
    "    #auc = roc_auc_score(y_test, y_prob, multi_class='ovr')\n",
    "    #cfm = multilabel_confusion_matrix(y_test, y_pred)\n",
    "    #ConfusionMatrixDisplay(cfm).plot()\n",
    "    ConfusionMatrixDisplay.from_predictions(y_test, y_pred)\n",
    "    plt.show()\n",
    "    plt.close()\n",
    "    return accuracy #, auc #, cfm"
   ]
  },
  {
   "cell_type": "markdown",
   "metadata": {
    "id": "7Brik04cEFwK"
   },
   "source": [
    "## SVM"
   ]
  },
  {
   "cell_type": "markdown",
   "metadata": {},
   "source": [
    "Use the SGDClassifier with hinge loss to get an parallelized SVM. Input data should be scaled to avoid divergence."
   ]
  },
  {
   "cell_type": "code",
   "execution_count": 36,
   "metadata": {},
   "outputs": [
    {
     "data": {
      "image/png": "[encoded data removed]",
      "text/plain": [
       "<Figure size 640x480 with 2 Axes>"
      ]
     },
     "metadata": {},
     "output_type": "display_data"
    },
    {
     "data": {
      "text/plain": [
       "0.7558409949071025"
      ]
     },
     "execution_count": 36,
     "metadata": {},
     "output_type": "execute_result"
    }
   ],
   "source": [
    "from sklearn.linear_model import SGDClassifier\n",
    "sgd_model = SGDClassifier(n_jobs=jobs, random_state=42)#, verbose=1)\n",
    "train_and_test_model(sgd_model, X_train, X_test, y_train, y_test)"
   ]
  },
  {
   "cell_type": "markdown",
   "metadata": {},
   "source": [
    "Nonparallelized SVC that scales quadratically with samples"
   ]
  },
  {
   "cell_type": "code",
   "execution_count": 37,
   "metadata": {},
   "outputs": [
    {
     "data": {
      "image/png": "[encoded data removed]",
      "text/plain": [
       "<Figure size 640x480 with 2 Axes>"
      ]
     },
     "metadata": {},
     "output_type": "display_data"
    },
    {
     "data": {
      "text/plain": [
       "0.759908644589109"
      ]
     },
     "execution_count": 37,
     "metadata": {},
     "output_type": "execute_result"
    }
   ],
   "source": [
    "from sklearn.svm import LinearSVC\n",
    "svc_model = LinearSVC(random_state=42)#, verbose=1)\n",
    "train_and_test_model(svc_model, X_train, X_test, y_train, y_test)\n"
   ]
  },
  {
   "cell_type": "markdown",
   "metadata": {
    "colab": {
     "background_save": true
    },
    "id": "937q3D9VAzlM"
   },
   "source": [
    "from sklearn.model_selection import train_test_split, GridSearchCV\n",
    "from sklearn.svm import SVC\n",
    "\n",
    "# Perform hyperparameter tuning with GridSearchCV\n",
    "param_grid = {\n",
    "    'C': [0.1, 1, 10, 100],\n",
    "    'gamma': ['scale', 'auto', 0.1, 1, 10],\n",
    "    'kernel': ['linear', 'rbf', 'poly'],\n",
    "    'degree': [2, 3, 4],\n",
    "}\n",
    "\n",
    "svm_model = SVC(random_state=42)\n",
    "grid_search = GridSearchCV(svm_model, param_grid, cv=5)\n",
    "grid_search.fit(X_train, y_train)\n",
    "\n",
    "# Get the best hyperparameters and model\n",
    "best_params = grid_search.best_params_\n",
    "best_model = grid_search.best_estimator_\n",
    "\n",
    "# Make predictions on the test set\n",
    "y_pred = best_model.predict(X_test)\n",
    "\n",
    "# Calculate the accuracy of the model\n",
    "accuracy = accuracy_score(y_test, y_pred)\n",
    "print(\"Best Hyperparameters:\", best_params)\n",
    "print(\"Accuracy:\", accuracy)\n"
   ]
  },
  {
   "cell_type": "markdown",
   "metadata": {
    "colab": {
     "base_uri": "https://localhost:8080/"
    },
    "id": "NMKS-cKqbkL0",
    "outputId": "f1e56f55-3340-423b-8fe5-ac06e95cb71c"
   },
   "source": [
    "from sklearn.model_selection import RandomizedSearchCV\n",
    "from sklearn.svm import SVC\n",
    "\n",
    "# Perform hyperparameter tuning with RandomizedSearchCV\n",
    "param_dist = {\n",
    "    'C': [0.1, 1, 10],\n",
    "    'gamma': ['scale', 'auto', 0.1, 1],\n",
    "    'kernel': ['linear', 'rbf'],\n",
    "}\n",
    "\n",
    "svm_model = SVC(random_state=42)\n",
    "random_search = RandomizedSearchCV(svm_model, param_distributions=param_dist, n_iter=5, cv=5)\n",
    "random_search.fit(X_train, y_train)\n",
    "\n",
    "# Get the best hyperparameters and model\n",
    "best_params = random_search.best_params_\n",
    "best_model = random_search.best_estimator_\n",
    "\n",
    "# Make predictions on the test set\n",
    "y_pred = best_model.predict(X_test)\n",
    "\n",
    "# Calculate the accuracy of the model\n",
    "accuracy = accuracy_score(y_test, y_pred)\n",
    "print(\"Best Hyperparameters:\", best_params)\n",
    "print(\"Accuracy:\", accuracy)"
   ]
  },
  {
   "cell_type": "markdown",
   "metadata": {
    "id": "NDFlld25Xze5"
   },
   "source": [
    "## Random Forest"
   ]
  },
  {
   "cell_type": "markdown",
   "metadata": {},
   "source": [
    "Min-entropy was previously calculated, no need to recompute it"
   ]
  },
  {
   "cell_type": "code",
   "execution_count": 38,
   "metadata": {},
   "outputs": [
    {
     "data": {
      "image/png": "[encoded data removed]",
      "text/plain": [
       "<Figure size 640x480 with 2 Axes>"
      ]
     },
     "metadata": {},
     "output_type": "display_data"
    },
    {
     "data": {
      "text/plain": [
       "0.7473889523301465"
      ]
     },
     "execution_count": 38,
     "metadata": {},
     "output_type": "execute_result"
    }
   ],
   "source": [
    "from sklearn.ensemble import RandomForestClassifier\n",
    "rf_model = RandomForestClassifier(random_state=42, n_jobs=jobs)#, verbose=1)\n",
    "train_and_test_model(rf_model, X_train, X_test, y_train, y_test)"
   ]
  },
  {
   "cell_type": "markdown",
   "metadata": {
    "colab": {
     "base_uri": "https://localhost:8080/"
    },
    "id": "QFkkQCBxXlWh",
    "outputId": "1c9794f0-a799-4de4-98e3-0dad406a3ad3"
   },
   "source": [
    "from sklearn.ensemble import RandomForestClassifier\n",
    "\n",
    "def calculate_min_entropy(sequence):\n",
    "    sequence = np.asarray(sequence, dtype=float)  # Convert sequence to float\n",
    "    p = np.mean(sequence)  # Proportion of ones\n",
    "    max_prob = max(p, 1 - p)\n",
    "    if max_prob == 0:  # Handle the case where all bits are the same\n",
    "        return 0\n",
    "    min_entropy = -np.log2(max_prob)\n",
    "    return min_entropy\n",
    "\n",
    "\n",
    "\n",
    "\n",
    "vectorized_entropy = np.vectorize(calculate_min_entropy, signature='(n)->()')\n",
    "\n",
    "# Calculate min-entropy for each sequence in the training and testing datasets\n",
    "min_entropy_train = vectorized_entropy(X_train)\n",
    "min_entropy_test = vectorized_entropy(X_test)\n",
    "\n",
    "X_train_with_entropy = np.column_stack((X_train, min_entropy_train))\n",
    "X_test_with_entropy = np.column_stack((X_test, min_entropy_test))\n",
    "# Create the Random Forest classifier\n",
    "rf_model = RandomForestClassifier(random_state=42)\n",
    "\n",
    "# Train the model\n",
    "rf_model.fit(X_train_with_entropy, y_train)\n",
    "\n",
    "# Make predictions on the test set\n",
    "y_pred_rf = rf_model.predict(X_test_with_entropy)\n",
    "\n",
    "# Calculate the accuracy of the Random Forest model\n",
    "accuracy_rf = accuracy_score(y_test, y_pred_rf)\n",
    "print(\"Random Forest Accuracy:\", accuracy_rf)\n"
   ]
  },
  {
   "cell_type": "markdown",
   "metadata": {
    "colab": {
     "base_uri": "https://localhost:8080/"
    },
    "id": "KULNfXpncJZC",
    "outputId": "f44dab80-2cb1-46c1-ab5f-a26725d94c9c"
   },
   "source": [
    "from sklearn.ensemble import RandomForestClassifier\n",
    "from sklearn.model_selection import GridSearchCV\n",
    "\n",
    "# Create the Random Forest classifier\n",
    "rf_model = RandomForestClassifier(random_state=42)\n",
    "\n",
    "# Define the hyperparameter grid to search\n",
    "param_grid = {\n",
    "    'n_estimators': [50, 100, 200],          # Number of trees in the forest\n",
    "    'max_depth': [None, 10, 20, 30],         # Maximum depth of the tree\n",
    "    'min_samples_split': [2, 5, 10],         # Minimum number of samples required to split an internal node\n",
    "    'min_samples_leaf': [1, 2, 4],           # Minimum number of samples required to be at a leaf node\n",
    "    'max_features': ['auto', 'sqrt'],       # Number of features to consider when looking for the best split\n",
    "}\n",
    "\n",
    "# Perform GridSearchCV to find the best hyperparameters\n",
    "grid_search = GridSearchCV(rf_model, param_grid, cv=5)\n",
    "grid_search.fit(X_train, y_train)\n",
    "\n",
    "# Get the best hyperparameters and model\n",
    "best_params = grid_search.best_params_\n",
    "best_model = grid_search.best_estimator_\n",
    "\n",
    "# Make predictions on the test set using the best model\n",
    "y_pred_rf = best_model.predict(X_test)\n",
    "\n",
    "# Calculate the accuracy of the Random Forest model\n",
    "accuracy_rf = accuracy_score(y_test, y_pred_rf)\n",
    "print(\"Random Forest Accuracy:\", accuracy_rf)\n",
    "print(\"Best Hyperparameters:\", best_params)\n"
   ]
  },
  {
   "cell_type": "markdown",
   "metadata": {
    "id": "8DfNGSyaX3kV"
   },
   "source": [
    "## Gradient Boosting"
   ]
  },
  {
   "cell_type": "markdown",
   "metadata": {},
   "source": [
    "%%time\n",
    "from sklearn.ensemble import GradientBoostingClassifier\n",
    "gb_model = GradientBoostingClassifier(random_state=42)#, verbose=1)\n",
    "gb_model.fit(X_train, y_train)\n",
    "y_pred = gb_model.predict(X_test)\n",
    "accuracy = accuracy_score(y_test, y_pred)\n",
    "print(\"Accuracy:\", accuracy)"
   ]
  },
  {
   "cell_type": "markdown",
   "metadata": {},
   "source": [
    "A parallelized version is available as Histogram Gradient Boosting model"
   ]
  },
  {
   "cell_type": "code",
   "execution_count": 39,
   "metadata": {},
   "outputs": [
    {
     "data": {
      "image/png": "[encoded data removed]",
      "text/plain": [
       "<Figure size 640x480 with 2 Axes>"
      ]
     },
     "metadata": {},
     "output_type": "display_data"
    },
    {
     "name": "stdout",
     "output_type": "stream",
     "text": [
      "CPU times: user 3min 6s, sys: 2.04 s, total: 3min 8s\n",
      "Wall time: 1min 39s\n"
     ]
    },
    {
     "data": {
      "text/plain": [
       "0.7758541647564828"
      ]
     },
     "execution_count": 39,
     "metadata": {},
     "output_type": "execute_result"
    }
   ],
   "source": [
    "%%time\n",
    "from sklearn.ensemble import HistGradientBoostingClassifier\n",
    "hgb_model = HistGradientBoostingClassifier(random_state=42)#, verbose=1)\n",
    "train_and_test_model(hgb_model, X_train, X_test, y_train, y_test)"
   ]
  },
  {
   "cell_type": "markdown",
   "metadata": {
    "colab": {
     "base_uri": "https://localhost:8080/"
    },
    "id": "NBUNIc9wAzvF",
    "outputId": "91db7722-33bb-4ea7-d39d-e0d6f484d698"
   },
   "source": [
    "from sklearn.ensemble import GradientBoostingClassifier\n",
    "\n",
    "\n",
    "\n",
    "# Create the Gradient Boosting classifier\n",
    "gb_model = GradientBoostingClassifier(random_state=42)\n",
    "\n",
    "# Train the model\n",
    "# Train the model with the new feature included\n",
    "gb_model.fit(X_train, y_train)\n",
    "\n",
    "# Make predictions on the test set with the new feature included\n",
    "y_pred_gb = gb_model.predict(X_test)\n",
    "\n",
    "# Calculate the accuracy of the Gradient Boosting model with the new feature\n",
    "accuracy_gb = accuracy_score(y_test, y_pred_gb)\n",
    "print(\"Gradient Boosting Accuracy with Min-Entropy Feature:\", accuracy_gb)\n",
    "\n"
   ]
  },
  {
   "cell_type": "markdown",
   "metadata": {
    "id": "Q1L945YBW8hx"
   },
   "source": [
    "GridSearch"
   ]
  },
  {
   "cell_type": "markdown",
   "metadata": {
    "colab": {
     "base_uri": "https://localhost:8080/"
    },
    "id": "0iD-fcbeW6NG",
    "outputId": "f25bbfd6-eb0e-4516-fbd3-ee1355c603f6"
   },
   "source": [
    "from sklearn.model_selection import GridSearchCV\n",
    "from sklearn.ensemble import GradientBoostingClassifier\n",
    "\n",
    "\n",
    "def calculate_min_entropy(sequence):\n",
    "    sequence = np.asarray(sequence, dtype=float)  # Convert sequence to float\n",
    "    p = np.mean(sequence)  # Proportion of ones\n",
    "    max_prob = max(p, 1 - p)\n",
    "    if max_prob == 0:  # Handle the case where all bits are the same\n",
    "        return 0\n",
    "    min_entropy = -np.log2(max_prob)\n",
    "    return min_entropy\n",
    "\n",
    "\n",
    "\n",
    "\n",
    "vectorized_entropy = np.vectorize(calculate_min_entropy, signature='(n)->()')\n",
    "\n",
    "# Calculate min-entropy for each sequence in the training and testing datasets\n",
    "min_entropy_train = vectorized_entropy(X_train)\n",
    "min_entropy_test = vectorized_entropy(X_test)\n",
    "\n",
    "X_train_with_entropy = np.column_stack((X_train, min_entropy_train))\n",
    "X_test_with_entropy = np.column_stack((X_test, min_entropy_test))\n",
    "\n",
    "\n",
    "# Create the Gradient Boosting classifier\n",
    "gb_model = GradientBoostingClassifier(random_state=42)\n",
    "\n",
    "# Define the hyperparameter grid for Grid Search\n",
    "param_grid = {\n",
    "    'n_estimators': [50, 100, 150],\n",
    "    'learning_rate': [0.01, 0.1, 0.2],\n",
    "    'max_depth': [3, 5, 7],\n",
    "}\n",
    "\n",
    "# Perform Grid Search with cross-validation (cv=5) to find the best hyperparameters\n",
    "grid_search = GridSearchCV(gb_model, param_grid, cv=5)\n",
    "grid_search.fit(X_train_with_entropy, y_train)\n",
    "\n",
    "# Get the best hyperparameters and model\n",
    "best_params = grid_search.best_params_\n",
    "best_model = grid_search.best_estimator_\n",
    "\n",
    "# Make predictions on the test set using the best model\n",
    "y_pred_gb = best_model.predict(X_test_with_entropy)\n",
    "\n",
    "# Calculate the accuracy of the Gradient Boosting model with the best hyperparameters\n",
    "accuracy_gb = accuracy_score(y_test, y_pred_gb)\n",
    "print(\"Best Hyperparameters:\", best_params)\n",
    "print(\"Gradient Boosting Accuracy:\", accuracy_gb)\n"
   ]
  },
  {
   "cell_type": "markdown",
   "metadata": {},
   "source": [
    "Other gradient boosted tree methods may have different runtime/performance"
   ]
  },
  {
   "cell_type": "markdown",
   "metadata": {
    "id": "c6rTZWuztjNr"
   },
   "source": [
    "## XGBoost"
   ]
  },
  {
   "cell_type": "markdown",
   "metadata": {},
   "source": [
    "%%time\n",
    "from xgboost import XGBClassifier\n",
    "xgb_model = XGBClassifier(random_state=42, verbosity=1, n_jobs=jobs, tree_method='exact')\n",
    "y_train_mapped = y_train-1\n",
    "y_test_mapped = y_test-1\n",
    "train_and_test_model(xgb_model, X_train, X_test, y_train_mapped, y_test_mapped)"
   ]
  },
  {
   "cell_type": "markdown",
   "metadata": {},
   "source": [
    "%%time\n",
    "from xgboost import XGBClassifier\n",
    "xgb_model = XGBClassifier(random_state=42, verbosity=1, n_jobs=jobs, tree_method='approx')\n",
    "y_train_mapped = y_train-1\n",
    "y_test_mapped = y_test-1\n",
    "train_and_test_model(xgb_model, X_train, X_test, y_train_mapped, y_test_mapped)"
   ]
  },
  {
   "cell_type": "code",
   "execution_count": 40,
   "metadata": {},
   "outputs": [
    {
     "data": {
      "image/png": "[encoded data removed]",
      "text/plain": [
       "<Figure size 640x480 with 2 Axes>"
      ]
     },
     "metadata": {},
     "output_type": "display_data"
    },
    {
     "name": "stdout",
     "output_type": "stream",
     "text": [
      "CPU times: user 1min 22s, sys: 554 ms, total: 1min 23s\n",
      "Wall time: 1min 24s\n"
     ]
    },
    {
     "data": {
      "text/plain": [
       "0.7839977994682048"
      ]
     },
     "execution_count": 40,
     "metadata": {},
     "output_type": "execute_result"
    }
   ],
   "source": [
    "%%time\n",
    "from xgboost import XGBClassifier\n",
    "xgb_model = XGBClassifier(random_state=42, verbosity=1, n_jobs=jobs, tree_method='hist')\n",
    "y_train_mapped = y_train-min(y_train)\n",
    "y_test_mapped = y_test-min(y_test)\n",
    "train_and_test_model(xgb_model, X_train, X_test, y_train_mapped, y_test_mapped)"
   ]
  },
  {
   "cell_type": "markdown",
   "metadata": {
    "colab": {
     "base_uri": "https://localhost:8080/"
    },
    "id": "i4qdLReQtmZ1",
    "outputId": "85c7db2a-2634-4203-b910-d940e2277d82"
   },
   "source": [
    "import xgboost as xgb\n",
    "from sklearn.model_selection import GridSearchCV\n",
    "\n",
    "\n",
    "# Create the XGBoost classifier\n",
    "xgb_model = xgb.XGBClassifier(random_state=42)\n",
    "\n",
    "# Define the hyperparameter grid for Grid Search\n",
    "param_grid = {\n",
    "    'n_estimators': [50, 100, 150],\n",
    "    'learning_rate': [0.01, 0.1, 0.2],\n",
    "    'max_depth': [3, 5, 7],\n",
    "}\n",
    "\n",
    "# Map classes to [0, 1, 2]\n",
    "y_train_mapped = y_train - 1  # This will change classes [1, 2, 3] to [0, 1, 2]\n",
    "\n",
    "# Continue with the Grid Search\n",
    "grid_search = GridSearchCV(xgb_model, param_grid, cv=5)\n",
    "grid_search.fit(X_train, y_train_mapped)\n",
    "\n",
    "# Get the best hyperparameters and model\n",
    "best_params = grid_search.best_params_\n",
    "best_xgb_model = grid_search.best_estimator_\n",
    "\n",
    "# Make predictions on the test set using the best XGBoost model\n",
    "y_pred_xgb = best_xgb_model.predict(X_test)\n",
    "\n",
    "# Calculate the accuracy of the XGBoost model with the best hyperparameters\n",
    "accuracy_xgb = accuracy_score(y_test, y_pred_xgb)\n",
    "print(\"Best Hyperparameters for XGBoost:\", best_params)\n",
    "print(\"XGBoost Accuracy:\", accuracy_xgb)\n"
   ]
  },
  {
   "cell_type": "markdown",
   "metadata": {
    "id": "BVKGPCOT3x9q"
   },
   "source": [
    "## CatBoost"
   ]
  },
  {
   "cell_type": "code",
   "execution_count": 41,
   "metadata": {
    "scrolled": true
   },
   "outputs": [
    {
     "name": "stdout",
     "output_type": "stream",
     "text": [
      "[LightGBM] [Info] Auto-choosing row-wise multi-threading, the overhead of testing was 0.258029 seconds.\n",
      "You can set `force_row_wise=true` to remove the overhead.\n",
      "And if memory is not enough, you can set `force_col_wise=true`.\n",
      "[LightGBM] [Info] Total Bins 1952\n",
      "[LightGBM] [Info] Number of data points in the train set: 479882, number of used features: 113\n",
      "[LightGBM] [Info] Start training from score -1.792802\n",
      "[LightGBM] [Info] Start training from score -1.791339\n",
      "[LightGBM] [Info] Start training from score -0.405310\n"
     ]
    },
    {
     "data": {
      "image/png": "[encoded data removed]",
      "text/plain": [
       "<Figure size 640x480 with 2 Axes>"
      ]
     },
     "metadata": {},
     "output_type": "display_data"
    },
    {
     "name": "stdout",
     "output_type": "stream",
     "text": [
      "CPU times: user 2min 9s, sys: 1.19 s, total: 2min 10s\n",
      "Wall time: 2min 10s\n"
     ]
    },
    {
     "data": {
      "text/plain": [
       "0.7688524726808978"
      ]
     },
     "execution_count": 41,
     "metadata": {},
     "output_type": "execute_result"
    }
   ],
   "source": [
    "%%time\n",
    "import lightgbm as lgb\n",
    "lgb_model = lgb.LGBMClassifier(random_state=42, n_jobs=jobs, boosting_type='gbdt')\n",
    "train_and_test_model(lgb_model, X_train, X_test, y_train, y_test)"
   ]
  },
  {
   "cell_type": "code",
   "execution_count": 42,
   "metadata": {},
   "outputs": [
    {
     "name": "stdout",
     "output_type": "stream",
     "text": [
      "[LightGBM] [Info] Auto-choosing row-wise multi-threading, the overhead of testing was 0.263388 seconds.\n",
      "You can set `force_row_wise=true` to remove the overhead.\n",
      "And if memory is not enough, you can set `force_col_wise=true`.\n",
      "[LightGBM] [Info] Total Bins 1952\n",
      "[LightGBM] [Info] Number of data points in the train set: 479882, number of used features: 113\n",
      "[LightGBM] [Info] Start training from score -1.792802\n",
      "[LightGBM] [Info] Start training from score -1.791339\n",
      "[LightGBM] [Info] Start training from score -0.405310\n"
     ]
    },
    {
     "data": {
      "image/png": "[encoded data removed]",
      "text/plain": [
       "<Figure size 640x480 with 2 Axes>"
      ]
     },
     "metadata": {},
     "output_type": "display_data"
    },
    {
     "name": "stdout",
     "output_type": "stream",
     "text": [
      "CPU times: user 2min 47s, sys: 1.11 s, total: 2min 48s\n",
      "Wall time: 2min 48s\n"
     ]
    },
    {
     "data": {
      "text/plain": [
       "0.750923139758775"
      ]
     },
     "execution_count": 42,
     "metadata": {},
     "output_type": "execute_result"
    }
   ],
   "source": [
    "%%time\n",
    "import lightgbm as lgb\n",
    "lgb_model = lgb.LGBMClassifier(random_state=42, n_jobs=jobs, boosting_type='dart')\n",
    "train_and_test_model(lgb_model, X_train, X_test, y_train, y_test)"
   ]
  },
  {
   "cell_type": "markdown",
   "metadata": {},
   "source": [
    "# fails\n",
    "import lightgbm as lgb\n",
    "lgb_model = lgb.LGBMClassifier(random_state=42, n_jobs=jobs, boosting_type='rf')\n",
    "lgb_model.fit(X_train, y_train)\n",
    "y_pred = lgb_model.predict(X_test)\n",
    "accuracy = accuracy_score(y_test, y_pred)\n",
    "print(\"Accuracy:\", accuracy)"
   ]
  },
  {
   "cell_type": "markdown",
   "metadata": {
    "colab": {
     "base_uri": "https://localhost:8080/"
    },
    "id": "QXVAMJrx3xLr",
    "outputId": "c38cd918-64d1-4d74-ede9-90354ac3b778"
   },
   "source": [
    "import lightgbm as lgb\n",
    "\n",
    "# Create the LightGBM classifier\n",
    "lgb_model = lgb.LGBMClassifier(random_state=42)\n",
    "\n",
    "# Define the hyperparameter grid for Grid Search\n",
    "param_grid = {\n",
    "    'n_estimators': [50, 100, 150],\n",
    "    'learning_rate': [0.01, 0.1, 0.2],\n",
    "    'max_depth': [3, 5, 7],\n",
    "}\n",
    "\n",
    "# Perform Grid Search with cross-validation (cv=5) to find the best hyperparameters\n",
    "grid_search = GridSearchCV(lgb_model, param_grid, cv=5)\n",
    "grid_search.fit(X_train, y_train)\n",
    "\n",
    "# Get the best hyperparameters and model\n",
    "best_params = grid_search.best_params_\n",
    "best_lgb_model = grid_search.best_estimator_\n",
    "\n",
    "# Make predictions on the test set using the best LightGBM model\n",
    "y_pred_lgb = best_lgb_model.predict(X_test)\n",
    "\n",
    "# Calculate the accuracy of the LightGBM model with the best hyperparameters\n",
    "accuracy_lgb = accuracy_score(y_test, y_pred_lgb)\n",
    "print(\"Best Hyperparameters for LightGBM:\", best_params)\n",
    "print(\"LightGBM Accuracy:\", accuracy_lgb)\n"
   ]
  },
  {
   "cell_type": "markdown",
   "metadata": {
    "id": "z3RxycX8X8wX"
   },
   "source": [
    "## Neural Network"
   ]
  },
  {
   "cell_type": "code",
   "execution_count": 43,
   "metadata": {},
   "outputs": [
    {
     "name": "stderr",
     "output_type": "stream",
     "text": [
      "2024-06-13 22:26:58.196802: I tensorflow/core/platform/cpu_feature_guard.cc:210] This TensorFlow binary is optimized to use available CPU instructions in performance-critical operations.\n",
      "To enable the following instructions: FMA, in other operations, rebuild TensorFlow with the appropriate compiler flags.\n",
      "2024-06-13 22:27:09.248561: W tensorflow/compiler/tf2tensorrt/utils/py_utils.cc:38] TF-TRT Warning: Could not find TensorRT\n",
      "2024-06-13 22:27:18.289464: W tensorflow/core/common_runtime/gpu/gpu_device.cc:2251] Cannot dlopen some GPU libraries. Please make sure the missing libraries mentioned above are installed properly if you would like to use GPU. Follow the guide at https://www.tensorflow.org/install/gpu for how to download and setup the required libraries for your platform.\n",
      "Skipping registering GPU devices...\n"
     ]
    },
    {
     "name": "stdout",
     "output_type": "stream",
     "text": [
      "\u001b[1m3750/3750\u001b[0m \u001b[32m━━━━━━━━━━━━━━━━━━━━\u001b[0m\u001b[37m\u001b[0m \u001b[1m3s\u001b[0m 832us/step\n",
      "Neural Network Accuracy: 0.7780797025947938\n"
     ]
    },
    {
     "data": {
      "image/png": "[encoded data removed]",
      "text/plain": [
       "<Figure size 640x480 with 2 Axes>"
      ]
     },
     "metadata": {},
     "output_type": "display_data"
    },
    {
     "name": "stdout",
     "output_type": "stream",
     "text": [
      "CPU times: user 5min 27s, sys: 38.5 s, total: 6min 5s\n",
      "Wall time: 4min 5s\n"
     ]
    }
   ],
   "source": [
    "%%time\n",
    "import numpy as np\n",
    "import keras\n",
    "from keras.models import Sequential\n",
    "from keras.layers import Dense, Input\n",
    "from sklearn.model_selection import train_test_split\n",
    "from sklearn.metrics import accuracy_score\n",
    "\n",
    "keras.utils.set_random_seed(42)\n",
    "\n",
    "y_train_integer = y_train-1 #.astype('float32')\n",
    "y_test_integer = y_test-1 #.astype('float32')\n",
    "\n",
    "X_train_small, X_val, y_train_integer, y_val_integer = train_test_split(X_train, y_train_integer, test_size=0.2, random_state=42)\n",
    "X_train_small = X_train_small.astype('float32')\n",
    "X_val = X_val.astype('float32')\n",
    "\n",
    "# Create the Neural Network model\n",
    "nn_model = Sequential()\n",
    "nn_model.add(Input(shape=(X_train_small.shape[1],)))\n",
    "nn_model.add(Dense(32, activation='relu'))\n",
    "nn_model.add(Dense(16, activation='relu'))\n",
    "nn_model.add(Dense(4, activation='softmax'))\n",
    "\n",
    "# Compile the model\n",
    "nn_model.compile(loss='sparse_categorical_crossentropy', optimizer='adam', metrics=['accuracy'])\n",
    "\n",
    "# Train the model\n",
    "nn_model.fit(X_train_small, y_train_integer, epochs=25, batch_size=64, validation_data=(X_val, y_val_integer), verbose=0)\n",
    "\n",
    "# Make predictions on the test set\n",
    "y_pred_probabilities = nn_model.predict(X_test.astype('float32'))\n",
    "y_pred_nn = np.argmax(y_pred_probabilities, axis=-1)\n",
    "\n",
    "# Calculate the accuracy of the Neural Network model\n",
    "accuracy_nn = accuracy_score(y_test_integer, y_pred_nn)\n",
    "print(\"Neural Network Accuracy:\", accuracy_nn)\n",
    "ConfusionMatrixDisplay.from_predictions(y_test_integer, y_pred_nn)\n",
    "plt.show()\n",
    "plt.close()"
   ]
  },
  {
   "cell_type": "markdown",
   "metadata": {
    "colab": {
     "base_uri": "https://localhost:8080/"
    },
    "id": "htyjktKSX-cN",
    "outputId": "04255ea4-c379-4f5f-9b09-8ff8dd70ef1e"
   },
   "source": [
    "import numpy as np\n",
    "from keras.models import Sequential\n",
    "from keras.layers import Dense\n",
    "from sklearn.model_selection import train_test_split\n",
    "from sklearn.metrics import accuracy_score\n",
    "from sklearn.preprocessing import LabelEncoder\n",
    "\n",
    "# Assuming you have already defined X_train, X_test, y_train, and y_test\n",
    "\n",
    "# Convert binary numbers to integer labels\n",
    "label_encoder = LabelEncoder()\n",
    "y_train_integer = label_encoder.transform(y_train)\n",
    "y_test_integer = label_encoder.transform(y_test)\n",
    "\n",
    "# Check unique values in y_train_integer and y_test_integer\n",
    "print(\"Unique values in y_train:\", np.unique(y_train_integer))\n",
    "print(\"Unique values in y_test:\", np.unique(y_test_integer))\n",
    "\n",
    "print(\"Shape of y_train_integer:\", y_train_integer.shape)\n",
    "print(\"Shape of y_test_integer:\", y_test_integer.shape)\n",
    "\n",
    "# Manually split the data into training and validation sets\n",
    "X_train, X_val, y_train_integer, y_val_integer = train_test_split(X_train, y_train_integer, test_size=0.2, random_state=42)\n",
    "\n",
    "# Create the Neural Network model\n",
    "nn_model = Sequential()\n",
    "nn_model.add(Dense(32, activation='relu', input_shape=(X_train.shape[1],)))\n",
    "nn_model.add(Dense(16, activation='relu'))\n",
    "nn_model.add(Dense(3, activation='softmax'))\n",
    "\n",
    "# Compile the model\n",
    "nn_model.compile(loss='sparse_categorical_crossentropy', optimizer='adam', metrics=['accuracy'])\n",
    "\n",
    "# Train the model\n",
    "nn_model.fit(X_train, y_train_integer, epochs=2, batch_size=64, validation_data=(X_val, y_val_integer), verbose=0)\n",
    "\n",
    "# Make predictions on the test set\n",
    "y_pred_probabilities = nn_model.predict(X_test)\n",
    "y_pred_nn = np.argmax(y_pred_probabilities, axis=-1)\n",
    "\n",
    "# Calculate the accuracy of the Neural Network model\n",
    "accuracy_nn = accuracy_score(y_test_integer, y_pred_nn)\n",
    "print(\"Neural Network Accuracy:\", accuracy_nn)\n"
   ]
  },
  {
   "cell_type": "markdown",
   "metadata": {
    "id": "qGXQrE8d9d0x"
   },
   "source": [
    "## LSTM"
   ]
  },
  {
   "cell_type": "code",
   "execution_count": 44,
   "metadata": {},
   "outputs": [
    {
     "name": "stdout",
     "output_type": "stream",
     "text": [
      "\u001b[1m3750/3750\u001b[0m \u001b[32m━━━━━━━━━━━━━━━━━━━━\u001b[0m\u001b[37m\u001b[0m \u001b[1m5s\u001b[0m 1ms/step\n",
      "LSTM Accuracy: 0.771419759775279\n"
     ]
    },
    {
     "data": {
      "image/png": "[encoded data removed]",
      "text/plain": [
       "<Figure size 640x480 with 2 Axes>"
      ]
     },
     "metadata": {},
     "output_type": "display_data"
    },
    {
     "name": "stdout",
     "output_type": "stream",
     "text": [
      "CPU times: user 12min 25s, sys: 56.9 s, total: 13min 22s\n",
      "Wall time: 6min 9s\n"
     ]
    }
   ],
   "source": [
    "%%time\n",
    "import numpy as np\n",
    "import pandas as pd\n",
    "import keras\n",
    "from keras.models import Sequential\n",
    "from keras.layers import LSTM, Dense, Input\n",
    "from sklearn.model_selection import train_test_split\n",
    "from sklearn.metrics import accuracy_score\n",
    "\n",
    "keras.utils.set_random_seed(42)\n",
    "\n",
    "y_train_integer = y_train-1 #.astype('float32')\n",
    "y_test_integer = y_test-1 #.astype('float32')\n",
    "\n",
    "# Reshape the input data for LSTM\n",
    "# TODO: LSTM with a single time step is not a sequence!\n",
    "time_steps = 1  # Each sample is treated as a single time step\n",
    "X_train_lstm = X_train.values.astype('float32').reshape(X_train.shape[0], time_steps, X_train.shape[1])\n",
    "X_test_lstm = X_test.values.astype('float32').reshape(X_test.shape[0], time_steps, X_test.shape[1])\n",
    "# y_train_lstm = y_train_integer.reshape(y_train_integer.shape[0], time_steps, y_train_integer.shape[1])\n",
    "\n",
    "# Create the Neural Network model\n",
    "lstm_model = Sequential()\n",
    "lstm_model.add(Input(shape=(time_steps, X_train_lstm.shape[2])))\n",
    "lstm_model.add(LSTM(32))\n",
    "lstm_model.add(Dense(16, activation='relu'))\n",
    "lstm_model.add(Dense(4, activation='softmax'))\n",
    "\n",
    "# Compile the model\n",
    "lstm_model.compile(loss='sparse_categorical_crossentropy', optimizer='adam', metrics=['accuracy'])\n",
    "\n",
    "# Train the model\n",
    "lstm_model.fit(X_train_lstm, y_train_integer, epochs=25, batch_size=64, verbose=0)\n",
    "\n",
    "# Make predictions on the test set\n",
    "y_pred_probabilities = lstm_model.predict(X_test_lstm)\n",
    "y_pred_lstm = np.argmax(y_pred_probabilities, axis=-1)\n",
    "\n",
    "# Calculate the accuracy of the LSTM model\n",
    "accuracy_lstm = accuracy_score(y_test_integer, y_pred_lstm)\n",
    "print(\"LSTM Accuracy:\", accuracy_lstm)\n",
    "ConfusionMatrixDisplay.from_predictions(y_test_integer, y_pred_lstm)\n",
    "plt.show()\n",
    "plt.close()"
   ]
  },
  {
   "cell_type": "markdown",
   "metadata": {
    "colab": {
     "base_uri": "https://localhost:8080/"
    },
    "id": "2sE0n_hlbMAr",
    "outputId": "3cf01564-e8f0-431b-e490-48ab0299a741"
   },
   "source": [
    "import numpy as np\n",
    "import pandas as pd\n",
    "from keras.models import Sequential\n",
    "from keras.layers import LSTM, Dense\n",
    "from sklearn.model_selection import train_test_split\n",
    "from sklearn.metrics import accuracy_score\n",
    "\n",
    "# ... (Previous code for reading and preprocessing the data)\n",
    "\n",
    "# Convert the data into numerical format\n",
    "X_train = X_train.astype(np.float32)\n",
    "X_test = X_test.astype(np.float32)\n",
    "y_train = y_train.astype(np.float32)\n",
    "y_test = y_test.astype(np.float32)\n",
    "\n",
    "# Reshape the input data for LSTM\n",
    "time_steps = 1  # Each sample is treated as a single time step\n",
    "X_train_lstm = X_train.reshape(X_train.shape[0], time_steps, X_train.shape[1])\n",
    "X_test_lstm = X_test.reshape(X_test.shape[0], time_steps, X_test.shape[1])\n",
    "\n",
    "# Create the LSTM model\n",
    "lstm_model = Sequential()\n",
    "lstm_model.add(LSTM(32, input_shape=(time_steps, X_train.shape[1])))\n",
    "lstm_model.add(Dense(16, activation='relu'))\n",
    "lstm_model.add(Dense(3, activation='sigmoid'))  # Assuming binary classification\n",
    "\n",
    "# Compile the model\n",
    "lstm_model.compile(loss='binary_crossentropy', optimizer='adam', metrics=['accuracy'])\n",
    "\n",
    "# Train the model\n",
    "lstm_model.fit(X_train_lstm, y_train, epochs=50, batch_size=32, verbose=1)\n",
    "\n",
    "# Make predictions on the test set\n",
    "y_pred_lstm = lstm_model.predict(X_test_lstm)\n",
    "y_pred_lstm = np.round(y_pred_lstm).astype(int).flatten()  # Convert probabilities to binary predictions\n",
    "\n",
    "# Calculate the accuracy of the LSTM model\n",
    "accuracy_lstm = accuracy_score(y_test, y_pred_lstm)\n",
    "print(\"LSTM Accuracy:\", accuracy_lstm)\n"
   ]
  }
 ],
 "metadata": {
  "colab": {
   "provenance": [],
   "toc_visible": true
  },
  "kernelspec": {
   "display_name": "Python 3 (ipykernel)",
   "language": "python",
   "name": "python3"
  },
  "language_info": {
   "codemirror_mode": {
    "name": "ipython",
    "version": 3
   },
   "file_extension": ".py",
   "mimetype": "text/x-python",
   "name": "python",
   "nbconvert_exporter": "python",
   "pygments_lexer": "ipython3",
   "version": "3.11.9"
  }
 },
 "nbformat": 4,
 "nbformat_minor": 4
}
