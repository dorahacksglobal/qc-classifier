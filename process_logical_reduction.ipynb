{
 "cells": [
  {
   "cell_type": "code",
   "execution_count": 1,
   "id": "3b4e6b2b-69f5-4524-9ae4-01f0e17cd756",
   "metadata": {},
   "outputs": [],
   "source": [
    "import pandas as pd\n",
    "import numpy as np\n",
    "import scipy as sp\n",
    "import matplotlib.pyplot as plt "
   ]
  },
  {
   "cell_type": "markdown",
   "id": "18981536-327f-4a3e-a947-00f112e4f8f5",
   "metadata": {},
   "source": [
    "[dorahacks github repo](https://github.com/dorahacksglobal/qc-classifier)"
   ]
  },
  {
   "cell_type": "markdown",
   "id": "6e7482f3-9398-4e6c-b03f-8dc691f23621",
   "metadata": {},
   "source": [
    "<center> $a_ib_i$ circuit </center>\n",
    "\n",
    "|     |a = 0|a = 1|\n",
    "|:----|-----|-----|\n",
    "|b = 0|<img src=\"https://github.com/dorahacksglobal/quantum-randomness-generator/blob/d45624616a57a8b98da2ad85b4aa254855ce1202/README_pic/a0b0_circuit.png?raw=true\" width=\"400\"/>|<img src=\"https://github.com/dorahacksglobal/quantum-randomness-generator/blob/d45624616a57a8b98da2ad85b4aa254855ce1202/README_pic/a1b0_circuit.png?raw=true\" width=\"400\"/>|\n",
    "|b = 1|<img src=\"https://github.com/dorahacksglobal/quantum-randomness-generator/blob/d45624616a57a8b98da2ad85b4aa254855ce1202/README_pic/a0b1_circuit.png?raw=true\" width=\"400\"/>|<img src=\"https://github.com/dorahacksglobal/quantum-randomness-generator/blob/d45624616a57a8b98da2ad85b4aa254855ce1202/README_pic/a1b1_circuit.png?raw=true\" width=\"400\"/>|"
   ]
  },
  {
   "cell_type": "markdown",
   "id": "532d9ad0-2b96-4a5f-b1de-1cb177c4ef33",
   "metadata": {},
   "source": [
    "### functions for analysis"
   ]
  },
  {
   "cell_type": "code",
   "execution_count": 2,
   "id": "caec1994-ce6b-427b-9ac8-bdd7db3e9c73",
   "metadata": {
    "jupyter": {
     "source_hidden": true
    }
   },
   "outputs": [],
   "source": [
    "# function to produce a list of windows from a word\n",
    "# window size is n, and stepping dx at a time\n",
    "# assumed: len(word) > n > dx\n",
    "def window(word, n=1, dx=1):\n",
    "    return [\n",
    "        word[i : i + n]\n",
    "        for i in range(0, len(word) - n + 1, dx)\n",
    "    ]\n"
   ]
  },
  {
   "cell_type": "code",
   "execution_count": 22,
   "id": "9afb2186-f095-46ce-9603-8867fdf81019",
   "metadata": {
    "collapsed": true,
    "jupyter": {
     "outputs_hidden": true,
     "source_hidden": true
    }
   },
   "outputs": [
    {
     "data": {
      "text/plain": [
       "'0110'"
      ]
     },
     "execution_count": 22,
     "metadata": {},
     "output_type": "execute_result"
    }
   ],
   "source": [
    "# xor between two bitstrings (str, /[01]*/)\n",
    "def logic_xor(a, b):\n",
    "    return ''.join([\n",
    "        str(i)\n",
    "        for i in np.array([int(x) for x in a]) ^ np.array([int(x) for x in b])\n",
    "    ])\n",
    "\n",
    "logic_xor('1010', '1100')"
   ]
  },
  {
   "cell_type": "code",
   "execution_count": 23,
   "id": "14b1daee-acb2-4250-9fbc-10836ff1e302",
   "metadata": {
    "jupyter": {
     "source_hidden": true
    },
    "scrolled": true
   },
   "outputs": [],
   "source": [
    "# create sequential XOR series\n",
    "# Series(1,2,...,n) -> Series(1^2, 2^3, ..., n-1^n)\n",
    "def reduce1(s):\n",
    "    return pd.Series([\n",
    "        logic_xor(*bti)\n",
    "        for bti in window(s, 2, 2)\n",
    "    ])\n"
   ]
  },
  {
   "cell_type": "markdown",
   "id": "d82961f5-ed2e-45cd-b0aa-171ccb034ced",
   "metadata": {},
   "source": [
    "## [ 2-qubit bell pair generator ](AI_2qubits_training_data.txt)?"
   ]
  },
  {
   "cell_type": "markdown",
   "id": "5a181e88-0b45-47fb-9922-17db9ac0dc21",
   "metadata": {},
   "source": [
    "### read & process data"
   ]
  },
  {
   "cell_type": "code",
   "execution_count": 5,
   "id": "9ba658b3-2034-473c-a9a2-30bab20c265e",
   "metadata": {
    "collapsed": true,
    "jupyter": {
     "outputs_hidden": true,
     "source_hidden": true
    },
    "scrolled": true
   },
   "outputs": [
    {
     "data": {
      "text/html": [
       "<div>\n",
       "<style scoped>\n",
       "    .dataframe tbody tr th:only-of-type {\n",
       "        vertical-align: middle;\n",
       "    }\n",
       "\n",
       "    .dataframe tbody tr th {\n",
       "        vertical-align: top;\n",
       "    }\n",
       "\n",
       "    .dataframe thead th {\n",
       "        text-align: right;\n",
       "    }\n",
       "</style>\n",
       "<table border=\"1\" class=\"dataframe\">\n",
       "  <thead>\n",
       "    <tr style=\"text-align: right;\">\n",
       "      <th></th>\n",
       "      <th>bitstring</th>\n",
       "      <th>label</th>\n",
       "    </tr>\n",
       "  </thead>\n",
       "  <tbody>\n",
       "    <tr>\n",
       "      <th>0</th>\n",
       "      <td>0100111111110000000000101110100011011011110000...</td>\n",
       "      <td>1</td>\n",
       "    </tr>\n",
       "    <tr>\n",
       "      <th>1</th>\n",
       "      <td>0110011011110001111110001000001110011110011100...</td>\n",
       "      <td>1</td>\n",
       "    </tr>\n",
       "    <tr>\n",
       "      <th>2</th>\n",
       "      <td>1110100101110111111101101100110101111101010001...</td>\n",
       "      <td>1</td>\n",
       "    </tr>\n",
       "    <tr>\n",
       "      <th>3</th>\n",
       "      <td>1101000011100100011101001110111100011110100111...</td>\n",
       "      <td>1</td>\n",
       "    </tr>\n",
       "    <tr>\n",
       "      <th>4</th>\n",
       "      <td>0000000000100101001101100000101000101110110001...</td>\n",
       "      <td>1</td>\n",
       "    </tr>\n",
       "    <tr>\n",
       "      <th>...</th>\n",
       "      <td>...</td>\n",
       "      <td>...</td>\n",
       "    </tr>\n",
       "    <tr>\n",
       "      <th>13995</th>\n",
       "      <td>1111010111001101111011010000011011100100111100...</td>\n",
       "      <td>4</td>\n",
       "    </tr>\n",
       "    <tr>\n",
       "      <th>13996</th>\n",
       "      <td>0101100011000001111011001010001101110100000101...</td>\n",
       "      <td>4</td>\n",
       "    </tr>\n",
       "    <tr>\n",
       "      <th>13997</th>\n",
       "      <td>1100111100111101111000001100010010001111111011...</td>\n",
       "      <td>4</td>\n",
       "    </tr>\n",
       "    <tr>\n",
       "      <th>13998</th>\n",
       "      <td>1101110000111110011101001100111100001011000010...</td>\n",
       "      <td>4</td>\n",
       "    </tr>\n",
       "    <tr>\n",
       "      <th>13999</th>\n",
       "      <td>0011110100001000001111000000001100111011000001...</td>\n",
       "      <td>4</td>\n",
       "    </tr>\n",
       "  </tbody>\n",
       "</table>\n",
       "<p>14000 rows × 2 columns</p>\n",
       "</div>"
      ],
      "text/plain": [
       "                                               bitstring  label\n",
       "0      0100111111110000000000101110100011011011110000...      1\n",
       "1      0110011011110001111110001000001110011110011100...      1\n",
       "2      1110100101110111111101101100110101111101010001...      1\n",
       "3      1101000011100100011101001110111100011110100111...      1\n",
       "4      0000000000100101001101100000101000101110110001...      1\n",
       "...                                                  ...    ...\n",
       "13995  1111010111001101111011010000011011100100111100...      4\n",
       "13996  0101100011000001111011001010001101110100000101...      4\n",
       "13997  1100111100111101111000001100010010001111111011...      4\n",
       "13998  1101110000111110011101001100111100001011000010...      4\n",
       "13999  0011110100001000001111000000001100111011000001...      4\n",
       "\n",
       "[14000 rows x 2 columns]"
      ]
     },
     "execution_count": 5,
     "metadata": {},
     "output_type": "execute_result"
    }
   ],
   "source": [
    "# read file with space separator and add column names\n",
    "df = pd.read_csv(\n",
    "    'AI_2qubits_training_data.txt',\n",
    "    delimiter = ' ',\n",
    "    names = ['bitstring', 'label']\n",
    ")\n",
    "df"
   ]
  },
  {
   "cell_type": "code",
   "execution_count": 6,
   "id": "84a4be11-647f-46d3-a031-5f8a217b5a6b",
   "metadata": {
    "collapsed": true,
    "jupyter": {
     "outputs_hidden": true,
     "source_hidden": true
    }
   },
   "outputs": [
    {
     "data": {
      "text/plain": [
       "label\n",
       "1    0100111111110000000000101110100011011011110000...\n",
       "2    0110011100111011110010111100100101000101101111...\n",
       "3    1001000011110111101011010100111001000001001100...\n",
       "4    0011011101000100100001010011110010000001000111...\n",
       "Name: bitstring, dtype: object"
      ]
     },
     "execution_count": 6,
     "metadata": {},
     "output_type": "execute_result"
    }
   ],
   "source": [
    "# concatenate(squash) all shots by machine label\n",
    "dfs = df.groupby('label').bitstring.apply(''.join)\n",
    "dfs"
   ]
  },
  {
   "cell_type": "markdown",
   "id": "bf208019-e03d-46c1-b4ca-2b45a07a860e",
   "metadata": {},
   "source": [
    "### create windows"
   ]
  },
  {
   "cell_type": "code",
   "execution_count": 21,
   "id": "f8758e05-51be-44ae-a3f4-d9f13057405b",
   "metadata": {
    "collapsed": true,
    "jupyter": {
     "outputs_hidden": true,
     "source_hidden": true
    },
    "scrolled": true
   },
   "outputs": [
    {
     "data": {
      "text/plain": [
       "{1: 0        0100\n",
       " 1        1111\n",
       " 2        1111\n",
       " 3        0000\n",
       " 4        0000\n",
       "          ... \n",
       " 49995    1110\n",
       " 49996    0000\n",
       " 49997    0101\n",
       " 49998    0100\n",
       " 49999    0100\n",
       " Name: bitstring, Length: 50000, dtype: object,\n",
       " 2: 0        0110\n",
       " 1        0111\n",
       " 2        0011\n",
       " 3        1011\n",
       " 4        1100\n",
       "          ... \n",
       " 49995    0101\n",
       " 49996    0101\n",
       " 49997    0010\n",
       " 49998    1101\n",
       " 49999    1011\n",
       " Name: bitstring, Length: 50000, dtype: object,\n",
       " 3: 0        1001\n",
       " 1        0000\n",
       " 2        1111\n",
       " 3        0111\n",
       " 4        1010\n",
       "          ... \n",
       " 49995    1011\n",
       " 49996    1001\n",
       " 49997    0011\n",
       " 49998    1100\n",
       " 49999    1100\n",
       " Name: bitstring, Length: 50000, dtype: object,\n",
       " 4: 0         0011\n",
       " 1         0111\n",
       " 2         0100\n",
       " 3         0100\n",
       " 4         1000\n",
       "           ... \n",
       " 199995    0010\n",
       " 199996    1111\n",
       " 199997    1100\n",
       " 199998    0011\n",
       " 199999    0111\n",
       " Name: bitstring, Length: 200000, dtype: object}"
      ]
     },
     "execution_count": 21,
     "metadata": {},
     "output_type": "execute_result"
    }
   ],
   "source": [
    "# split the bitstrings into windows per estimated observation\n",
    "window_len  = 4\n",
    "window_size = 4\n",
    "\n",
    "bitstrings = {\n",
    "    label : df.bitstring.reset_index().bitstring\n",
    "    for (label, df) in dfs.apply(lambda x: window(x, window_len, window_size)).explode().reset_index().groupby('label')\n",
    "}\n",
    "\n",
    "bitstrings"
   ]
  },
  {
   "cell_type": "code",
   "execution_count": 8,
   "id": "04bdffec-7790-42b2-85fb-a034e5f38af8",
   "metadata": {
    "jupyter": {
     "source_hidden": true
    },
    "scrolled": true
   },
   "outputs": [],
   "source": [
    "# xor consecutive windows\n",
    "bitstrings_xor = {\n",
    "    i: reduce1(b)\n",
    "    for (i, b) in bitstrings.items()\n",
    "}"
   ]
  },
  {
   "cell_type": "markdown",
   "id": "ed076307-406c-4d48-ad54-7146d02e6eb4",
   "metadata": {},
   "source": [
    "### testing"
   ]
  },
  {
   "cell_type": "code",
   "execution_count": 9,
   "id": "7149e445-fa9f-4ec3-a2c8-114aa2e12583",
   "metadata": {
    "jupyter": {
     "source_hidden": true
    }
   },
   "outputs": [],
   "source": [
    "# function to run stat tests\n",
    "def test_mat(mat):\n",
    "    from itertools import combinations as comb\n",
    "    \n",
    "    for (x, y) in comb(range(4), 2):\n",
    "\n",
    "        test1 = sp.stats.mannwhitneyu(\n",
    "            x = mat[x + 1],\n",
    "            y = mat[y + 1],\n",
    "        )\n",
    "        \n",
    "        test2 = None\n",
    "        # test2 = sp.stats.brunnermunzel(\n",
    "        #     x = mat[x + 1],\n",
    "        #     y = mat[y + 1],\n",
    "        #     distribution = 'normal'\n",
    "        # )\n",
    "        \n",
    "        print(x+1, y+1, test1, test2)"
   ]
  },
  {
   "cell_type": "code",
   "execution_count": 25,
   "id": "0f2d0bc6-8b99-42c9-8b95-10f42c80aaa7",
   "metadata": {
    "jupyter": {
     "source_hidden": true
    },
    "scrolled": true
   },
   "outputs": [],
   "source": [
    "# make a table: machine × bitstring\n",
    "def counts_mat_maker(series_map):\n",
    "    ans = pd.DataFrame()\n",
    "    for (i, b) in series_map.items():\n",
    "        cts = b.value_counts()\n",
    "        cts = cts.rename(i)\n",
    "        ans = pd.concat([ans, cts], axis=1)\n",
    "    return ans"
   ]
  },
  {
   "cell_type": "code",
   "execution_count": 24,
   "id": "a4445544-15c8-435a-9133-45aa5772e991",
   "metadata": {
    "collapsed": true,
    "jupyter": {
     "outputs_hidden": true,
     "source_hidden": true
    }
   },
   "outputs": [
    {
     "data": {
      "text/html": [
       "<div>\n",
       "<style scoped>\n",
       "    .dataframe tbody tr th:only-of-type {\n",
       "        vertical-align: middle;\n",
       "    }\n",
       "\n",
       "    .dataframe tbody tr th {\n",
       "        vertical-align: top;\n",
       "    }\n",
       "\n",
       "    .dataframe thead th {\n",
       "        text-align: right;\n",
       "    }\n",
       "</style>\n",
       "<table border=\"1\" class=\"dataframe\">\n",
       "  <thead>\n",
       "    <tr style=\"text-align: right;\">\n",
       "      <th></th>\n",
       "      <th>1</th>\n",
       "      <th>2</th>\n",
       "      <th>3</th>\n",
       "      <th>4</th>\n",
       "    </tr>\n",
       "  </thead>\n",
       "  <tbody>\n",
       "    <tr>\n",
       "      <th>1111</th>\n",
       "      <td>5391</td>\n",
       "      <td>6105</td>\n",
       "      <td>3281</td>\n",
       "      <td>21864</td>\n",
       "    </tr>\n",
       "    <tr>\n",
       "      <th>1101</th>\n",
       "      <td>4309</td>\n",
       "      <td>4645</td>\n",
       "      <td>2769</td>\n",
       "      <td>12745</td>\n",
       "    </tr>\n",
       "    <tr>\n",
       "      <th>0111</th>\n",
       "      <td>4221</td>\n",
       "      <td>4578</td>\n",
       "      <td>2967</td>\n",
       "      <td>12774</td>\n",
       "    </tr>\n",
       "    <tr>\n",
       "      <th>0011</th>\n",
       "      <td>3857</td>\n",
       "      <td>3906</td>\n",
       "      <td>3540</td>\n",
       "      <td>21690</td>\n",
       "    </tr>\n",
       "    <tr>\n",
       "      <th>1100</th>\n",
       "      <td>3767</td>\n",
       "      <td>3819</td>\n",
       "      <td>3503</td>\n",
       "      <td>21435</td>\n",
       "    </tr>\n",
       "    <tr>\n",
       "      <th>0101</th>\n",
       "      <td>3446</td>\n",
       "      <td>3394</td>\n",
       "      <td>2380</td>\n",
       "      <td>7534</td>\n",
       "    </tr>\n",
       "    <tr>\n",
       "      <th>0001</th>\n",
       "      <td>3029</td>\n",
       "      <td>3079</td>\n",
       "      <td>3050</td>\n",
       "      <td>12531</td>\n",
       "    </tr>\n",
       "    <tr>\n",
       "      <th>0100</th>\n",
       "      <td>2972</td>\n",
       "      <td>2821</td>\n",
       "      <td>3080</td>\n",
       "      <td>12319</td>\n",
       "    </tr>\n",
       "    <tr>\n",
       "      <th>1110</th>\n",
       "      <td>2897</td>\n",
       "      <td>2940</td>\n",
       "      <td>3283</td>\n",
       "      <td>10072</td>\n",
       "    </tr>\n",
       "    <tr>\n",
       "      <th>1011</th>\n",
       "      <td>2883</td>\n",
       "      <td>2946</td>\n",
       "      <td>3187</td>\n",
       "      <td>10260</td>\n",
       "    </tr>\n",
       "    <tr>\n",
       "      <th>0000</th>\n",
       "      <td>2763</td>\n",
       "      <td>2348</td>\n",
       "      <td>3753</td>\n",
       "      <td>20741</td>\n",
       "    </tr>\n",
       "    <tr>\n",
       "      <th>0110</th>\n",
       "      <td>2375</td>\n",
       "      <td>2150</td>\n",
       "      <td>2702</td>\n",
       "      <td>5788</td>\n",
       "    </tr>\n",
       "    <tr>\n",
       "      <th>1001</th>\n",
       "      <td>2320</td>\n",
       "      <td>2176</td>\n",
       "      <td>2723</td>\n",
       "      <td>5790</td>\n",
       "    </tr>\n",
       "    <tr>\n",
       "      <th>0010</th>\n",
       "      <td>2109</td>\n",
       "      <td>1870</td>\n",
       "      <td>3365</td>\n",
       "      <td>9832</td>\n",
       "    </tr>\n",
       "    <tr>\n",
       "      <th>1000</th>\n",
       "      <td>2104</td>\n",
       "      <td>1828</td>\n",
       "      <td>3396</td>\n",
       "      <td>9896</td>\n",
       "    </tr>\n",
       "    <tr>\n",
       "      <th>1010</th>\n",
       "      <td>1557</td>\n",
       "      <td>1395</td>\n",
       "      <td>3021</td>\n",
       "      <td>4729</td>\n",
       "    </tr>\n",
       "  </tbody>\n",
       "</table>\n",
       "</div>"
      ],
      "text/plain": [
       "         1     2     3      4\n",
       "1111  5391  6105  3281  21864\n",
       "1101  4309  4645  2769  12745\n",
       "0111  4221  4578  2967  12774\n",
       "0011  3857  3906  3540  21690\n",
       "1100  3767  3819  3503  21435\n",
       "0101  3446  3394  2380   7534\n",
       "0001  3029  3079  3050  12531\n",
       "0100  2972  2821  3080  12319\n",
       "1110  2897  2940  3283  10072\n",
       "1011  2883  2946  3187  10260\n",
       "0000  2763  2348  3753  20741\n",
       "0110  2375  2150  2702   5788\n",
       "1001  2320  2176  2723   5790\n",
       "0010  2109  1870  3365   9832\n",
       "1000  2104  1828  3396   9896\n",
       "1010  1557  1395  3021   4729"
      ]
     },
     "execution_count": 24,
     "metadata": {},
     "output_type": "execute_result"
    }
   ],
   "source": [
    "counts_mat = counts_mat_maker(bitstrings)\n",
    "counts_mat"
   ]
  },
  {
   "cell_type": "code",
   "execution_count": 11,
   "id": "853b0bba-e35f-45ef-89d8-2f39d025bcb1",
   "metadata": {
    "collapsed": true,
    "jupyter": {
     "outputs_hidden": true,
     "source_hidden": true
    },
    "scrolled": true
   },
   "outputs": [
    {
     "data": {
      "text/html": [
       "<div>\n",
       "<style scoped>\n",
       "    .dataframe tbody tr th:only-of-type {\n",
       "        vertical-align: middle;\n",
       "    }\n",
       "\n",
       "    .dataframe tbody tr th {\n",
       "        vertical-align: top;\n",
       "    }\n",
       "\n",
       "    .dataframe thead th {\n",
       "        text-align: right;\n",
       "    }\n",
       "</style>\n",
       "<table border=\"1\" class=\"dataframe\">\n",
       "  <thead>\n",
       "    <tr style=\"text-align: right;\">\n",
       "      <th></th>\n",
       "      <th>1</th>\n",
       "      <th>2</th>\n",
       "      <th>3</th>\n",
       "      <th>4</th>\n",
       "    </tr>\n",
       "  </thead>\n",
       "  <tbody>\n",
       "    <tr>\n",
       "      <th>0010</th>\n",
       "      <td>1742</td>\n",
       "      <td>1784</td>\n",
       "      <td>1616</td>\n",
       "      <td>6094</td>\n",
       "    </tr>\n",
       "    <tr>\n",
       "      <th>0100</th>\n",
       "      <td>1657</td>\n",
       "      <td>1579</td>\n",
       "      <td>1540</td>\n",
       "      <td>6140</td>\n",
       "    </tr>\n",
       "    <tr>\n",
       "      <th>1100</th>\n",
       "      <td>1634</td>\n",
       "      <td>1568</td>\n",
       "      <td>1560</td>\n",
       "      <td>7485</td>\n",
       "    </tr>\n",
       "    <tr>\n",
       "      <th>0000</th>\n",
       "      <td>1629</td>\n",
       "      <td>1876</td>\n",
       "      <td>1576</td>\n",
       "      <td>7488</td>\n",
       "    </tr>\n",
       "    <tr>\n",
       "      <th>0011</th>\n",
       "      <td>1610</td>\n",
       "      <td>1611</td>\n",
       "      <td>1541</td>\n",
       "      <td>7343</td>\n",
       "    </tr>\n",
       "    <tr>\n",
       "      <th>1010</th>\n",
       "      <td>1604</td>\n",
       "      <td>1678</td>\n",
       "      <td>1591</td>\n",
       "      <td>5163</td>\n",
       "    </tr>\n",
       "    <tr>\n",
       "      <th>1000</th>\n",
       "      <td>1584</td>\n",
       "      <td>1675</td>\n",
       "      <td>1561</td>\n",
       "      <td>6399</td>\n",
       "    </tr>\n",
       "    <tr>\n",
       "      <th>0001</th>\n",
       "      <td>1551</td>\n",
       "      <td>1615</td>\n",
       "      <td>1524</td>\n",
       "      <td>6182</td>\n",
       "    </tr>\n",
       "    <tr>\n",
       "      <th>1011</th>\n",
       "      <td>1544</td>\n",
       "      <td>1439</td>\n",
       "      <td>1545</td>\n",
       "      <td>6269</td>\n",
       "    </tr>\n",
       "    <tr>\n",
       "      <th>1110</th>\n",
       "      <td>1532</td>\n",
       "      <td>1551</td>\n",
       "      <td>1584</td>\n",
       "      <td>6309</td>\n",
       "    </tr>\n",
       "    <tr>\n",
       "      <th>0111</th>\n",
       "      <td>1528</td>\n",
       "      <td>1420</td>\n",
       "      <td>1571</td>\n",
       "      <td>6129</td>\n",
       "    </tr>\n",
       "    <tr>\n",
       "      <th>1001</th>\n",
       "      <td>1528</td>\n",
       "      <td>1406</td>\n",
       "      <td>1579</td>\n",
       "      <td>5077</td>\n",
       "    </tr>\n",
       "    <tr>\n",
       "      <th>1111</th>\n",
       "      <td>1494</td>\n",
       "      <td>1481</td>\n",
       "      <td>1567</td>\n",
       "      <td>7532</td>\n",
       "    </tr>\n",
       "    <tr>\n",
       "      <th>1101</th>\n",
       "      <td>1476</td>\n",
       "      <td>1402</td>\n",
       "      <td>1586</td>\n",
       "      <td>6101</td>\n",
       "    </tr>\n",
       "    <tr>\n",
       "      <th>0110</th>\n",
       "      <td>1472</td>\n",
       "      <td>1502</td>\n",
       "      <td>1507</td>\n",
       "      <td>5172</td>\n",
       "    </tr>\n",
       "    <tr>\n",
       "      <th>0101</th>\n",
       "      <td>1415</td>\n",
       "      <td>1413</td>\n",
       "      <td>1552</td>\n",
       "      <td>5117</td>\n",
       "    </tr>\n",
       "  </tbody>\n",
       "</table>\n",
       "</div>"
      ],
      "text/plain": [
       "         1     2     3     4\n",
       "0010  1742  1784  1616  6094\n",
       "0100  1657  1579  1540  6140\n",
       "1100  1634  1568  1560  7485\n",
       "0000  1629  1876  1576  7488\n",
       "0011  1610  1611  1541  7343\n",
       "1010  1604  1678  1591  5163\n",
       "1000  1584  1675  1561  6399\n",
       "0001  1551  1615  1524  6182\n",
       "1011  1544  1439  1545  6269\n",
       "1110  1532  1551  1584  6309\n",
       "0111  1528  1420  1571  6129\n",
       "1001  1528  1406  1579  5077\n",
       "1111  1494  1481  1567  7532\n",
       "1101  1476  1402  1586  6101\n",
       "0110  1472  1502  1507  5172\n",
       "0101  1415  1413  1552  5117"
      ]
     },
     "execution_count": 11,
     "metadata": {},
     "output_type": "execute_result"
    }
   ],
   "source": [
    "counts_xor_mat = counts_mat_maker(bitstrings_xor)\n",
    "counts_xor_mat"
   ]
  },
  {
   "cell_type": "code",
   "execution_count": 12,
   "id": "d272bc8d-fcc7-4cdd-99e3-7d78e331a5eb",
   "metadata": {
    "jupyter": {
     "source_hidden": true
    }
   },
   "outputs": [
    {
     "name": "stdout",
     "output_type": "stream",
     "text": [
      "1 2 MannwhitneyuResult(statistic=131.0, pvalue=0.9249325745653402) None\n",
      "1 3 MannwhitneyuResult(statistic=115.0, pvalue=0.6375611304257702) None\n",
      "1 4 MannwhitneyuResult(statistic=1.0, pvalue=1.8638894005781834e-06) None\n",
      "2 3 MannwhitneyuResult(statistic=111.0, pvalue=0.5340292284243271) None\n",
      "2 4 MannwhitneyuResult(statistic=3.0, pvalue=2.7018981894818364e-06) None\n",
      "3 4 MannwhitneyuResult(statistic=0.0, pvalue=1.5449101737495915e-06) None\n"
     ]
    }
   ],
   "source": [
    "test_mat(counts_mat)"
   ]
  },
  {
   "cell_type": "code",
   "execution_count": 13,
   "id": "1de305fd-c6b8-4a99-a1fe-e3a98f27217c",
   "metadata": {
    "jupyter": {
     "source_hidden": true
    }
   },
   "outputs": [
    {
     "name": "stdout",
     "output_type": "stream",
     "text": [
      "1 2 MannwhitneyuResult(statistic=134.5, pvalue=0.8210653399253179) None\n",
      "1 3 MannwhitneyuResult(statistic=121.5, pvalue=0.8210653399253179) None\n",
      "1 4 MannwhitneyuResult(statistic=0.0, pvalue=1.541512705218063e-06) None\n",
      "2 3 MannwhitneyuResult(statistic=119.5, pvalue=0.7630035309380625) None\n",
      "2 4 MannwhitneyuResult(statistic=0.0, pvalue=1.5449101737495915e-06) None\n",
      "3 4 MannwhitneyuResult(statistic=0.0, pvalue=1.5449101737495915e-06) None\n"
     ]
    }
   ],
   "source": [
    "test_mat(counts_xor_mat)"
   ]
  },
  {
   "cell_type": "markdown",
   "id": "833bba5b-962b-43d6-a6ae-765461f421b4",
   "metadata": {},
   "source": [
    "### plots of dists"
   ]
  },
  {
   "cell_type": "code",
   "execution_count": 26,
   "id": "538ba0bd-daab-4f61-bd6f-d96a700f5b4d",
   "metadata": {
    "jupyter": {
     "source_hidden": true
    }
   },
   "outputs": [],
   "source": [
    "# plot 4 sets at a time\n",
    "def plot4b(bitstrings, mapping):\n",
    "    n = len(bitstrings)\n",
    "    fig, axs = plt.subplots(1, n, sharey=True, tight_layout=True, figsize=(3*n, 4))\n",
    "    for (i, b) in bitstrings.items():\n",
    "        prop = mapping(b).sort_index()\n",
    "        prop.plot.bar(ax = axs[i - 1], title = str(i), legend = False, width=1)\n",
    "        # axs[i-1].set_xticklabels(bit)"
   ]
  },
  {
   "cell_type": "code",
   "execution_count": 15,
   "id": "6139d972-b818-43f5-a656-4826188a466c",
   "metadata": {},
   "outputs": [],
   "source": [
    "# why no norm, numpy?\n",
    "def np_norm(x, l=2):\n",
    "    return x / np.power(np.sum(np.power(x, l)), 1/l)\n",
    "\n",
    "np.norm = np_norm"
   ]
  },
  {
   "cell_type": "code",
   "execution_count": 27,
   "id": "7b0070a3-eabb-406a-bfa8-973d021c2ed3",
   "metadata": {
    "scrolled": true
   },
   "outputs": [
    {
     "data": {
      "image/png": "[encoded data removed]",
      "text/plain": [
       "<Figure size 1200x400 with 4 Axes>"
      ]
     },
     "metadata": {},
     "output_type": "display_data"
    },
    {
     "data": {
      "image/png": "[encoded data removed]",
      "text/plain": [
       "<Figure size 1200x400 with 4 Axes>"
      ]
     },
     "metadata": {},
     "output_type": "display_data"
    }
   ],
   "source": [
    "# plot proportions\n",
    "\n",
    "# probability sum = 1 vector\n",
    "plot4b(bitstrings, lambda s: np.norm(s.value_counts(), l=1))\n",
    "\n",
    "# \"normal\" vector\n",
    "plot4b(bitstrings, lambda s: np.norm(s.value_counts(), l=2))"
   ]
  },
  {
   "cell_type": "code",
   "execution_count": 28,
   "id": "571a5d39-cb32-4de8-ac05-41e6a30c5cc0",
   "metadata": {
    "scrolled": true
   },
   "outputs": [
    {
     "data": {
      "image/png": "[encoded data removed]",
      "text/plain": [
       "<Figure size 1200x400 with 4 Axes>"
      ]
     },
     "metadata": {},
     "output_type": "display_data"
    },
    {
     "data": {
      "image/png": "[encoded data removed]",
      "text/plain": [
       "<Figure size 1200x400 with 4 Axes>"
      ]
     },
     "metadata": {},
     "output_type": "display_data"
    }
   ],
   "source": [
    "# plot proportions minus average\n",
    "\n",
    "# uniform bitstring vector under level-l norm\n",
    "def uniform(bits=window_size, l=1):\n",
    "    keys = np.norm([ 1 ] * (2 ** bits), l)\n",
    "    name = [\n",
    "        f'{i:0{bits}b}'\n",
    "        for i in range(2 ** bits)\n",
    "    ]\n",
    "    return pd.Series(keys, index = name).T\n",
    "\n",
    "# probability sum = 1 vector\n",
    "plot4b(bitstrings, lambda s: np.norm(s.value_counts(), l=1) - uniform(l=1))\n",
    "\n",
    "# \"normal\" vector\n",
    "plot4b(bitstrings, lambda s: np.norm(s.value_counts(), l=2) - uniform(l=2))"
   ]
  },
  {
   "cell_type": "markdown",
   "id": "52d5a77e-15f7-4174-a886-8d80944a4d3a",
   "metadata": {},
   "source": [
    "helpful formulae\n",
    "![mean/stddev](https://external-content.duckduckgo.com/iu/?u=https%3A%2F%2Fstatic.wixstatic.com%2Fmedia%2F4c04a2_1e9815ff4ec54f14ad22fa5f526269a9~mv2.png%2Fv1%2Ffill%2Fw_980%2Ch_283%2Cal_c%2Cq_85%2Cusm_0.66_1.00_0.01%2Cenc_auto%2F4c04a2_1e9815ff4ec54f14ad22fa5f526269a9~mv2.png&f=1&nofb=1&ipt=36b6f005fa10ded28bbfdc26a3c98ee6c74b23c00c1497add08eb53712b48b9f&ipo=images)"
   ]
  },
  {
   "cell_type": "code",
   "execution_count": 30,
   "id": "8a657cb8-b9a6-4af8-98ee-6a5c1de6cc38",
   "metadata": {},
   "outputs": [
    {
     "data": {
      "image/png": "[encoded data removed]",
      "text/plain": [
       "<Figure size 1200x400 with 4 Axes>"
      ]
     },
     "metadata": {},
     "output_type": "display_data"
    }
   ],
   "source": [
    "# maybe better scaling: Z(/t?)-scores\n",
    "plot4b(bitstrings, lambda s: (s.value_counts() - s.value_counts().mean()) / s.value_counts().std())"
   ]
  },
  {
   "cell_type": "code",
   "execution_count": 31,
   "id": "6505105d-cb07-4c73-8da5-abd9194ff7a6",
   "metadata": {
    "collapsed": true,
    "jupyter": {
     "outputs_hidden": true,
     "source_hidden": true
    },
    "scrolled": true
   },
   "outputs": [
    {
     "data": {
      "image/png": "[encoded data removed]",
      "text/plain": [
       "<Figure size 1200x400 with 4 Axes>"
      ]
     },
     "metadata": {},
     "output_type": "display_data"
    }
   ],
   "source": [
    "# i lost track of this\n",
    "\n",
    "summ = pd.concat(bitstrings.values()).reset_index().bitstring\n",
    "std = summ.value_counts().std()\n",
    "# std = sum([\n",
    "#     df.bitstring.value_counts().std() ** 2 / len(df.bitstring)\n",
    "#     for (i,df) in dfi.items()\n",
    "# ])\n",
    "n = len(summ)\n",
    "# n = sum([\n",
    "#     len(df.bitstring)\n",
    "#     for (i,df) in dfi.items()\n",
    "# ])\n",
    "mean = summ.value_counts().mean()\n",
    "#sum([\n",
    "    #df.bitstring.value_counts().mean()\n",
    "    #/ len(df.bitstring.value_counts())\n",
    "    #for (i,df) in dfi.items()\n",
    "#]) * \n",
    "[mean, std, n]\n",
    "plot4b(bitstrings, lambda s: (s.value_counts() - mean) / std)"
   ]
  }
 ],
 "metadata": {
  "kernelspec": {
   "display_name": "Python 3 (ipykernel)",
   "language": "python",
   "name": "python3"
  },
  "language_info": {
   "codemirror_mode": {
    "name": "ipython",
    "version": 3
   },
   "file_extension": ".py",
   "mimetype": "text/x-python",
   "name": "python",
   "nbconvert_exporter": "python",
   "pygments_lexer": "ipython3",
   "version": "3.11.9"
  }
 },
 "nbformat": 4,
 "nbformat_minor": 5
}
